{
 "cells": [
  {
   "cell_type": "markdown",
   "metadata": {},
   "source": [
    "## Summary\n",
    "\n",
    "<p>\n",
    "The <a href=\"https://worldhappiness.report/ed/2018/\">World Happiness Report</a> is a landmark survey of the state of global happiness that ranks more than 150 countries by how happy their citizens perceive themselves to be. The report assigns each country a happiness score based on the answers to a poll question that asks respondents to rank their life on a scale of 0 - 10.\n",
    "</p>\n",
    "\n",
    "<p>    \n",
    "Further more the report contains assumptions about contributing factors like economic production, social support, life expectancy, freedom, ... \n",
    "</p>\n",
    "<p>    \n",
    "In this project pandas is used to clean and aggregate the data. Also seaborn is used for visualization.\n",
    "Guiding questions are:\n",
    "</p>\n",
    "\n",
    "<ul>\n",
    "<li>\n",
    "How can we get better insights into the happiness scores by aggregating the data?\n",
    "</li>\n",
    "<li>\n",
    "How do world regions differ in happiness?\n",
    "</li>\n",
    "<li>\n",
    "How did world happiness change from 2015 to 2017?\n",
    "</li>\n",
    "<li>\n",
    "Which factors contribute the most to the happiness score?\n",
    "</li>\n",
    "</ul>\n"
   ]
  },
  {
   "cell_type": "markdown",
   "metadata": {},
   "source": [
    "### Import packages"
   ]
  },
  {
   "cell_type": "code",
   "execution_count": 975,
   "metadata": {},
   "outputs": [],
   "source": [
    "import pandas as pd\n",
    "import glob\n",
    "import os\n",
    "import re\n",
    "import matplotlib.pyplot as plt\n",
    "import seaborn as sns\n",
    "sns.set(style=\"whitegrid\")\n",
    "import numpy as np"
   ]
  },
  {
   "cell_type": "markdown",
   "metadata": {},
   "source": [
    "Read data into files and dataframes using read_csv and glob."
   ]
  },
  {
   "cell_type": "code",
   "execution_count": 976,
   "metadata": {},
   "outputs": [
    {
     "name": "stdout",
     "output_type": "stream",
     "text": [
      "<class 'pandas.core.frame.DataFrame'>\n",
      "RangeIndex: 158 entries, 0 to 157\n",
      "Data columns (total 12 columns):\n",
      "Country                          158 non-null object\n",
      "Region                           158 non-null object\n",
      "Happiness Rank                   158 non-null int64\n",
      "Happiness Score                  158 non-null float64\n",
      "Standard Error                   158 non-null float64\n",
      "Economy (GDP per Capita)         158 non-null float64\n",
      "Family                           158 non-null float64\n",
      "Health (Life Expectancy)         158 non-null float64\n",
      "Freedom                          158 non-null float64\n",
      "Trust (Government Corruption)    158 non-null float64\n",
      "Generosity                       158 non-null float64\n",
      "Dystopia Residual                158 non-null float64\n",
      "dtypes: float64(9), int64(1), object(2)\n",
      "memory usage: 14.9+ KB\n"
     ]
    }
   ],
   "source": [
    "happy2015 = pd.read_csv(\"world-happiness-report/2015.csv\", header=0)\n",
    "happy2015.info()"
   ]
  },
  {
   "cell_type": "markdown",
   "metadata": {},
   "source": [
    "Using glob to read multiple files in at the same time."
   ]
  },
  {
   "cell_type": "code",
   "execution_count": 977,
   "metadata": {},
   "outputs": [],
   "source": [
    "path = r'world-happiness-report'\n",
    "filenames = glob.glob(path + \"/*.csv\")"
   ]
  },
  {
   "cell_type": "code",
   "execution_count": 978,
   "metadata": {},
   "outputs": [
    {
     "name": "stdout",
     "output_type": "stream",
     "text": [
      "['world-happiness-report\\\\2015.csv', 'world-happiness-report\\\\2016.csv', 'world-happiness-report\\\\2017.csv']\n"
     ]
    }
   ],
   "source": [
    "print(filenames)"
   ]
  },
  {
   "cell_type": "code",
   "execution_count": 979,
   "metadata": {},
   "outputs": [
    {
     "data": {
      "text/plain": [
       "'world-happiness-report\\\\2015.csv'"
      ]
     },
     "execution_count": 979,
     "metadata": {},
     "output_type": "execute_result"
    }
   ],
   "source": [
    "happy_2015_1 = filenames[0]\n",
    "happy_2015_1"
   ]
  },
  {
   "cell_type": "code",
   "execution_count": 980,
   "metadata": {},
   "outputs": [],
   "source": [
    "happy_df = []\n",
    "\n",
    "for filename in filenames:\n",
    "    happy_df.append(pd.read_csv(filename))"
   ]
  },
  {
   "cell_type": "code",
   "execution_count": 981,
   "metadata": {},
   "outputs": [
    {
     "data": {
      "text/html": [
       "<div>\n",
       "<style>\n",
       "    .dataframe thead tr:only-child th {\n",
       "        text-align: right;\n",
       "    }\n",
       "\n",
       "    .dataframe thead th {\n",
       "        text-align: left;\n",
       "    }\n",
       "\n",
       "    .dataframe tbody tr th {\n",
       "        vertical-align: top;\n",
       "    }\n",
       "</style>\n",
       "<table border=\"1\" class=\"dataframe\">\n",
       "  <thead>\n",
       "    <tr style=\"text-align: right;\">\n",
       "      <th></th>\n",
       "      <th>Country</th>\n",
       "      <th>Region</th>\n",
       "      <th>Happiness Rank</th>\n",
       "      <th>Happiness Score</th>\n",
       "      <th>Standard Error</th>\n",
       "      <th>Economy (GDP per Capita)</th>\n",
       "      <th>Family</th>\n",
       "      <th>Health (Life Expectancy)</th>\n",
       "      <th>Freedom</th>\n",
       "      <th>Trust (Government Corruption)</th>\n",
       "      <th>Generosity</th>\n",
       "      <th>Dystopia Residual</th>\n",
       "    </tr>\n",
       "  </thead>\n",
       "  <tbody>\n",
       "    <tr>\n",
       "      <th>0</th>\n",
       "      <td>Switzerland</td>\n",
       "      <td>Western Europe</td>\n",
       "      <td>1</td>\n",
       "      <td>7.587</td>\n",
       "      <td>0.03411</td>\n",
       "      <td>1.39651</td>\n",
       "      <td>1.34951</td>\n",
       "      <td>0.94143</td>\n",
       "      <td>0.66557</td>\n",
       "      <td>0.41978</td>\n",
       "      <td>0.29678</td>\n",
       "      <td>2.51738</td>\n",
       "    </tr>\n",
       "    <tr>\n",
       "      <th>1</th>\n",
       "      <td>Iceland</td>\n",
       "      <td>Western Europe</td>\n",
       "      <td>2</td>\n",
       "      <td>7.561</td>\n",
       "      <td>0.04884</td>\n",
       "      <td>1.30232</td>\n",
       "      <td>1.40223</td>\n",
       "      <td>0.94784</td>\n",
       "      <td>0.62877</td>\n",
       "      <td>0.14145</td>\n",
       "      <td>0.43630</td>\n",
       "      <td>2.70201</td>\n",
       "    </tr>\n",
       "    <tr>\n",
       "      <th>2</th>\n",
       "      <td>Denmark</td>\n",
       "      <td>Western Europe</td>\n",
       "      <td>3</td>\n",
       "      <td>7.527</td>\n",
       "      <td>0.03328</td>\n",
       "      <td>1.32548</td>\n",
       "      <td>1.36058</td>\n",
       "      <td>0.87464</td>\n",
       "      <td>0.64938</td>\n",
       "      <td>0.48357</td>\n",
       "      <td>0.34139</td>\n",
       "      <td>2.49204</td>\n",
       "    </tr>\n",
       "    <tr>\n",
       "      <th>3</th>\n",
       "      <td>Norway</td>\n",
       "      <td>Western Europe</td>\n",
       "      <td>4</td>\n",
       "      <td>7.522</td>\n",
       "      <td>0.03880</td>\n",
       "      <td>1.45900</td>\n",
       "      <td>1.33095</td>\n",
       "      <td>0.88521</td>\n",
       "      <td>0.66973</td>\n",
       "      <td>0.36503</td>\n",
       "      <td>0.34699</td>\n",
       "      <td>2.46531</td>\n",
       "    </tr>\n",
       "    <tr>\n",
       "      <th>4</th>\n",
       "      <td>Canada</td>\n",
       "      <td>North America</td>\n",
       "      <td>5</td>\n",
       "      <td>7.427</td>\n",
       "      <td>0.03553</td>\n",
       "      <td>1.32629</td>\n",
       "      <td>1.32261</td>\n",
       "      <td>0.90563</td>\n",
       "      <td>0.63297</td>\n",
       "      <td>0.32957</td>\n",
       "      <td>0.45811</td>\n",
       "      <td>2.45176</td>\n",
       "    </tr>\n",
       "  </tbody>\n",
       "</table>\n",
       "</div>"
      ],
      "text/plain": [
       "       Country          Region  Happiness Rank  Happiness Score  \\\n",
       "0  Switzerland  Western Europe               1            7.587   \n",
       "1      Iceland  Western Europe               2            7.561   \n",
       "2      Denmark  Western Europe               3            7.527   \n",
       "3       Norway  Western Europe               4            7.522   \n",
       "4       Canada   North America               5            7.427   \n",
       "\n",
       "   Standard Error  Economy (GDP per Capita)   Family  \\\n",
       "0         0.03411                   1.39651  1.34951   \n",
       "1         0.04884                   1.30232  1.40223   \n",
       "2         0.03328                   1.32548  1.36058   \n",
       "3         0.03880                   1.45900  1.33095   \n",
       "4         0.03553                   1.32629  1.32261   \n",
       "\n",
       "   Health (Life Expectancy)  Freedom  Trust (Government Corruption)  \\\n",
       "0                   0.94143  0.66557                        0.41978   \n",
       "1                   0.94784  0.62877                        0.14145   \n",
       "2                   0.87464  0.64938                        0.48357   \n",
       "3                   0.88521  0.66973                        0.36503   \n",
       "4                   0.90563  0.63297                        0.32957   \n",
       "\n",
       "   Generosity  Dystopia Residual  \n",
       "0     0.29678            2.51738  \n",
       "1     0.43630            2.70201  \n",
       "2     0.34139            2.49204  \n",
       "3     0.34699            2.46531  \n",
       "4     0.45811            2.45176  "
      ]
     },
     "execution_count": 981,
     "metadata": {},
     "output_type": "execute_result"
    }
   ],
   "source": [
    "happy_df[happy_df == \"2015.csv\"].head()"
   ]
  },
  {
   "cell_type": "code",
   "execution_count": 982,
   "metadata": {},
   "outputs": [
    {
     "name": "stdout",
     "output_type": "stream",
     "text": [
      "<class 'list'>\n"
     ]
    }
   ],
   "source": [
    "print(type(happy_df))"
   ]
  },
  {
   "cell_type": "code",
   "execution_count": 983,
   "metadata": {},
   "outputs": [
    {
     "name": "stdout",
     "output_type": "stream",
     "text": [
      "<class 'pandas.core.frame.DataFrame'>\n",
      "RangeIndex: 158 entries, 0 to 157\n",
      "Data columns (total 12 columns):\n",
      "Country                          158 non-null object\n",
      "Region                           158 non-null object\n",
      "Happiness Rank                   158 non-null int64\n",
      "Happiness Score                  158 non-null float64\n",
      "Standard Error                   158 non-null float64\n",
      "Economy (GDP per Capita)         158 non-null float64\n",
      "Family                           158 non-null float64\n",
      "Health (Life Expectancy)         158 non-null float64\n",
      "Freedom                          158 non-null float64\n",
      "Trust (Government Corruption)    158 non-null float64\n",
      "Generosity                       158 non-null float64\n",
      "Dystopia Residual                158 non-null float64\n",
      "dtypes: float64(9), int64(1), object(2)\n",
      "memory usage: 14.9+ KB\n",
      "None\n",
      "<class 'pandas.core.frame.DataFrame'>\n",
      "RangeIndex: 157 entries, 0 to 156\n",
      "Data columns (total 13 columns):\n",
      "Country                          157 non-null object\n",
      "Region                           157 non-null object\n",
      "Happiness Rank                   157 non-null int64\n",
      "Happiness Score                  157 non-null float64\n",
      "Lower Confidence Interval        157 non-null float64\n",
      "Upper Confidence Interval        157 non-null float64\n",
      "Economy (GDP per Capita)         157 non-null float64\n",
      "Family                           157 non-null float64\n",
      "Health (Life Expectancy)         157 non-null float64\n",
      "Freedom                          157 non-null float64\n",
      "Trust (Government Corruption)    157 non-null float64\n",
      "Generosity                       157 non-null float64\n",
      "Dystopia Residual                157 non-null float64\n",
      "dtypes: float64(10), int64(1), object(2)\n",
      "memory usage: 16.0+ KB\n",
      "None\n",
      "<class 'pandas.core.frame.DataFrame'>\n",
      "RangeIndex: 155 entries, 0 to 154\n",
      "Data columns (total 12 columns):\n",
      "Country                          155 non-null object\n",
      "Happiness.Rank                   155 non-null int64\n",
      "Happiness.Score                  155 non-null float64\n",
      "Whisker.high                     155 non-null float64\n",
      "Whisker.low                      155 non-null float64\n",
      "Economy..GDP.per.Capita.         155 non-null float64\n",
      "Family                           155 non-null float64\n",
      "Health..Life.Expectancy.         155 non-null float64\n",
      "Freedom                          155 non-null float64\n",
      "Generosity                       155 non-null float64\n",
      "Trust..Government.Corruption.    155 non-null float64\n",
      "Dystopia.Residual                155 non-null float64\n",
      "dtypes: float64(10), int64(1), object(1)\n",
      "memory usage: 14.6+ KB\n",
      "None\n"
     ]
    }
   ],
   "source": [
    "for i in range(3):\n",
    "    print(happy_df[i].info())"
   ]
  },
  {
   "cell_type": "markdown",
   "metadata": {},
   "source": [
    "The variables of the data frame are not totally the same."
   ]
  },
  {
   "cell_type": "code",
   "execution_count": 984,
   "metadata": {},
   "outputs": [
    {
     "name": "stdout",
     "output_type": "stream",
     "text": [
      "(158, 12)\n",
      "Index(['Country', 'Region', 'Happiness Rank', 'Happiness Score',\n",
      "       'Standard Error', 'Economy (GDP per Capita)', 'Family',\n",
      "       'Health (Life Expectancy)', 'Freedom', 'Trust (Government Corruption)',\n",
      "       'Generosity', 'Dystopia Residual'],\n",
      "      dtype='object')\n",
      "(157, 13)\n",
      "Index(['Country', 'Region', 'Happiness Rank', 'Happiness Score',\n",
      "       'Lower Confidence Interval', 'Upper Confidence Interval',\n",
      "       'Economy (GDP per Capita)', 'Family', 'Health (Life Expectancy)',\n",
      "       'Freedom', 'Trust (Government Corruption)', 'Generosity',\n",
      "       'Dystopia Residual'],\n",
      "      dtype='object')\n",
      "(155, 12)\n",
      "Index(['Country', 'Happiness.Rank', 'Happiness.Score', 'Whisker.high',\n",
      "       'Whisker.low', 'Economy..GDP.per.Capita.', 'Family',\n",
      "       'Health..Life.Expectancy.', 'Freedom', 'Generosity',\n",
      "       'Trust..Government.Corruption.', 'Dystopia.Residual'],\n",
      "      dtype='object')\n"
     ]
    }
   ],
   "source": [
    "for i in range(3):\n",
    "    print(happy_df[i].shape)\n",
    "    print(happy_df[i].columns)"
   ]
  },
  {
   "cell_type": "markdown",
   "metadata": {},
   "source": [
    "Some variables are the same but written differently.  In particular the column names in 2017 are not the same as in the other data frames. The column names of 2017 are adapted below."
   ]
  },
  {
   "cell_type": "markdown",
   "metadata": {},
   "source": [
    "Add a year column into every dataframe using zip, Re, Regex."
   ]
  },
  {
   "cell_type": "code",
   "execution_count": 985,
   "metadata": {},
   "outputs": [],
   "source": [
    "happy_df_2 = []\n",
    "\n",
    "for dataframe, filename in zip(happy_df, filenames):\n",
    "    dataframe['year'] = re.search(r\"2\\d\\d\\d\",filename).group(0)\n",
    "    happy_df_2.append(dataframe)"
   ]
  },
  {
   "cell_type": "code",
   "execution_count": 986,
   "metadata": {},
   "outputs": [
    {
     "name": "stdout",
     "output_type": "stream",
     "text": [
      "0    2015\n",
      "1    2015\n",
      "2    2015\n",
      "3    2015\n",
      "4    2015\n",
      "Name: year, dtype: object\n",
      "0    2016\n",
      "1    2016\n",
      "2    2016\n",
      "3    2016\n",
      "4    2016\n",
      "Name: year, dtype: object\n",
      "0    2017\n",
      "1    2017\n",
      "2    2017\n",
      "3    2017\n",
      "4    2017\n",
      "Name: year, dtype: object\n"
     ]
    }
   ],
   "source": [
    "for i in range(len(happy_df_2)):\n",
    "               print(happy_df_2[i][\"year\"].head())"
   ]
  },
  {
   "cell_type": "code",
   "execution_count": 987,
   "metadata": {},
   "outputs": [
    {
     "name": "stdout",
     "output_type": "stream",
     "text": [
      "Index(['Country', 'Region', 'Happiness Rank', 'Happiness Score',\n",
      "       'Standard Error', 'Economy (GDP per Capita)', 'Family',\n",
      "       'Health (Life Expectancy)', 'Freedom', 'Trust (Government Corruption)',\n",
      "       'Generosity', 'Dystopia Residual', 'year'],\n",
      "      dtype='object')\n",
      "Index(['Country', 'Region', 'Happiness Rank', 'Happiness Score',\n",
      "       'Lower Confidence Interval', 'Upper Confidence Interval',\n",
      "       'Economy (GDP per Capita)', 'Family', 'Health (Life Expectancy)',\n",
      "       'Freedom', 'Trust (Government Corruption)', 'Generosity',\n",
      "       'Dystopia Residual', 'year'],\n",
      "      dtype='object')\n",
      "Index(['Country', 'Happiness.Rank', 'Happiness.Score', 'Whisker.high',\n",
      "       'Whisker.low', 'Economy..GDP.per.Capita.', 'Family',\n",
      "       'Health..Life.Expectancy.', 'Freedom', 'Generosity',\n",
      "       'Trust..Government.Corruption.', 'Dystopia.Residual', 'year'],\n",
      "      dtype='object')\n"
     ]
    }
   ],
   "source": [
    "for i in range(len(happy_df_2)):\n",
    "               print(happy_df_2[i].columns)"
   ]
  },
  {
   "cell_type": "markdown",
   "metadata": {},
   "source": [
    "### Exploring World Happiness Report 2015"
   ]
  },
  {
   "cell_type": "code",
   "execution_count": 988,
   "metadata": {},
   "outputs": [],
   "source": [
    "happiness2015 = happy_df_2[0]"
   ]
  },
  {
   "cell_type": "code",
   "execution_count": 989,
   "metadata": {},
   "outputs": [
    {
     "name": "stdout",
     "output_type": "stream",
     "text": [
      "       Country          Region  Happiness Rank  Happiness Score  \\\n",
      "0  Switzerland  Western Europe               1            7.587   \n",
      "1      Iceland  Western Europe               2            7.561   \n",
      "2      Denmark  Western Europe               3            7.527   \n",
      "3       Norway  Western Europe               4            7.522   \n",
      "4       Canada   North America               5            7.427   \n",
      "\n",
      "   Standard Error  Economy (GDP per Capita)   Family  \\\n",
      "0         0.03411                   1.39651  1.34951   \n",
      "1         0.04884                   1.30232  1.40223   \n",
      "2         0.03328                   1.32548  1.36058   \n",
      "3         0.03880                   1.45900  1.33095   \n",
      "4         0.03553                   1.32629  1.32261   \n",
      "\n",
      "   Health (Life Expectancy)  Freedom  Trust (Government Corruption)  \\\n",
      "0                   0.94143  0.66557                        0.41978   \n",
      "1                   0.94784  0.62877                        0.14145   \n",
      "2                   0.87464  0.64938                        0.48357   \n",
      "3                   0.88521  0.66973                        0.36503   \n",
      "4                   0.90563  0.63297                        0.32957   \n",
      "\n",
      "   Generosity  Dystopia Residual  year  \n",
      "0     0.29678            2.51738  2015  \n",
      "1     0.43630            2.70201  2015  \n",
      "2     0.34139            2.49204  2015  \n",
      "3     0.34699            2.46531  2015  \n",
      "4     0.45811            2.45176  2015  \n"
     ]
    }
   ],
   "source": [
    "first_5 = happiness2015[0:5]\n",
    "print(first_5)"
   ]
  },
  {
   "cell_type": "code",
   "execution_count": 990,
   "metadata": {},
   "outputs": [
    {
     "name": "stdout",
     "output_type": "stream",
     "text": [
      "<class 'pandas.core.frame.DataFrame'>\n",
      "RangeIndex: 5 entries, 0 to 4\n",
      "Data columns (total 13 columns):\n",
      "Country                          5 non-null object\n",
      "Region                           5 non-null object\n",
      "Happiness Rank                   5 non-null int64\n",
      "Happiness Score                  5 non-null float64\n",
      "Standard Error                   5 non-null float64\n",
      "Economy (GDP per Capita)         5 non-null float64\n",
      "Family                           5 non-null float64\n",
      "Health (Life Expectancy)         5 non-null float64\n",
      "Freedom                          5 non-null float64\n",
      "Trust (Government Corruption)    5 non-null float64\n",
      "Generosity                       5 non-null float64\n",
      "Dystopia Residual                5 non-null float64\n",
      "year                             5 non-null object\n",
      "dtypes: float64(9), int64(1), object(3)\n",
      "memory usage: 600.0+ bytes\n"
     ]
    }
   ],
   "source": [
    "info = first_5.info()"
   ]
  },
  {
   "cell_type": "code",
   "execution_count": 991,
   "metadata": {},
   "outputs": [
    {
     "name": "stdout",
     "output_type": "stream",
     "text": [
      "       Country          Region  Happiness Rank  Happiness Score  \\\n",
      "0      Denmark  Western Europe               1            7.526   \n",
      "1  Switzerland  Western Europe               2            7.509   \n",
      "2      Iceland  Western Europe               3            7.501   \n",
      "3       Norway  Western Europe               4            7.498   \n",
      "4      Finland  Western Europe               5            7.413   \n",
      "\n",
      "   Lower Confidence Interval  Upper Confidence Interval  \\\n",
      "0                      7.460                      7.592   \n",
      "1                      7.428                      7.590   \n",
      "2                      7.333                      7.669   \n",
      "3                      7.421                      7.575   \n",
      "4                      7.351                      7.475   \n",
      "\n",
      "   Economy (GDP per Capita)   Family  Health (Life Expectancy)  Freedom  \\\n",
      "0                   1.44178  1.16374                   0.79504  0.57941   \n",
      "1                   1.52733  1.14524                   0.86303  0.58557   \n",
      "2                   1.42666  1.18326                   0.86733  0.56624   \n",
      "3                   1.57744  1.12690                   0.79579  0.59609   \n",
      "4                   1.40598  1.13464                   0.81091  0.57104   \n",
      "\n",
      "   Trust (Government Corruption)  Generosity  Dystopia Residual  year  \n",
      "0                        0.44453     0.36171            2.73939  2016  \n",
      "1                        0.41203     0.28083            2.69463  2016  \n",
      "2                        0.14975     0.47678            2.83137  2016  \n",
      "3                        0.35776     0.37895            2.66465  2016  \n",
      "4                        0.41004     0.25492            2.82596  2016  \n"
     ]
    }
   ],
   "source": [
    "happiness2016 = happy_df_2[1]\n",
    "first_5_16 = happiness2016[0:5]\n",
    "print(first_5_16)"
   ]
  },
  {
   "cell_type": "code",
   "execution_count": 992,
   "metadata": {},
   "outputs": [
    {
     "name": "stdout",
     "output_type": "stream",
     "text": [
      "       Country  Happiness.Rank  Happiness.Score  Whisker.high  Whisker.low  \\\n",
      "0       Norway               1            7.537      7.594445     7.479556   \n",
      "1      Denmark               2            7.522      7.581728     7.462272   \n",
      "2      Iceland               3            7.504      7.622030     7.385970   \n",
      "3  Switzerland               4            7.494      7.561772     7.426227   \n",
      "4      Finland               5            7.469      7.527542     7.410458   \n",
      "\n",
      "   Economy..GDP.per.Capita.    Family  Health..Life.Expectancy.   Freedom  \\\n",
      "0                  1.616463  1.533524                  0.796667  0.635423   \n",
      "1                  1.482383  1.551122                  0.792566  0.626007   \n",
      "2                  1.480633  1.610574                  0.833552  0.627163   \n",
      "3                  1.564980  1.516912                  0.858131  0.620071   \n",
      "4                  1.443572  1.540247                  0.809158  0.617951   \n",
      "\n",
      "   Generosity  Trust..Government.Corruption.  Dystopia.Residual  year  \n",
      "0    0.362012                       0.315964           2.277027  2017  \n",
      "1    0.355280                       0.400770           2.313707  2017  \n",
      "2    0.475540                       0.153527           2.322715  2017  \n",
      "3    0.290549                       0.367007           2.276716  2017  \n",
      "4    0.245483                       0.382612           2.430182  2017  \n"
     ]
    }
   ],
   "source": [
    "happiness2017 = happy_df_2[2]\n",
    "first_5_17 = happiness2017[0:5]\n",
    "print(first_5_17)"
   ]
  },
  {
   "cell_type": "code",
   "execution_count": 993,
   "metadata": {},
   "outputs": [
    {
     "name": "stdout",
     "output_type": "stream",
     "text": [
      "Index(['Country', 'Happiness Rank', 'Happiness Score', 'Whisker.high',\n",
      "       'Whisker.low', 'Economy (GDP per Capita)', 'Family',\n",
      "       'Health (Life Expectancy)', 'Freedom', 'Generosity',\n",
      "       'Trust (Government Corruption)', 'Dystopia Residual', 'year'],\n",
      "      dtype='object')\n"
     ]
    }
   ],
   "source": [
    "happiness2017.rename(index=str, columns={\"Happiness.Score\":\"Happiness Score\", \n",
    "                                         'Economy..GDP.per.Capita.':'Economy (GDP per Capita)',\n",
    "                                         'Health..Life.Expectancy.':'Health (Life Expectancy)',\n",
    "                                         'Trust..Government.Corruption.':'Trust (Government Corruption)',\n",
    "                                         'Happiness.Rank':'Happiness Rank',\n",
    "                                         'Dystopia.Residual':'Dystopia Residual'},\n",
    "                                         inplace=True)\n",
    "print(happiness2017.columns)"
   ]
  },
  {
   "cell_type": "code",
   "execution_count": 994,
   "metadata": {},
   "outputs": [
    {
     "name": "stdout",
     "output_type": "stream",
     "text": [
      "<class 'pandas.core.frame.DataFrame'>\n",
      "RangeIndex: 157 entries, 0 to 156\n",
      "Data columns (total 14 columns):\n",
      "Country                          157 non-null object\n",
      "Region                           157 non-null object\n",
      "Happiness Rank                   157 non-null int64\n",
      "Happiness Score                  157 non-null float64\n",
      "Lower Confidence Interval        157 non-null float64\n",
      "Upper Confidence Interval        157 non-null float64\n",
      "Economy (GDP per Capita)         157 non-null float64\n",
      "Family                           157 non-null float64\n",
      "Health (Life Expectancy)         157 non-null float64\n",
      "Freedom                          157 non-null float64\n",
      "Trust (Government Corruption)    157 non-null float64\n",
      "Generosity                       157 non-null float64\n",
      "Dystopia Residual                157 non-null float64\n",
      "year                             157 non-null object\n",
      "dtypes: float64(10), int64(1), object(3)\n",
      "memory usage: 17.2+ KB\n"
     ]
    }
   ],
   "source": [
    "happiness2016.info()"
   ]
  },
  {
   "cell_type": "code",
   "execution_count": 995,
   "metadata": {},
   "outputs": [
    {
     "name": "stdout",
     "output_type": "stream",
     "text": [
      "(158, 13)\n",
      "2054\n",
      "2054\n",
      "(157, 14)\n",
      "2198\n",
      "2198\n",
      "(155, 13)\n",
      "2015\n",
      "2015\n"
     ]
    }
   ],
   "source": [
    "for i in range(0,3):\n",
    "    print(happy_df[i].shape)\n",
    "    print(happy_df[i].shape[0]*happy_df[i].shape[1])\n",
    "    print(sum(happy_df[i].notnull().count()))"
   ]
  },
  {
   "cell_type": "markdown",
   "metadata": {},
   "source": [
    "There are not any null values."
   ]
  },
  {
   "cell_type": "markdown",
   "metadata": {},
   "source": [
    "### Happiness Score\n",
    "Getting statistics and visualizing the happiness score"
   ]
  },
  {
   "cell_type": "code",
   "execution_count": 996,
   "metadata": {},
   "outputs": [
    {
     "name": "stdout",
     "output_type": "stream",
     "text": [
      "158\n"
     ]
    }
   ],
   "source": [
    "print(len(happiness2015[\"Country\"].unique()))\n"
   ]
  },
  {
   "cell_type": "markdown",
   "metadata": {},
   "source": [
    "Countries are 158, too many categorical variables on x-axis."
   ]
  },
  {
   "cell_type": "code",
   "execution_count": 997,
   "metadata": {},
   "outputs": [
    {
     "name": "stdout",
     "output_type": "stream",
     "text": [
      "count    158.000000\n",
      "mean       5.375734\n",
      "std        1.145010\n",
      "min        2.839000\n",
      "25%        4.526000\n",
      "50%        5.232500\n",
      "75%        6.243750\n",
      "max        7.587000\n",
      "Name: Happiness Score, dtype: float64\n"
     ]
    }
   ],
   "source": [
    "print(happiness2015['Happiness Score'].describe())"
   ]
  },
  {
   "cell_type": "markdown",
   "metadata": {},
   "source": [
    "Univariate distribution of the Happiness Score variable."
   ]
  },
  {
   "cell_type": "markdown",
   "metadata": {},
   "source": [
    "The seaborn.distplot function expects either pandas Series, single-dimensional numpy.array, \n",
    "or a Python list as input. Then, it determines the size of the bins according to the Freedman-Diaconis rule, \n",
    "and finally it fits a kernel density estimate (KDE) over the histogram:\n",
    "[hub.packtpub.com](https://hub.packtpub.com/visualizing-univariate-distribution-seaborn/)"
   ]
  },
  {
   "cell_type": "code",
   "execution_count": 998,
   "metadata": {},
   "outputs": [
    {
     "name": "stderr",
     "output_type": "stream",
     "text": [
      "C:\\Users\\gamarandor\\Anaconda3\\lib\\site-packages\\matplotlib\\axes\\_axes.py:6521: MatplotlibDeprecationWarning: \n",
      "The 'normed' kwarg was deprecated in Matplotlib 2.1 and will be removed in 3.1. Use 'density' instead.\n",
      "  alternative=\"'density'\", removal=\"3.1\")\n"
     ]
    },
    {
     "data": {
      "image/png": "[encoded data removed]",
      "text/plain": [
       "<Figure size 460.8x316.8 with 1 Axes>"
      ]
     },
     "metadata": {},
     "output_type": "display_data"
    }
   ],
   "source": [
    "sns.set(style='whitegrid', rc={\"grid.linewidth\": 0.1})\n",
    "sns.set_context(\"paper\", font_scale=1.5)  \n",
    "ax = sns.distplot(happiness2015['Happiness Score'], color=\"y\").set_title(\"Univariate distribution of the Happiness Score variable\")\n",
    "plt.show()"
   ]
  },
  {
   "cell_type": "code",
   "execution_count": 999,
   "metadata": {},
   "outputs": [
    {
     "name": "stdout",
     "output_type": "stream",
     "text": [
      "2015\n",
      "2016\n",
      "2017\n"
     ]
    }
   ],
   "source": [
    "# additional calculation\n",
    "for i in range(2015,2018):\n",
    "    print(i)"
   ]
  },
  {
   "cell_type": "code",
   "execution_count": 1000,
   "metadata": {},
   "outputs": [
    {
     "data": {
      "text/plain": [
       "-0.75041865732502311"
      ]
     },
     "execution_count": 1000,
     "metadata": {},
     "output_type": "execute_result"
    }
   ],
   "source": [
    "happy_df_2[2]['Happiness Score'].kurtosis(skipna=True)"
   ]
  },
  {
   "cell_type": "code",
   "execution_count": 1001,
   "metadata": {},
   "outputs": [
    {
     "name": "stdout",
     "output_type": "stream",
     "text": [
      "{2015: -0.75041865732502311, 2016: -0.75041865732502311, 2017: -0.75041865732502311}\n"
     ]
    }
   ],
   "source": [
    "kurtosis_hs_1 = {}\n",
    "\n",
    "for i in range(0,3):\n",
    "    kurtosis_df = happy_df[i]['Happiness Score'].kurtosis(skipna=True)\n",
    "    for year in range(2015,2018):\n",
    "        kurtosis_hs_1[year] = kurtosis_df\n",
    "    \n",
    "print(kurtosis_hs_1)"
   ]
  },
  {
   "cell_type": "markdown",
   "metadata": {},
   "source": [
    "<p>\n",
    "According to values using the rule of thumb and visual checking the distributions are platykurtic.\n",
    "As kurtosis is sensitive to the sample size these insights are of less immediate value. However it raises\n",
    "the question if a data transformation could be useful.\n",
    "</p>\n",
    "\n",
    "<p>\n",
    "Rule of thumb:\n",
    "</p>\n",
    "<p>\n",
    "Most often, kurtosis is measured against the normal distribution.  If the kurtosis is close to 0, then a \n",
    "normal distribution is often assumed.  These are called mesokurtic distributions.  If the kurtosis is less \n",
    "than zero, then the distribution is light tails and is called a platykurtic distribution.  \n",
    "If the kurtosis is greater than zero, then the distribution has heavier tails and is called a leptokurtic distribution.\n",
    "</p>\n",
    "<p>\n",
    "<a href =\"https://www.spcforexcel.com/knowledge/basic-statistics/are-skewness-and-kurtosis-useful-statistics\">\n",
    "SPC for Excel\n",
    "</a>\n",
    "</p>"
   ]
  },
  {
   "cell_type": "code",
   "execution_count": 1002,
   "metadata": {},
   "outputs": [
    {
     "name": "stdout",
     "output_type": "stream",
     "text": [
      "{2015: -0.75041865732502311, 2016: -0.75041865732502311, 2017: -0.75041865732502311}\n"
     ]
    }
   ],
   "source": [
    "skewness_hs_2 = {}\n",
    "\n",
    "for i in range(0,3):\n",
    "    skewness_df = happy_df[i]['Happiness Score'].kurtosis(skipna=True)\n",
    "    for year in range(2015,2018):\n",
    "        skewness_hs_2[year] = skewness_df\n",
    "        \n",
    "print(skewness_hs_2)"
   ]
  },
  {
   "cell_type": "markdown",
   "metadata": {},
   "source": [
    "<p>\n",
    "According to values using the rule of thumb and visual checking the distributions are moderatly skewed.\n",
    "The normal distribution is discernible, while clearly not symmetrical. Can data transformation reduce the \n",
    "skewness and make the distributions more \"normal\"?.\n",
    "</p>\n",
    "<p>\n",
    "Rule of thumb:\n",
    "</p>\n",
    "<ul>\n",
    "<li>If the skewness is between -0.5 and 0.5, the data are fairly symmetrical</li>\n",
    "<li>If the skewness is between -1 and – 0.5 or between 0.5 and 1, the data are moderately skewed</li>\n",
    "<li>If the skewness is less than -1 or greater than 1, the data are highly skewed</li>\n",
    "</ul>\n",
    "<p>\n",
    "<a href =\"https://www.spcforexcel.com/knowledge/basic-statistics/are-skewness-and-kurtosis-useful-statistics\">\n",
    "SPC for Excel\n",
    "</a>\n",
    "</p>\n",
    "\n"
   ]
  },
  {
   "cell_type": "code",
   "execution_count": 1003,
   "metadata": {},
   "outputs": [],
   "source": [
    "def ecdf(s, name):\n",
    "    \"\"\"Compute ECDF for a one-dimensional array of measurements.\"\"\"\n",
    "    # s is a data series\n",
    "    # name is a string\n",
    "    # Create a series of ordered x-values\n",
    "    x = np.sort(s)\n",
    "    # Number of data points: n\n",
    "    n = len(s)\n",
    "    # y-data for the ECDF: y\n",
    "    y = np.arange(start=1, stop=n+1)/n\n",
    "    # Plot the ECDF\n",
    "    plt.plot(x, y, marker='.', linestyle='none', color=\"red\")\n",
    "    plt.xlabel(name)\n",
    "    plt.ylabel(\"Cumulative probabilities\")\n",
    "    plt.title(\"Empirical cumulative distribution function (ECDF)\")\n",
    "    plt.show()"
   ]
  },
  {
   "cell_type": "code",
   "execution_count": 1004,
   "metadata": {},
   "outputs": [
    {
     "data": {
      "image/png": "[encoded data removed]",
      "text/plain": [
       "<Figure size 460.8x316.8 with 1 Axes>"
      ]
     },
     "metadata": {},
     "output_type": "display_data"
    },
    {
     "data": {
      "image/png": "[encoded data removed]",
      "text/plain": [
       "<Figure size 460.8x316.8 with 1 Axes>"
      ]
     },
     "metadata": {},
     "output_type": "display_data"
    },
    {
     "data": {
      "image/png": "[encoded data removed]",
      "text/plain": [
       "<Figure size 460.8x316.8 with 1 Axes>"
      ]
     },
     "metadata": {},
     "output_type": "display_data"
    }
   ],
   "source": [
    "for i in range(0,3):\n",
    "    ecdf(happy_df[i]['Happiness Score'], 'Happiness Score' )"
   ]
  },
  {
   "cell_type": "markdown",
   "metadata": {},
   "source": [
    "<p>\n",
    "From 2015 2016 the share of countries with a Happiness Score of 5 decreased only slightly.\n",
    "</p>\n",
    "<ul>\n",
    "<li>\n",
    "Ca. 41% of the countries had Happiness Score of 5 or less in 2015.\n",
    "</li>\n",
    "<li>\n",
    "Ca. 38% of the countries had Happiness Score of 5 or less in 2016.\n",
    "</li>\n",
    "<li>\n",
    "Ca. 38% of the countries had Happiness Score of 5 or less in 2016.\n",
    "</li>\n",
    "</ul>"
   ]
  },
  {
   "cell_type": "code",
   "execution_count": 1005,
   "metadata": {},
   "outputs": [
    {
     "name": "stdout",
     "output_type": "stream",
     "text": [
      "     Country  Happiness Score\n",
      "153   Rwanda            3.465\n",
      "154    Benin            3.340\n",
      "155    Syria            3.006\n",
      "156  Burundi            2.905\n",
      "157     Togo            2.839\n"
     ]
    }
   ],
   "source": [
    "top_5_happy_countries_15 = print(happiness2015.loc[153:158, [\"Country\",'Happiness Score']])"
   ]
  },
  {
   "cell_type": "code",
   "execution_count": 1006,
   "metadata": {},
   "outputs": [
    {
     "name": "stdout",
     "output_type": "stream",
     "text": [
      "       Country  Happiness Score\n",
      "0  Switzerland            7.587\n",
      "1      Iceland            7.561\n",
      "2      Denmark            7.527\n",
      "3       Norway            7.522\n",
      "4       Canada            7.427\n",
      "5      Finland            7.406\n"
     ]
    }
   ],
   "source": [
    "top_5_unhappy_countries_15 = print(happiness2015.loc[0:5, [\"Country\",'Happiness Score']])"
   ]
  },
  {
   "cell_type": "code",
   "execution_count": 1007,
   "metadata": {},
   "outputs": [
    {
     "name": "stdout",
     "output_type": "stream",
     "text": [
      "       Country                     Region  Happiness Score\n",
      "0  Switzerland             Western Europe            7.587\n",
      "1      Iceland             Western Europe            7.561\n",
      "2      Denmark             Western Europe            7.527\n",
      "3       Norway             Western Europe            7.522\n",
      "4       Canada              North America            7.427\n",
      "5      Finland             Western Europe            7.406\n",
      "6  Netherlands             Western Europe            7.378\n",
      "7       Sweden             Western Europe            7.364\n",
      "8  New Zealand  Australia and New Zealand            7.286\n",
      "9    Australia  Australia and New Zealand            7.284\n"
     ]
    }
   ],
   "source": [
    "happiness2015_sorted = happiness2015.sort_values(by = \"Happiness Score\", ascending = False)\n",
    "top_ten = happiness2015_sorted.loc[0:9, [\"Country\",\"Region\",'Happiness Score']]\n",
    "print(top_ten )"
   ]
  },
  {
   "cell_type": "markdown",
   "metadata": {},
   "source": [
    "7 out of the top ten countries are from Western Europe."
   ]
  },
  {
   "cell_type": "markdown",
   "metadata": {},
   "source": [
    "Plotting happiness scores by country"
   ]
  },
  {
   "cell_type": "code",
   "execution_count": 1008,
   "metadata": {},
   "outputs": [
    {
     "data": {
      "image/png": "[encoded data removed]",
      "text/plain": [
       "<Figure size 1440x648 with 1 Axes>"
      ]
     },
     "metadata": {},
     "output_type": "display_data"
    }
   ],
   "source": [
    "\n",
    "sns.set(rc={'figure.figsize':(20,9)})\n",
    "ax = sns.barplot(x=\"Country\", y=\"Happiness Score\", data=happiness2015)\n",
    "ax.set(xlabel='Happiness Score', ylabel='Country')\n",
    "plt.xticks(rotation=90)\n",
    "plt.show()"
   ]
  },
  {
   "cell_type": "code",
   "execution_count": 1009,
   "metadata": {},
   "outputs": [],
   "source": [
    "### Grouping and aggregating by Region"
   ]
  },
  {
   "cell_type": "code",
   "execution_count": 1010,
   "metadata": {},
   "outputs": [
    {
     "name": "stdout",
     "output_type": "stream",
     "text": [
      "Sub-Saharan Africa                 40\n",
      "Central and Eastern Europe         29\n",
      "Latin America and Caribbean        22\n",
      "Western Europe                     21\n",
      "Middle East and Northern Africa    20\n",
      "Southeastern Asia                   9\n",
      "Southern Asia                       7\n",
      "Eastern Asia                        6\n",
      "Australia and New Zealand           2\n",
      "North America                       2\n",
      "Name: Region, dtype: int64\n"
     ]
    }
   ],
   "source": [
    "print(happiness2015[\"Region\"].value_counts())"
   ]
  },
  {
   "cell_type": "markdown",
   "metadata": {},
   "source": [
    "Plotting happiness scores for the southern asia region."
   ]
  },
  {
   "cell_type": "code",
   "execution_count": 1011,
   "metadata": {},
   "outputs": [
    {
     "data": {
      "text/plain": [
       "<matplotlib.axes._subplots.AxesSubplot at 0x17d46eb8a90>"
      ]
     },
     "execution_count": 1011,
     "metadata": {},
     "output_type": "execute_result"
    },
    {
     "data": {
      "image/png": "[encoded data removed]",
      "text/plain": [
       "<Figure size 1440x648 with 1 Axes>"
      ]
     },
     "metadata": {},
     "output_type": "display_data"
    }
   ],
   "source": [
    "southern_asia = happiness2015[happiness2015[\"Region\"] == \"Southeastern Asia\"]\n",
    "southern_asia.plot(x='Country', y='Happiness Score', kind='barh', title=\"Southern Asisa happiness score\", \n",
    "                   legend=False, xlim=(0,8))\n"
   ]
  },
  {
   "cell_type": "markdown",
   "metadata": {},
   "source": [
    "Making a comparison between regions of the world using the aggregated mean happiness score for every region \n",
    "(consisting of countries). For this purpose a split, apply, combine is developed within a for loop.\n",
    "\n",
    "<ul>\n",
    "<li>\n",
    "Split the dataframe into groups.\n",
    "</li>\n",
    "<li>\n",
    "Apply a function to each group.\n",
    "</li>\n",
    "<li>\n",
    "Combine the results into one data structure.\n",
    "</li>\n",
    "</ul>\n"
   ]
  },
  {
   "cell_type": "code",
   "execution_count": 1012,
   "metadata": {},
   "outputs": [
    {
     "name": "stdout",
     "output_type": "stream",
     "text": [
      "['Western Europe' 'North America' 'Australia and New Zealand'\n",
      " 'Middle East and Northern Africa' 'Latin America and Caribbean'\n",
      " 'Southeastern Asia' 'Central and Eastern Europe' 'Eastern Asia'\n",
      " 'Sub-Saharan Africa' 'Southern Asia']\n"
     ]
    }
   ],
   "source": [
    "mean_happiness = dict()\n",
    "regions = happiness2015[\"Region\"].unique()\n",
    "print(regions)\n"
   ]
  },
  {
   "cell_type": "code",
   "execution_count": 1013,
   "metadata": {},
   "outputs": [],
   "source": [
    "for region in regions:\n",
    "    region_group = happiness2015[happiness2015[\"Region\"] == region]\n",
    "    mean_happiness[region] = round(region_group['Happiness Score'].mean(),2)"
   ]
  },
  {
   "cell_type": "code",
   "execution_count": 1014,
   "metadata": {},
   "outputs": [
    {
     "name": "stdout",
     "output_type": "stream",
     "text": [
      "{'Western Europe': 6.69, 'North America': 7.27, 'Australia and New Zealand': 7.29, 'Middle East and Northern Africa': 5.41, 'Latin America and Caribbean': 6.14, 'Southeastern Asia': 5.32, 'Central and Eastern Europe': 5.33, 'Eastern Asia': 5.63, 'Sub-Saharan Africa': 4.2, 'Southern Asia': 4.58}\n"
     ]
    }
   ],
   "source": [
    "print(mean_happiness)"
   ]
  },
  {
   "cell_type": "markdown",
   "metadata": {},
   "source": [
    "Australia and New Zealand has got the highest happiness score of 7.29. Sub-Saharan Africa has got the lowest \n",
    "happiness score with 4.2. While 7 out of the top ten countries are from Western Europe, Western Europe is only third with 6.69 behind North America with 7.27."
   ]
  },
  {
   "cell_type": "code",
   "execution_count": 1015,
   "metadata": {},
   "outputs": [],
   "source": [
    "grouped_region_15 = happiness2015.groupby('Region')"
   ]
  },
  {
   "cell_type": "markdown",
   "metadata": {},
   "source": [
    "Making a dictionary of the groups. The keys are the 'Regions' and the value are the index number of the observations\n",
    "in the original data frame."
   ]
  },
  {
   "cell_type": "code",
   "execution_count": 1016,
   "metadata": {},
   "outputs": [
    {
     "name": "stdout",
     "output_type": "stream",
     "text": [
      "{'Australia and New Zealand': Int64Index([8, 9], dtype='int64'), 'Central and Eastern Europe': Int64Index([ 30,  43,  44,  51,  53,  54,  55,  58,  59,  61,  63,  68,  69,\n",
      "             72,  76,  79,  82,  85,  86,  88,  92,  94,  95, 103, 105, 110,\n",
      "            126, 129, 133],\n",
      "           dtype='int64'), 'Eastern Asia': Int64Index([37, 45, 46, 71, 83, 99], dtype='int64'), 'Latin America and Caribbean': Int64Index([ 11,  13,  15,  22,  24,  26,  29,  31,  32,  39,  40,  41,  42,\n",
      "             47,  50,  52,  56,  57,  64,  97, 104, 118],\n",
      "           dtype='int64'), 'Middle East and Northern Africa': Int64Index([ 10,  19,  21,  27,  34,  38,  48,  62,  67,  75,  81,  91, 102,\n",
      "            106, 107, 109, 111, 134, 135, 155],\n",
      "           dtype='int64'), 'North America': Int64Index([4, 14], dtype='int64'), 'Southeastern Asia': Int64Index([23, 33, 60, 73, 74, 89, 98, 128, 144], dtype='int64'), 'Southern Asia': Int64Index([78, 80, 108, 116, 120, 131, 152], dtype='int64'), 'Sub-Saharan Africa': Int64Index([ 70,  77,  84,  90,  93,  96, 100, 112, 113, 114, 115, 117, 119,\n",
      "            121, 122, 123, 124, 125, 127, 130, 132, 136, 137, 138, 139, 140,\n",
      "            141, 142, 143, 145, 146, 147, 148, 149, 150, 151, 153, 154, 156,\n",
      "            157],\n",
      "           dtype='int64'), 'Western Europe': Int64Index([0, 1, 2, 3, 5, 6, 7, 12, 16, 17, 18, 20, 25, 28, 35, 36, 49, 65,\n",
      "            66, 87, 101],\n",
      "           dtype='int64')}\n"
     ]
    }
   ],
   "source": [
    "print(grouped_region_15.groups)"
   ]
  },
  {
   "cell_type": "markdown",
   "metadata": {},
   "source": [
    "Calculating number of observations (or countries) for every Region group."
   ]
  },
  {
   "cell_type": "code",
   "execution_count": 1017,
   "metadata": {},
   "outputs": [
    {
     "data": {
      "text/plain": [
       "Region\n",
       "Australia and New Zealand           2\n",
       "Central and Eastern Europe         29\n",
       "Eastern Asia                        6\n",
       "Latin America and Caribbean        22\n",
       "Middle East and Northern Africa    20\n",
       "North America                       2\n",
       "Southeastern Asia                   9\n",
       "Southern Asia                       7\n",
       "Sub-Saharan Africa                 40\n",
       "Western Europe                     21\n",
       "dtype: int64"
      ]
     },
     "execution_count": 1017,
     "metadata": {},
     "output_type": "execute_result"
    }
   ],
   "source": [
    "grouped_region_15.size() "
   ]
  },
  {
   "cell_type": "markdown",
   "metadata": {},
   "source": [
    "Happiness score on average for every region."
   ]
  },
  {
   "cell_type": "code",
   "execution_count": 1018,
   "metadata": {},
   "outputs": [
    {
     "data": {
      "text/plain": [
       "Region\n",
       "Australia and New Zealand          7.285000\n",
       "Central and Eastern Europe         5.332931\n",
       "Eastern Asia                       5.626167\n",
       "Latin America and Caribbean        6.144682\n",
       "Middle East and Northern Africa    5.406900\n",
       "North America                      7.273000\n",
       "Southeastern Asia                  5.317444\n",
       "Southern Asia                      4.580857\n",
       "Sub-Saharan Africa                 4.202800\n",
       "Western Europe                     6.689619\n",
       "Name: Happiness Score, dtype: float64"
      ]
     },
     "execution_count": 1018,
     "metadata": {},
     "output_type": "execute_result"
    }
   ],
   "source": [
    "grouped_region_15['Happiness Score'].mean()"
   ]
  },
  {
   "cell_type": "markdown",
   "metadata": {},
   "source": [
    "Calculating mean Happiness Score using a pivot table."
   ]
  },
  {
   "cell_type": "code",
   "execution_count": 1019,
   "metadata": {},
   "outputs": [
    {
     "name": "stdout",
     "output_type": "stream",
     "text": [
      "                                 Happiness Score\n",
      "Region                                          \n",
      "Australia and New Zealand               7.285000\n",
      "Central and Eastern Europe              5.332931\n",
      "Eastern Asia                            5.626167\n",
      "Latin America and Caribbean             6.144682\n",
      "Middle East and Northern Africa         5.406900\n",
      "North America                           7.273000\n",
      "Southeastern Asia                       5.317444\n",
      "Southern Asia                           4.580857\n",
      "Sub-Saharan Africa                      4.202800\n",
      "Western Europe                          6.689619\n",
      "All                                     5.375734\n",
      "<class 'pandas.core.frame.DataFrame'>\n",
      "Index: 11 entries, Australia and New Zealand to All\n",
      "Data columns (total 1 columns):\n",
      "Happiness Score    11 non-null float64\n",
      "dtypes: float64(1)\n",
      "memory usage: 176.0+ bytes\n"
     ]
    }
   ],
   "source": [
    "# If you pass margins=True to pivot_table, special All columns and rows will be \n",
    "# added with partial group aggregates across the categories on the rows and columns.\n",
    "# https://pandas.pydata.org/pandas-docs/stable/user_guide/reshaping.html\n",
    "\n",
    "\n",
    "pivot_15_region_happy = happiness2015.pivot_table(values='Happiness Score', index='Region', margins=True)\n",
    "print(pivot_15_region_happy)\n",
    "pivot_15_region_happy.info()"
   ]
  },
  {
   "cell_type": "code",
   "execution_count": 1020,
   "metadata": {},
   "outputs": [
    {
     "data": {
      "text/plain": [
       "<matplotlib.axes._subplots.AxesSubplot at 0x17d46a30550>"
      ]
     },
     "execution_count": 1020,
     "metadata": {},
     "output_type": "execute_result"
    },
    {
     "data": {
      "image/png": "[encoded data removed]",
      "text/plain": [
       "<Figure size 792x360 with 1 Axes>"
      ]
     },
     "metadata": {},
     "output_type": "display_data"
    }
   ],
   "source": [
    "pv15_mean = pivot_15_region_happy['Happiness Score'].plot.bar(title=\"Average Happiness Score by region\", \n",
    "                                  legend=False, color=[\"gold\", \"green\"], figsize=(11,5))\n",
    "pv15_mean"
   ]
  },
  {
   "cell_type": "code",
   "execution_count": 1021,
   "metadata": {},
   "outputs": [
    {
     "data": {
      "text/plain": [
       "<matplotlib.axes._subplots.AxesSubplot at 0x17d47f275f8>"
      ]
     },
     "execution_count": 1021,
     "metadata": {},
     "output_type": "execute_result"
    },
    {
     "data": {
      "image/png": "[encoded data removed]",
      "text/plain": [
       "<Figure size 648x576 with 1 Axes>"
      ]
     },
     "metadata": {},
     "output_type": "display_data"
    }
   ],
   "source": [
    "pivot_15_region_happy.plot(kind='barh', title='Mean Happiness Scores by Region', xlim=(0,8), \n",
    "                           legend=False, color=['gold','green'], figsize=(9,8))"
   ]
  },
  {
   "cell_type": "code",
   "execution_count": 1022,
   "metadata": {},
   "outputs": [
    {
     "data": {
      "text/plain": [
       "5.375734"
      ]
     },
     "execution_count": 1022,
     "metadata": {},
     "output_type": "execute_result"
    }
   ],
   "source": [
    "mean_world_happiness= round(happiness2015['Happiness Score'].mean(),6)\n",
    "mean_world_happiness"
   ]
  },
  {
   "cell_type": "markdown",
   "metadata": {},
   "source": [
    "The mean happiness score calculated directly from the original 'Happiness Score' \n",
    "data is the same as the \"ALL\" value of the pivot table."
   ]
  },
  {
   "cell_type": "markdown",
   "metadata": {},
   "source": [
    "Creating support functions for special statistics."
   ]
  },
  {
   "cell_type": "code",
   "execution_count": 1023,
   "metadata": {},
   "outputs": [],
   "source": [
    "# range between max and min\n",
    "def range_between(group):\n",
    "    return (group.max() - group.min())\n",
    "# distance from max to mean\n",
    "def difference(group):\n",
    "    return(group.max() - group.mean())\n",
    "\n",
    "def quant_25(group):\n",
    "    return (np.percentile(group, q=25))\n",
    "\n",
    "def quant_75(group):\n",
    "    return (np.percentile(group, q=75))"
   ]
  },
  {
   "cell_type": "markdown",
   "metadata": {},
   "source": [
    "Aggregate over many statistics"
   ]
  },
  {
   "cell_type": "code",
   "execution_count": 1024,
   "metadata": {},
   "outputs": [
    {
     "name": "stdout",
     "output_type": "stream",
     "text": [
      "                                 mean  amax  amin  range_between  difference  \\\n",
      "Region                                                                         \n",
      "Australia and New Zealand        7.28  7.29  7.28           0.00        0.00   \n",
      "Central and Eastern Europe       5.33  6.50  4.22           2.29        1.17   \n",
      "Eastern Asia                     5.63  6.30  4.87           1.42        0.67   \n",
      "Latin America and Caribbean      6.14  7.23  4.52           2.71        1.08   \n",
      "Middle East and Northern Africa  5.41  7.28  3.01           4.27        1.87   \n",
      "North America                    7.27  7.43  7.12           0.31        0.15   \n",
      "Southeastern Asia                5.32  6.80  3.82           2.98        1.48   \n",
      "Southern Asia                    4.58  5.25  3.58           1.68        0.67   \n",
      "Sub-Saharan Africa               4.20  5.48  2.84           2.64        1.27   \n",
      "Western Europe                   6.69  7.59  4.86           2.73        0.90   \n",
      "\n",
      "                                  std  quant_25  median  quant_75  \n",
      "Region                                                             \n",
      "Australia and New Zealand        0.00      7.28    7.28      7.29  \n",
      "Central and Eastern Europe       0.57      4.96    5.29      5.81  \n",
      "Eastern Asia                     0.55      5.22    5.73      5.99  \n",
      "Latin America and Caribbean      0.73      5.84    6.15      6.65  \n",
      "Middle East and Northern Africa  1.10      4.71    5.26      6.32  \n",
      "North America                    0.22      7.20    7.27      7.35  \n",
      "Southeastern Asia                0.95      4.88    5.36      5.77  \n",
      "Southern Asia                    0.57      4.39    4.57      4.94  \n",
      "Sub-Saharan Africa               0.61      3.76    4.27      4.58  \n",
      "Western Europe                   0.82      6.30    6.94      7.38  \n"
     ]
    }
   ],
   "source": [
    "region_2323 = grouped_region_15['Happiness Score'].agg([np.mean, np.max,  np.min, range_between, difference, np.std, quant_25, np.median, quant_75]).round(2)\n",
    "print(region_2323)"
   ]
  },
  {
   "cell_type": "markdown",
   "metadata": {},
   "source": [
    "Aggregate alternatively with pivot table."
   ]
  },
  {
   "cell_type": "code",
   "execution_count": 1025,
   "metadata": {},
   "outputs": [
    {
     "data": {
      "text/html": [
       "<div>\n",
       "<style>\n",
       "    .dataframe thead tr:only-child th {\n",
       "        text-align: right;\n",
       "    }\n",
       "\n",
       "    .dataframe thead th {\n",
       "        text-align: left;\n",
       "    }\n",
       "\n",
       "    .dataframe tbody tr th {\n",
       "        vertical-align: top;\n",
       "    }\n",
       "</style>\n",
       "<table border=\"1\" class=\"dataframe\">\n",
       "  <thead>\n",
       "    <tr>\n",
       "      <th></th>\n",
       "      <th>mean</th>\n",
       "      <th>amin</th>\n",
       "      <th>amax</th>\n",
       "      <th>std</th>\n",
       "      <th>median</th>\n",
       "      <th>range_between</th>\n",
       "    </tr>\n",
       "    <tr>\n",
       "      <th></th>\n",
       "      <th>Happiness Score</th>\n",
       "      <th>Happiness Score</th>\n",
       "      <th>Happiness Score</th>\n",
       "      <th>Happiness Score</th>\n",
       "      <th>Happiness Score</th>\n",
       "      <th>Happiness Score</th>\n",
       "    </tr>\n",
       "    <tr>\n",
       "      <th>Region</th>\n",
       "      <th></th>\n",
       "      <th></th>\n",
       "      <th></th>\n",
       "      <th></th>\n",
       "      <th></th>\n",
       "      <th></th>\n",
       "    </tr>\n",
       "  </thead>\n",
       "  <tbody>\n",
       "    <tr>\n",
       "      <th>Australia and New Zealand</th>\n",
       "      <td>7.285000</td>\n",
       "      <td>7.284</td>\n",
       "      <td>7.286</td>\n",
       "      <td>0.001414</td>\n",
       "      <td>7.2850</td>\n",
       "      <td>0.002</td>\n",
       "    </tr>\n",
       "    <tr>\n",
       "      <th>Central and Eastern Europe</th>\n",
       "      <td>5.332931</td>\n",
       "      <td>4.218</td>\n",
       "      <td>6.505</td>\n",
       "      <td>0.570446</td>\n",
       "      <td>5.2860</td>\n",
       "      <td>2.287</td>\n",
       "    </tr>\n",
       "    <tr>\n",
       "      <th>Eastern Asia</th>\n",
       "      <td>5.626167</td>\n",
       "      <td>4.874</td>\n",
       "      <td>6.298</td>\n",
       "      <td>0.554053</td>\n",
       "      <td>5.7290</td>\n",
       "      <td>1.424</td>\n",
       "    </tr>\n",
       "    <tr>\n",
       "      <th>Latin America and Caribbean</th>\n",
       "      <td>6.144682</td>\n",
       "      <td>4.518</td>\n",
       "      <td>7.226</td>\n",
       "      <td>0.728560</td>\n",
       "      <td>6.1490</td>\n",
       "      <td>2.708</td>\n",
       "    </tr>\n",
       "    <tr>\n",
       "      <th>Middle East and Northern Africa</th>\n",
       "      <td>5.406900</td>\n",
       "      <td>3.006</td>\n",
       "      <td>7.278</td>\n",
       "      <td>1.101382</td>\n",
       "      <td>5.2620</td>\n",
       "      <td>4.272</td>\n",
       "    </tr>\n",
       "    <tr>\n",
       "      <th>North America</th>\n",
       "      <td>7.273000</td>\n",
       "      <td>7.119</td>\n",
       "      <td>7.427</td>\n",
       "      <td>0.217789</td>\n",
       "      <td>7.2730</td>\n",
       "      <td>0.308</td>\n",
       "    </tr>\n",
       "    <tr>\n",
       "      <th>Southeastern Asia</th>\n",
       "      <td>5.317444</td>\n",
       "      <td>3.819</td>\n",
       "      <td>6.798</td>\n",
       "      <td>0.950020</td>\n",
       "      <td>5.3600</td>\n",
       "      <td>2.979</td>\n",
       "    </tr>\n",
       "    <tr>\n",
       "      <th>Southern Asia</th>\n",
       "      <td>4.580857</td>\n",
       "      <td>3.575</td>\n",
       "      <td>5.253</td>\n",
       "      <td>0.570526</td>\n",
       "      <td>4.5650</td>\n",
       "      <td>1.678</td>\n",
       "    </tr>\n",
       "    <tr>\n",
       "      <th>Sub-Saharan Africa</th>\n",
       "      <td>4.202800</td>\n",
       "      <td>2.839</td>\n",
       "      <td>5.477</td>\n",
       "      <td>0.609557</td>\n",
       "      <td>4.2720</td>\n",
       "      <td>2.638</td>\n",
       "    </tr>\n",
       "    <tr>\n",
       "      <th>Western Europe</th>\n",
       "      <td>6.689619</td>\n",
       "      <td>4.857</td>\n",
       "      <td>7.587</td>\n",
       "      <td>0.824582</td>\n",
       "      <td>6.9370</td>\n",
       "      <td>2.730</td>\n",
       "    </tr>\n",
       "    <tr>\n",
       "      <th>All</th>\n",
       "      <td>5.375734</td>\n",
       "      <td>2.839</td>\n",
       "      <td>7.587</td>\n",
       "      <td>1.141381</td>\n",
       "      <td>5.2325</td>\n",
       "      <td>4.748</td>\n",
       "    </tr>\n",
       "  </tbody>\n",
       "</table>\n",
       "</div>"
      ],
      "text/plain": [
       "                                           mean            amin  \\\n",
       "                                Happiness Score Happiness Score   \n",
       "Region                                                            \n",
       "Australia and New Zealand              7.285000           7.284   \n",
       "Central and Eastern Europe             5.332931           4.218   \n",
       "Eastern Asia                           5.626167           4.874   \n",
       "Latin America and Caribbean            6.144682           4.518   \n",
       "Middle East and Northern Africa        5.406900           3.006   \n",
       "North America                          7.273000           7.119   \n",
       "Southeastern Asia                      5.317444           3.819   \n",
       "Southern Asia                          4.580857           3.575   \n",
       "Sub-Saharan Africa                     4.202800           2.839   \n",
       "Western Europe                         6.689619           4.857   \n",
       "All                                    5.375734           2.839   \n",
       "\n",
       "                                           amax             std  \\\n",
       "                                Happiness Score Happiness Score   \n",
       "Region                                                            \n",
       "Australia and New Zealand                 7.286        0.001414   \n",
       "Central and Eastern Europe                6.505        0.570446   \n",
       "Eastern Asia                              6.298        0.554053   \n",
       "Latin America and Caribbean               7.226        0.728560   \n",
       "Middle East and Northern Africa           7.278        1.101382   \n",
       "North America                             7.427        0.217789   \n",
       "Southeastern Asia                         6.798        0.950020   \n",
       "Southern Asia                             5.253        0.570526   \n",
       "Sub-Saharan Africa                        5.477        0.609557   \n",
       "Western Europe                            7.587        0.824582   \n",
       "All                                       7.587        1.141381   \n",
       "\n",
       "                                         median   range_between  \n",
       "                                Happiness Score Happiness Score  \n",
       "Region                                                           \n",
       "Australia and New Zealand                7.2850           0.002  \n",
       "Central and Eastern Europe               5.2860           2.287  \n",
       "Eastern Asia                             5.7290           1.424  \n",
       "Latin America and Caribbean              6.1490           2.708  \n",
       "Middle East and Northern Africa          5.2620           4.272  \n",
       "North America                            7.2730           0.308  \n",
       "Southeastern Asia                        5.3600           2.979  \n",
       "Southern Asia                            4.5650           1.678  \n",
       "Sub-Saharan Africa                       4.2720           2.638  \n",
       "Western Europe                           6.9370           2.730  \n",
       "All                                      5.2325           4.748  "
      ]
     },
     "execution_count": 1025,
     "metadata": {},
     "output_type": "execute_result"
    }
   ],
   "source": [
    "pv15_3434 = happiness2015.pivot_table(values=\"Happiness Score\", index='Region', \n",
    "                                      aggfunc=[np.mean, np.min, np.max, np.std, np.median, range_between], margins=True)\n",
    "\n",
    "pv15_3434"
   ]
  },
  {
   "cell_type": "code",
   "execution_count": 1026,
   "metadata": {},
   "outputs": [
    {
     "data": {
      "image/png": "[encoded data removed]",
      "text/plain": [
       "<Figure size 720x504 with 1 Axes>"
      ]
     },
     "metadata": {},
     "output_type": "display_data"
    }
   ],
   "source": [
    "sns.set(rc={'figure.figsize':(10,7)})\n",
    "ax=sns.boxplot(x=\"Region\", y=\"Happiness Score\", data = happiness2015)\n",
    "ax.set(title=\"Happiness Score by region\")\n",
    "plt.xticks(rotation=90)\n",
    "plt.show()"
   ]
  },
  {
   "cell_type": "markdown",
   "metadata": {},
   "source": [
    "Extracting 'Australia and New Zealand' group by index number taken from the dictionary."
   ]
  },
  {
   "cell_type": "code",
   "execution_count": 1027,
   "metadata": {},
   "outputs": [
    {
     "data": {
      "text/html": [
       "<div>\n",
       "<style>\n",
       "    .dataframe thead tr:only-child th {\n",
       "        text-align: right;\n",
       "    }\n",
       "\n",
       "    .dataframe thead th {\n",
       "        text-align: left;\n",
       "    }\n",
       "\n",
       "    .dataframe tbody tr th {\n",
       "        vertical-align: top;\n",
       "    }\n",
       "</style>\n",
       "<table border=\"1\" class=\"dataframe\">\n",
       "  <thead>\n",
       "    <tr style=\"text-align: right;\">\n",
       "      <th></th>\n",
       "      <th>Country</th>\n",
       "      <th>Region</th>\n",
       "      <th>Happiness Rank</th>\n",
       "      <th>Happiness Score</th>\n",
       "      <th>Standard Error</th>\n",
       "      <th>Economy (GDP per Capita)</th>\n",
       "      <th>Family</th>\n",
       "      <th>Health (Life Expectancy)</th>\n",
       "      <th>Freedom</th>\n",
       "      <th>Trust (Government Corruption)</th>\n",
       "      <th>Generosity</th>\n",
       "      <th>Dystopia Residual</th>\n",
       "      <th>year</th>\n",
       "    </tr>\n",
       "  </thead>\n",
       "  <tbody>\n",
       "    <tr>\n",
       "      <th>8</th>\n",
       "      <td>New Zealand</td>\n",
       "      <td>Australia and New Zealand</td>\n",
       "      <td>9</td>\n",
       "      <td>7.286</td>\n",
       "      <td>0.03371</td>\n",
       "      <td>1.25018</td>\n",
       "      <td>1.31967</td>\n",
       "      <td>0.90837</td>\n",
       "      <td>0.63938</td>\n",
       "      <td>0.42922</td>\n",
       "      <td>0.47501</td>\n",
       "      <td>2.26425</td>\n",
       "      <td>2015</td>\n",
       "    </tr>\n",
       "    <tr>\n",
       "      <th>9</th>\n",
       "      <td>Australia</td>\n",
       "      <td>Australia and New Zealand</td>\n",
       "      <td>10</td>\n",
       "      <td>7.284</td>\n",
       "      <td>0.04083</td>\n",
       "      <td>1.33358</td>\n",
       "      <td>1.30923</td>\n",
       "      <td>0.93156</td>\n",
       "      <td>0.65124</td>\n",
       "      <td>0.35637</td>\n",
       "      <td>0.43562</td>\n",
       "      <td>2.26646</td>\n",
       "      <td>2015</td>\n",
       "    </tr>\n",
       "  </tbody>\n",
       "</table>\n",
       "</div>"
      ],
      "text/plain": [
       "       Country                     Region  Happiness Rank  Happiness Score  \\\n",
       "8  New Zealand  Australia and New Zealand               9            7.286   \n",
       "9    Australia  Australia and New Zealand              10            7.284   \n",
       "\n",
       "   Standard Error  Economy (GDP per Capita)   Family  \\\n",
       "8         0.03371                   1.25018  1.31967   \n",
       "9         0.04083                   1.33358  1.30923   \n",
       "\n",
       "   Health (Life Expectancy)  Freedom  Trust (Government Corruption)  \\\n",
       "8                   0.90837  0.63938                        0.42922   \n",
       "9                   0.93156  0.65124                        0.35637   \n",
       "\n",
       "   Generosity  Dystopia Residual  year  \n",
       "8     0.47501            2.26425  2015  \n",
       "9     0.43562            2.26646  2015  "
      ]
     },
     "execution_count": 1027,
     "metadata": {},
     "output_type": "execute_result"
    }
   ],
   "source": [
    "happ_aus_nz = happiness2015.loc[[8,9],]\n",
    "happ_aus_nz"
   ]
  },
  {
   "cell_type": "markdown",
   "metadata": {},
   "source": [
    "Same for North America"
   ]
  },
  {
   "cell_type": "code",
   "execution_count": 1028,
   "metadata": {},
   "outputs": [],
   "source": [
    "hap15_na = happiness2015.loc[[4, 14], ]"
   ]
  },
  {
   "cell_type": "markdown",
   "metadata": {},
   "source": [
    "Australia and New Zealand"
   ]
  },
  {
   "cell_type": "code",
   "execution_count": 1029,
   "metadata": {},
   "outputs": [
    {
     "data": {
      "text/html": [
       "<div>\n",
       "<style>\n",
       "    .dataframe thead tr:only-child th {\n",
       "        text-align: right;\n",
       "    }\n",
       "\n",
       "    .dataframe thead th {\n",
       "        text-align: left;\n",
       "    }\n",
       "\n",
       "    .dataframe tbody tr th {\n",
       "        vertical-align: top;\n",
       "    }\n",
       "</style>\n",
       "<table border=\"1\" class=\"dataframe\">\n",
       "  <thead>\n",
       "    <tr style=\"text-align: right;\">\n",
       "      <th></th>\n",
       "      <th>Country</th>\n",
       "      <th>Region</th>\n",
       "      <th>Happiness Rank</th>\n",
       "      <th>Happiness Score</th>\n",
       "      <th>Standard Error</th>\n",
       "      <th>Economy (GDP per Capita)</th>\n",
       "      <th>Family</th>\n",
       "      <th>Health (Life Expectancy)</th>\n",
       "      <th>Freedom</th>\n",
       "      <th>Trust (Government Corruption)</th>\n",
       "      <th>Generosity</th>\n",
       "      <th>Dystopia Residual</th>\n",
       "      <th>year</th>\n",
       "    </tr>\n",
       "  </thead>\n",
       "  <tbody>\n",
       "    <tr>\n",
       "      <th>8</th>\n",
       "      <td>New Zealand</td>\n",
       "      <td>Australia and New Zealand</td>\n",
       "      <td>9</td>\n",
       "      <td>7.286</td>\n",
       "      <td>0.03371</td>\n",
       "      <td>1.25018</td>\n",
       "      <td>1.31967</td>\n",
       "      <td>0.90837</td>\n",
       "      <td>0.63938</td>\n",
       "      <td>0.42922</td>\n",
       "      <td>0.47501</td>\n",
       "      <td>2.26425</td>\n",
       "      <td>2015</td>\n",
       "    </tr>\n",
       "    <tr>\n",
       "      <th>9</th>\n",
       "      <td>Australia</td>\n",
       "      <td>Australia and New Zealand</td>\n",
       "      <td>10</td>\n",
       "      <td>7.284</td>\n",
       "      <td>0.04083</td>\n",
       "      <td>1.33358</td>\n",
       "      <td>1.30923</td>\n",
       "      <td>0.93156</td>\n",
       "      <td>0.65124</td>\n",
       "      <td>0.35637</td>\n",
       "      <td>0.43562</td>\n",
       "      <td>2.26646</td>\n",
       "      <td>2015</td>\n",
       "    </tr>\n",
       "  </tbody>\n",
       "</table>\n",
       "</div>"
      ],
      "text/plain": [
       "       Country                     Region  Happiness Rank  Happiness Score  \\\n",
       "8  New Zealand  Australia and New Zealand               9            7.286   \n",
       "9    Australia  Australia and New Zealand              10            7.284   \n",
       "\n",
       "   Standard Error  Economy (GDP per Capita)   Family  \\\n",
       "8         0.03371                   1.25018  1.31967   \n",
       "9         0.04083                   1.33358  1.30923   \n",
       "\n",
       "   Health (Life Expectancy)  Freedom  Trust (Government Corruption)  \\\n",
       "8                   0.90837  0.63938                        0.42922   \n",
       "9                   0.93156  0.65124                        0.35637   \n",
       "\n",
       "   Generosity  Dystopia Residual  year  \n",
       "8     0.47501            2.26425  2015  \n",
       "9     0.43562            2.26646  2015  "
      ]
     },
     "execution_count": 1029,
     "metadata": {},
     "output_type": "execute_result"
    }
   ],
   "source": [
    "grouped23 = grouped_region_15.get_group('Australia and New Zealand')\n",
    "grouped23"
   ]
  },
  {
   "cell_type": "code",
   "execution_count": 1030,
   "metadata": {},
   "outputs": [
    {
     "data": {
      "text/plain": [
       "Happiness Score             7.285000\n",
       "Health (Life Expectancy)    0.919965\n",
       "dtype: float64"
      ]
     },
     "execution_count": 1030,
     "metadata": {},
     "output_type": "execute_result"
    }
   ],
   "source": [
    "grouped23[['Happiness Score', 'Health (Life Expectancy)']].mean()"
   ]
  },
  {
   "cell_type": "code",
   "execution_count": 1031,
   "metadata": {},
   "outputs": [
    {
     "data": {
      "text/plain": [
       "[Text(0, 0.5, 'Happiness Score'), Text(0.5, 0, 'Country')]"
      ]
     },
     "execution_count": 1031,
     "metadata": {},
     "output_type": "execute_result"
    },
    {
     "data": {
      "image/png": "[encoded data removed]",
      "text/plain": [
       "<Figure size 504x288 with 1 Axes>"
      ]
     },
     "metadata": {},
     "output_type": "display_data"
    }
   ],
   "source": [
    "sns.set(rc={'figure.figsize':(7,4)})\n",
    "ax=sns.barplot(y='Happiness Score',x=\"Country\", data=grouped23)\n",
    "ax.set(xlabel='Country', ylabel='Happiness Score')"
   ]
  },
  {
   "cell_type": "code",
   "execution_count": 1032,
   "metadata": {},
   "outputs": [
    {
     "data": {
      "image/png": "[encoded data removed]",
      "text/plain": [
       "<Figure size 504x360 with 1 Axes>"
      ]
     },
     "metadata": {},
     "output_type": "display_data"
    }
   ],
   "source": [
    "\n",
    "sns.set(rc={'figure.figsize':(7,5)})\n",
    "ax = sns.boxplot(x=\"Health (Life Expectancy)\", data=grouped23, color=\"pink\")\n",
    "plt.show()"
   ]
  },
  {
   "cell_type": "markdown",
   "metadata": {},
   "source": [
    "Western Europe"
   ]
  },
  {
   "cell_type": "code",
   "execution_count": 1033,
   "metadata": {},
   "outputs": [
    {
     "data": {
      "text/html": [
       "<div>\n",
       "<style>\n",
       "    .dataframe thead tr:only-child th {\n",
       "        text-align: right;\n",
       "    }\n",
       "\n",
       "    .dataframe thead th {\n",
       "        text-align: left;\n",
       "    }\n",
       "\n",
       "    .dataframe tbody tr th {\n",
       "        vertical-align: top;\n",
       "    }\n",
       "</style>\n",
       "<table border=\"1\" class=\"dataframe\">\n",
       "  <thead>\n",
       "    <tr style=\"text-align: right;\">\n",
       "      <th></th>\n",
       "      <th>Country</th>\n",
       "      <th>Region</th>\n",
       "      <th>Happiness Rank</th>\n",
       "      <th>Happiness Score</th>\n",
       "      <th>Standard Error</th>\n",
       "      <th>Economy (GDP per Capita)</th>\n",
       "      <th>Family</th>\n",
       "      <th>Health (Life Expectancy)</th>\n",
       "      <th>Freedom</th>\n",
       "      <th>Trust (Government Corruption)</th>\n",
       "      <th>Generosity</th>\n",
       "      <th>Dystopia Residual</th>\n",
       "      <th>year</th>\n",
       "    </tr>\n",
       "  </thead>\n",
       "  <tbody>\n",
       "    <tr>\n",
       "      <th>0</th>\n",
       "      <td>Switzerland</td>\n",
       "      <td>Western Europe</td>\n",
       "      <td>1</td>\n",
       "      <td>7.587</td>\n",
       "      <td>0.03411</td>\n",
       "      <td>1.39651</td>\n",
       "      <td>1.34951</td>\n",
       "      <td>0.94143</td>\n",
       "      <td>0.66557</td>\n",
       "      <td>0.41978</td>\n",
       "      <td>0.29678</td>\n",
       "      <td>2.51738</td>\n",
       "      <td>2015</td>\n",
       "    </tr>\n",
       "    <tr>\n",
       "      <th>1</th>\n",
       "      <td>Iceland</td>\n",
       "      <td>Western Europe</td>\n",
       "      <td>2</td>\n",
       "      <td>7.561</td>\n",
       "      <td>0.04884</td>\n",
       "      <td>1.30232</td>\n",
       "      <td>1.40223</td>\n",
       "      <td>0.94784</td>\n",
       "      <td>0.62877</td>\n",
       "      <td>0.14145</td>\n",
       "      <td>0.43630</td>\n",
       "      <td>2.70201</td>\n",
       "      <td>2015</td>\n",
       "    </tr>\n",
       "    <tr>\n",
       "      <th>2</th>\n",
       "      <td>Denmark</td>\n",
       "      <td>Western Europe</td>\n",
       "      <td>3</td>\n",
       "      <td>7.527</td>\n",
       "      <td>0.03328</td>\n",
       "      <td>1.32548</td>\n",
       "      <td>1.36058</td>\n",
       "      <td>0.87464</td>\n",
       "      <td>0.64938</td>\n",
       "      <td>0.48357</td>\n",
       "      <td>0.34139</td>\n",
       "      <td>2.49204</td>\n",
       "      <td>2015</td>\n",
       "    </tr>\n",
       "    <tr>\n",
       "      <th>3</th>\n",
       "      <td>Norway</td>\n",
       "      <td>Western Europe</td>\n",
       "      <td>4</td>\n",
       "      <td>7.522</td>\n",
       "      <td>0.03880</td>\n",
       "      <td>1.45900</td>\n",
       "      <td>1.33095</td>\n",
       "      <td>0.88521</td>\n",
       "      <td>0.66973</td>\n",
       "      <td>0.36503</td>\n",
       "      <td>0.34699</td>\n",
       "      <td>2.46531</td>\n",
       "      <td>2015</td>\n",
       "    </tr>\n",
       "    <tr>\n",
       "      <th>5</th>\n",
       "      <td>Finland</td>\n",
       "      <td>Western Europe</td>\n",
       "      <td>6</td>\n",
       "      <td>7.406</td>\n",
       "      <td>0.03140</td>\n",
       "      <td>1.29025</td>\n",
       "      <td>1.31826</td>\n",
       "      <td>0.88911</td>\n",
       "      <td>0.64169</td>\n",
       "      <td>0.41372</td>\n",
       "      <td>0.23351</td>\n",
       "      <td>2.61955</td>\n",
       "      <td>2015</td>\n",
       "    </tr>\n",
       "  </tbody>\n",
       "</table>\n",
       "</div>"
      ],
      "text/plain": [
       "       Country          Region  Happiness Rank  Happiness Score  \\\n",
       "0  Switzerland  Western Europe               1            7.587   \n",
       "1      Iceland  Western Europe               2            7.561   \n",
       "2      Denmark  Western Europe               3            7.527   \n",
       "3       Norway  Western Europe               4            7.522   \n",
       "5      Finland  Western Europe               6            7.406   \n",
       "\n",
       "   Standard Error  Economy (GDP per Capita)   Family  \\\n",
       "0         0.03411                   1.39651  1.34951   \n",
       "1         0.04884                   1.30232  1.40223   \n",
       "2         0.03328                   1.32548  1.36058   \n",
       "3         0.03880                   1.45900  1.33095   \n",
       "5         0.03140                   1.29025  1.31826   \n",
       "\n",
       "   Health (Life Expectancy)  Freedom  Trust (Government Corruption)  \\\n",
       "0                   0.94143  0.66557                        0.41978   \n",
       "1                   0.94784  0.62877                        0.14145   \n",
       "2                   0.87464  0.64938                        0.48357   \n",
       "3                   0.88521  0.66973                        0.36503   \n",
       "5                   0.88911  0.64169                        0.41372   \n",
       "\n",
       "   Generosity  Dystopia Residual  year  \n",
       "0     0.29678            2.51738  2015  \n",
       "1     0.43630            2.70201  2015  \n",
       "2     0.34139            2.49204  2015  \n",
       "3     0.34699            2.46531  2015  \n",
       "5     0.23351            2.61955  2015  "
      ]
     },
     "execution_count": 1033,
     "metadata": {},
     "output_type": "execute_result"
    }
   ],
   "source": [
    "group8934 = grouped_region_15.get_group('Western Europe')\n",
    "group8934.head()"
   ]
  },
  {
   "cell_type": "code",
   "execution_count": 1034,
   "metadata": {},
   "outputs": [
    {
     "data": {
      "text/plain": [
       "Happiness Score             6.689619\n",
       "Health (Life Expectancy)    0.909148\n",
       "dtype: float64"
      ]
     },
     "execution_count": 1034,
     "metadata": {},
     "output_type": "execute_result"
    }
   ],
   "source": [
    "group8934[['Happiness Score', 'Health (Life Expectancy)']].mean()"
   ]
  },
  {
   "cell_type": "code",
   "execution_count": 1035,
   "metadata": {},
   "outputs": [
    {
     "data": {
      "image/png": "[encoded data removed]",
      "text/plain": [
       "<Figure size 1728x576 with 1 Axes>"
      ]
     },
     "metadata": {},
     "output_type": "display_data"
    }
   ],
   "source": [
    "\n",
    "sns.set(rc={'figure.figsize':(24,8)})\n",
    "ax = sns.barplot(x=\"Country\", y =\"Happiness Score\", data=group8934)\n",
    "ax.set(xlabel=\"Country\", ylabel=\"Happiness Score\", title=\"Happiness Score of countries of the Western Europe region\")\n",
    "plt.show()"
   ]
  },
  {
   "cell_type": "code",
   "execution_count": 1036,
   "metadata": {},
   "outputs": [
    {
     "data": {
      "text/plain": [
       "[Text(0.5, 0, 'Health (Life Expectancy)'),\n",
       " Text(0.5, 1.0, 'Wester Europe region')]"
      ]
     },
     "execution_count": 1036,
     "metadata": {},
     "output_type": "execute_result"
    },
    {
     "data": {
      "image/png": "[encoded data removed]",
      "text/plain": [
       "<Figure size 864x432 with 1 Axes>"
      ]
     },
     "metadata": {},
     "output_type": "display_data"
    }
   ],
   "source": [
    "sns.set(rc={'figure.figsize':(12,6)})\n",
    "ax = sns.boxplot(x=\"Health (Life Expectancy)\", data=group8934, color=\"red\")\n",
    "ax.set(xlabel=\"Health (Life Expectancy)\", title=\"Wester Europe region\")"
   ]
  },
  {
   "cell_type": "markdown",
   "metadata": {},
   "source": [
    "Aggregate the mean of multiple variables "
   ]
  },
  {
   "cell_type": "code",
   "execution_count": 1037,
   "metadata": {},
   "outputs": [
    {
     "data": {
      "text/html": [
       "<div>\n",
       "<style>\n",
       "    .dataframe thead tr:only-child th {\n",
       "        text-align: right;\n",
       "    }\n",
       "\n",
       "    .dataframe thead th {\n",
       "        text-align: left;\n",
       "    }\n",
       "\n",
       "    .dataframe tbody tr th {\n",
       "        vertical-align: top;\n",
       "    }\n",
       "</style>\n",
       "<table border=\"1\" class=\"dataframe\">\n",
       "  <thead>\n",
       "    <tr>\n",
       "      <th></th>\n",
       "      <th colspan=\"4\" halign=\"left\">mean</th>\n",
       "      <th colspan=\"4\" halign=\"left\">amax</th>\n",
       "      <th colspan=\"4\" halign=\"left\">amin</th>\n",
       "    </tr>\n",
       "    <tr>\n",
       "      <th></th>\n",
       "      <th>Economy (GDP per Capita)</th>\n",
       "      <th>Family</th>\n",
       "      <th>Happiness Score</th>\n",
       "      <th>Health (Life Expectancy)</th>\n",
       "      <th>Economy (GDP per Capita)</th>\n",
       "      <th>Family</th>\n",
       "      <th>Happiness Score</th>\n",
       "      <th>Health (Life Expectancy)</th>\n",
       "      <th>Economy (GDP per Capita)</th>\n",
       "      <th>Family</th>\n",
       "      <th>Happiness Score</th>\n",
       "      <th>Health (Life Expectancy)</th>\n",
       "    </tr>\n",
       "    <tr>\n",
       "      <th>Region</th>\n",
       "      <th></th>\n",
       "      <th></th>\n",
       "      <th></th>\n",
       "      <th></th>\n",
       "      <th></th>\n",
       "      <th></th>\n",
       "      <th></th>\n",
       "      <th></th>\n",
       "      <th></th>\n",
       "      <th></th>\n",
       "      <th></th>\n",
       "      <th></th>\n",
       "    </tr>\n",
       "  </thead>\n",
       "  <tbody>\n",
       "    <tr>\n",
       "      <th>Australia and New Zealand</th>\n",
       "      <td>1.291880</td>\n",
       "      <td>1.314450</td>\n",
       "      <td>7.285000</td>\n",
       "      <td>0.919965</td>\n",
       "      <td>1.33358</td>\n",
       "      <td>1.31967</td>\n",
       "      <td>7.286</td>\n",
       "      <td>0.93156</td>\n",
       "      <td>1.25018</td>\n",
       "      <td>1.30923</td>\n",
       "      <td>7.284</td>\n",
       "      <td>0.90837</td>\n",
       "    </tr>\n",
       "    <tr>\n",
       "      <th>Central and Eastern Europe</th>\n",
       "      <td>0.942438</td>\n",
       "      <td>1.053042</td>\n",
       "      <td>5.332931</td>\n",
       "      <td>0.718774</td>\n",
       "      <td>1.18498</td>\n",
       "      <td>1.34043</td>\n",
       "      <td>6.505</td>\n",
       "      <td>0.87337</td>\n",
       "      <td>0.39047</td>\n",
       "      <td>0.38562</td>\n",
       "      <td>4.218</td>\n",
       "      <td>0.53886</td>\n",
       "    </tr>\n",
       "    <tr>\n",
       "      <th>Eastern Asia</th>\n",
       "      <td>1.151780</td>\n",
       "      <td>1.099427</td>\n",
       "      <td>5.626167</td>\n",
       "      <td>0.877388</td>\n",
       "      <td>1.38604</td>\n",
       "      <td>1.30060</td>\n",
       "      <td>6.298</td>\n",
       "      <td>1.01328</td>\n",
       "      <td>0.82819</td>\n",
       "      <td>0.94675</td>\n",
       "      <td>4.874</td>\n",
       "      <td>0.60268</td>\n",
       "    </tr>\n",
       "    <tr>\n",
       "      <th>Latin America and Caribbean</th>\n",
       "      <td>0.876815</td>\n",
       "      <td>1.104720</td>\n",
       "      <td>6.144682</td>\n",
       "      <td>0.703870</td>\n",
       "      <td>1.21183</td>\n",
       "      <td>1.30477</td>\n",
       "      <td>7.226</td>\n",
       "      <td>0.86027</td>\n",
       "      <td>0.26673</td>\n",
       "      <td>0.74302</td>\n",
       "      <td>4.518</td>\n",
       "      <td>0.38847</td>\n",
       "    </tr>\n",
       "    <tr>\n",
       "      <th>Middle East and Northern Africa</th>\n",
       "      <td>1.066973</td>\n",
       "      <td>0.920490</td>\n",
       "      <td>5.406900</td>\n",
       "      <td>0.705616</td>\n",
       "      <td>1.69042</td>\n",
       "      <td>1.22393</td>\n",
       "      <td>7.278</td>\n",
       "      <td>0.91387</td>\n",
       "      <td>0.54649</td>\n",
       "      <td>0.47489</td>\n",
       "      <td>3.006</td>\n",
       "      <td>0.40064</td>\n",
       "    </tr>\n",
       "    <tr>\n",
       "      <th>North America</th>\n",
       "      <td>1.360400</td>\n",
       "      <td>1.284860</td>\n",
       "      <td>7.273000</td>\n",
       "      <td>0.883710</td>\n",
       "      <td>1.39451</td>\n",
       "      <td>1.32261</td>\n",
       "      <td>7.427</td>\n",
       "      <td>0.90563</td>\n",
       "      <td>1.32629</td>\n",
       "      <td>1.24711</td>\n",
       "      <td>7.119</td>\n",
       "      <td>0.86179</td>\n",
       "    </tr>\n",
       "    <tr>\n",
       "      <th>Southeastern Asia</th>\n",
       "      <td>0.789054</td>\n",
       "      <td>0.940468</td>\n",
       "      <td>5.317444</td>\n",
       "      <td>0.677357</td>\n",
       "      <td>1.52186</td>\n",
       "      <td>1.26504</td>\n",
       "      <td>6.798</td>\n",
       "      <td>1.02525</td>\n",
       "      <td>0.27108</td>\n",
       "      <td>0.62736</td>\n",
       "      <td>3.819</td>\n",
       "      <td>0.48246</td>\n",
       "    </tr>\n",
       "    <tr>\n",
       "      <th>Southern Asia</th>\n",
       "      <td>0.560486</td>\n",
       "      <td>0.645321</td>\n",
       "      <td>4.580857</td>\n",
       "      <td>0.540830</td>\n",
       "      <td>0.83524</td>\n",
       "      <td>1.10395</td>\n",
       "      <td>5.253</td>\n",
       "      <td>0.70806</td>\n",
       "      <td>0.31982</td>\n",
       "      <td>0.30285</td>\n",
       "      <td>3.575</td>\n",
       "      <td>0.30335</td>\n",
       "    </tr>\n",
       "    <tr>\n",
       "      <th>Sub-Saharan Africa</th>\n",
       "      <td>0.380473</td>\n",
       "      <td>0.809085</td>\n",
       "      <td>4.202800</td>\n",
       "      <td>0.282332</td>\n",
       "      <td>1.06024</td>\n",
       "      <td>1.18468</td>\n",
       "      <td>5.477</td>\n",
       "      <td>0.70950</td>\n",
       "      <td>0.00000</td>\n",
       "      <td>0.00000</td>\n",
       "      <td>2.839</td>\n",
       "      <td>0.00000</td>\n",
       "    </tr>\n",
       "    <tr>\n",
       "      <th>Western Europe</th>\n",
       "      <td>1.298596</td>\n",
       "      <td>1.247302</td>\n",
       "      <td>6.689619</td>\n",
       "      <td>0.909148</td>\n",
       "      <td>1.56391</td>\n",
       "      <td>1.40223</td>\n",
       "      <td>7.587</td>\n",
       "      <td>0.95562</td>\n",
       "      <td>1.15406</td>\n",
       "      <td>0.89318</td>\n",
       "      <td>4.857</td>\n",
       "      <td>0.87464</td>\n",
       "    </tr>\n",
       "  </tbody>\n",
       "</table>\n",
       "</div>"
      ],
      "text/plain": [
       "                                                    mean            \\\n",
       "                                Economy (GDP per Capita)    Family   \n",
       "Region                                                               \n",
       "Australia and New Zealand                       1.291880  1.314450   \n",
       "Central and Eastern Europe                      0.942438  1.053042   \n",
       "Eastern Asia                                    1.151780  1.099427   \n",
       "Latin America and Caribbean                     0.876815  1.104720   \n",
       "Middle East and Northern Africa                 1.066973  0.920490   \n",
       "North America                                   1.360400  1.284860   \n",
       "Southeastern Asia                               0.789054  0.940468   \n",
       "Southern Asia                                   0.560486  0.645321   \n",
       "Sub-Saharan Africa                              0.380473  0.809085   \n",
       "Western Europe                                  1.298596  1.247302   \n",
       "\n",
       "                                                                          \\\n",
       "                                Happiness Score Health (Life Expectancy)   \n",
       "Region                                                                     \n",
       "Australia and New Zealand              7.285000                 0.919965   \n",
       "Central and Eastern Europe             5.332931                 0.718774   \n",
       "Eastern Asia                           5.626167                 0.877388   \n",
       "Latin America and Caribbean            6.144682                 0.703870   \n",
       "Middle East and Northern Africa        5.406900                 0.705616   \n",
       "North America                          7.273000                 0.883710   \n",
       "Southeastern Asia                      5.317444                 0.677357   \n",
       "Southern Asia                          4.580857                 0.540830   \n",
       "Sub-Saharan Africa                     4.202800                 0.282332   \n",
       "Western Europe                         6.689619                 0.909148   \n",
       "\n",
       "                                                    amax           \\\n",
       "                                Economy (GDP per Capita)   Family   \n",
       "Region                                                              \n",
       "Australia and New Zealand                        1.33358  1.31967   \n",
       "Central and Eastern Europe                       1.18498  1.34043   \n",
       "Eastern Asia                                     1.38604  1.30060   \n",
       "Latin America and Caribbean                      1.21183  1.30477   \n",
       "Middle East and Northern Africa                  1.69042  1.22393   \n",
       "North America                                    1.39451  1.32261   \n",
       "Southeastern Asia                                1.52186  1.26504   \n",
       "Southern Asia                                    0.83524  1.10395   \n",
       "Sub-Saharan Africa                               1.06024  1.18468   \n",
       "Western Europe                                   1.56391  1.40223   \n",
       "\n",
       "                                                                          \\\n",
       "                                Happiness Score Health (Life Expectancy)   \n",
       "Region                                                                     \n",
       "Australia and New Zealand                 7.286                  0.93156   \n",
       "Central and Eastern Europe                6.505                  0.87337   \n",
       "Eastern Asia                              6.298                  1.01328   \n",
       "Latin America and Caribbean               7.226                  0.86027   \n",
       "Middle East and Northern Africa           7.278                  0.91387   \n",
       "North America                             7.427                  0.90563   \n",
       "Southeastern Asia                         6.798                  1.02525   \n",
       "Southern Asia                             5.253                  0.70806   \n",
       "Sub-Saharan Africa                        5.477                  0.70950   \n",
       "Western Europe                            7.587                  0.95562   \n",
       "\n",
       "                                                    amin           \\\n",
       "                                Economy (GDP per Capita)   Family   \n",
       "Region                                                              \n",
       "Australia and New Zealand                        1.25018  1.30923   \n",
       "Central and Eastern Europe                       0.39047  0.38562   \n",
       "Eastern Asia                                     0.82819  0.94675   \n",
       "Latin America and Caribbean                      0.26673  0.74302   \n",
       "Middle East and Northern Africa                  0.54649  0.47489   \n",
       "North America                                    1.32629  1.24711   \n",
       "Southeastern Asia                                0.27108  0.62736   \n",
       "Southern Asia                                    0.31982  0.30285   \n",
       "Sub-Saharan Africa                               0.00000  0.00000   \n",
       "Western Europe                                   1.15406  0.89318   \n",
       "\n",
       "                                                                          \n",
       "                                Happiness Score Health (Life Expectancy)  \n",
       "Region                                                                    \n",
       "Australia and New Zealand                 7.284                  0.90837  \n",
       "Central and Eastern Europe                4.218                  0.53886  \n",
       "Eastern Asia                              4.874                  0.60268  \n",
       "Latin America and Caribbean               4.518                  0.38847  \n",
       "Middle East and Northern Africa           3.006                  0.40064  \n",
       "North America                             7.119                  0.86179  \n",
       "Southeastern Asia                         3.819                  0.48246  \n",
       "Southern Asia                             3.575                  0.30335  \n",
       "Sub-Saharan Africa                        2.839                  0.00000  \n",
       "Western Europe                            4.857                  0.87464  "
      ]
     },
     "execution_count": 1037,
     "metadata": {},
     "output_type": "execute_result"
    }
   ],
   "source": [
    "pv_334 = happiness2015.pivot_table(values=['Happiness Score', 'Family', 'Economy (GDP per Capita)', 'Health (Life Expectancy)'], \n",
    "                                   index='Region', aggfunc=[np.mean, np.max, np.min])\n",
    "pv_334"
   ]
  },
  {
   "cell_type": "code",
   "execution_count": 1038,
   "metadata": {},
   "outputs": [
    {
     "data": {
      "text/html": [
       "<div>\n",
       "<style>\n",
       "    .dataframe thead tr:only-child th {\n",
       "        text-align: right;\n",
       "    }\n",
       "\n",
       "    .dataframe thead th {\n",
       "        text-align: left;\n",
       "    }\n",
       "\n",
       "    .dataframe tbody tr th {\n",
       "        vertical-align: top;\n",
       "    }\n",
       "</style>\n",
       "<table border=\"1\" class=\"dataframe\">\n",
       "  <thead>\n",
       "    <tr>\n",
       "      <th></th>\n",
       "      <th colspan=\"3\" halign=\"left\">Family</th>\n",
       "      <th colspan=\"3\" halign=\"left\">Happiness Score</th>\n",
       "    </tr>\n",
       "    <tr>\n",
       "      <th></th>\n",
       "      <th>mean</th>\n",
       "      <th>amax</th>\n",
       "      <th>amin</th>\n",
       "      <th>mean</th>\n",
       "      <th>amax</th>\n",
       "      <th>amin</th>\n",
       "    </tr>\n",
       "    <tr>\n",
       "      <th>Region</th>\n",
       "      <th></th>\n",
       "      <th></th>\n",
       "      <th></th>\n",
       "      <th></th>\n",
       "      <th></th>\n",
       "      <th></th>\n",
       "    </tr>\n",
       "  </thead>\n",
       "  <tbody>\n",
       "    <tr>\n",
       "      <th>Australia and New Zealand</th>\n",
       "      <td>1.314450</td>\n",
       "      <td>1.31967</td>\n",
       "      <td>1.30923</td>\n",
       "      <td>7.285000</td>\n",
       "      <td>7.286</td>\n",
       "      <td>7.284</td>\n",
       "    </tr>\n",
       "    <tr>\n",
       "      <th>Central and Eastern Europe</th>\n",
       "      <td>1.053042</td>\n",
       "      <td>1.34043</td>\n",
       "      <td>0.38562</td>\n",
       "      <td>5.332931</td>\n",
       "      <td>6.505</td>\n",
       "      <td>4.218</td>\n",
       "    </tr>\n",
       "    <tr>\n",
       "      <th>Eastern Asia</th>\n",
       "      <td>1.099427</td>\n",
       "      <td>1.30060</td>\n",
       "      <td>0.94675</td>\n",
       "      <td>5.626167</td>\n",
       "      <td>6.298</td>\n",
       "      <td>4.874</td>\n",
       "    </tr>\n",
       "    <tr>\n",
       "      <th>Latin America and Caribbean</th>\n",
       "      <td>1.104720</td>\n",
       "      <td>1.30477</td>\n",
       "      <td>0.74302</td>\n",
       "      <td>6.144682</td>\n",
       "      <td>7.226</td>\n",
       "      <td>4.518</td>\n",
       "    </tr>\n",
       "    <tr>\n",
       "      <th>Middle East and Northern Africa</th>\n",
       "      <td>0.920490</td>\n",
       "      <td>1.22393</td>\n",
       "      <td>0.47489</td>\n",
       "      <td>5.406900</td>\n",
       "      <td>7.278</td>\n",
       "      <td>3.006</td>\n",
       "    </tr>\n",
       "    <tr>\n",
       "      <th>North America</th>\n",
       "      <td>1.284860</td>\n",
       "      <td>1.32261</td>\n",
       "      <td>1.24711</td>\n",
       "      <td>7.273000</td>\n",
       "      <td>7.427</td>\n",
       "      <td>7.119</td>\n",
       "    </tr>\n",
       "    <tr>\n",
       "      <th>Southeastern Asia</th>\n",
       "      <td>0.940468</td>\n",
       "      <td>1.26504</td>\n",
       "      <td>0.62736</td>\n",
       "      <td>5.317444</td>\n",
       "      <td>6.798</td>\n",
       "      <td>3.819</td>\n",
       "    </tr>\n",
       "    <tr>\n",
       "      <th>Southern Asia</th>\n",
       "      <td>0.645321</td>\n",
       "      <td>1.10395</td>\n",
       "      <td>0.30285</td>\n",
       "      <td>4.580857</td>\n",
       "      <td>5.253</td>\n",
       "      <td>3.575</td>\n",
       "    </tr>\n",
       "    <tr>\n",
       "      <th>Sub-Saharan Africa</th>\n",
       "      <td>0.809085</td>\n",
       "      <td>1.18468</td>\n",
       "      <td>0.00000</td>\n",
       "      <td>4.202800</td>\n",
       "      <td>5.477</td>\n",
       "      <td>2.839</td>\n",
       "    </tr>\n",
       "    <tr>\n",
       "      <th>Western Europe</th>\n",
       "      <td>1.247302</td>\n",
       "      <td>1.40223</td>\n",
       "      <td>0.89318</td>\n",
       "      <td>6.689619</td>\n",
       "      <td>7.587</td>\n",
       "      <td>4.857</td>\n",
       "    </tr>\n",
       "  </tbody>\n",
       "</table>\n",
       "</div>"
      ],
      "text/plain": [
       "                                   Family                   Happiness Score  \\\n",
       "                                     mean     amax     amin            mean   \n",
       "Region                                                                        \n",
       "Australia and New Zealand        1.314450  1.31967  1.30923        7.285000   \n",
       "Central and Eastern Europe       1.053042  1.34043  0.38562        5.332931   \n",
       "Eastern Asia                     1.099427  1.30060  0.94675        5.626167   \n",
       "Latin America and Caribbean      1.104720  1.30477  0.74302        6.144682   \n",
       "Middle East and Northern Africa  0.920490  1.22393  0.47489        5.406900   \n",
       "North America                    1.284860  1.32261  1.24711        7.273000   \n",
       "Southeastern Asia                0.940468  1.26504  0.62736        5.317444   \n",
       "Southern Asia                    0.645321  1.10395  0.30285        4.580857   \n",
       "Sub-Saharan Africa               0.809085  1.18468  0.00000        4.202800   \n",
       "Western Europe                   1.247302  1.40223  0.89318        6.689619   \n",
       "\n",
       "                                               \n",
       "                                  amax   amin  \n",
       "Region                                         \n",
       "Australia and New Zealand        7.286  7.284  \n",
       "Central and Eastern Europe       6.505  4.218  \n",
       "Eastern Asia                     6.298  4.874  \n",
       "Latin America and Caribbean      7.226  4.518  \n",
       "Middle East and Northern Africa  7.278  3.006  \n",
       "North America                    7.427  7.119  \n",
       "Southeastern Asia                6.798  3.819  \n",
       "Southern Asia                    5.253  3.575  \n",
       "Sub-Saharan Africa               5.477  2.839  \n",
       "Western Europe                   7.587  4.857  "
      ]
     },
     "execution_count": 1038,
     "metadata": {},
     "output_type": "execute_result"
    }
   ],
   "source": [
    "pv_56654 = happiness2015.groupby('Region')['Family', 'Happiness Score'].agg([np.mean, np.max, np.min])\n",
    "pv_56654"
   ]
  },
  {
   "cell_type": "markdown",
   "metadata": {},
   "source": [
    "The estimated extent to which family contributes to the happiness score is on average highest \n",
    "in Australia and New Zealand (1.314450) and lowest in Southern Asia (0.645321) and Sub-Saharan Africa (0.809085).\n",
    "This is maybe contra intuitive as developing countries rely more strongly on family ties as a support mechanism \n",
    "contrary to developed countries with public wellfare and pension. Family plays a greater economic role in the former.\n",
    "However this could be also an explanation. As family is released from the economic function it is less an economic burden and contributes more to happiness."
   ]
  },
  {
   "cell_type": "markdown",
   "metadata": {},
   "source": [
    "### Did world happiness grow, shrink, or was more or less constant from 2015 to 2017?"
   ]
  },
  {
   "cell_type": "code",
   "execution_count": 1039,
   "metadata": {},
   "outputs": [
    {
     "name": "stdout",
     "output_type": "stream",
     "text": [
      "Index(['Country', 'Region', 'Happiness Rank', 'Happiness Score',\n",
      "       'Lower Confidence Interval', 'Upper Confidence Interval',\n",
      "       'Economy (GDP per Capita)', 'Family', 'Health (Life Expectancy)',\n",
      "       'Freedom', 'Trust (Government Corruption)', 'Generosity',\n",
      "       'Dystopia Residual', 'year'],\n",
      "      dtype='object')\n",
      "0    2016\n",
      "1    2016\n",
      "2    2016\n",
      "3    2016\n",
      "Name: year, dtype: object\n"
     ]
    }
   ],
   "source": [
    "print(happiness2016.columns)\n",
    "print(happiness2016.loc[0:3,'year'])"
   ]
  },
  {
   "cell_type": "markdown",
   "metadata": {},
   "source": [
    "Try out concat"
   ]
  },
  {
   "cell_type": "code",
   "execution_count": 1040,
   "metadata": {},
   "outputs": [
    {
     "name": "stdout",
     "output_type": "stream",
     "text": [
      "       Country  Happiness Score  year\n",
      "0  Switzerland            7.587  2015\n",
      "1      Iceland            7.561  2015\n",
      "2      Denmark            7.527  2015\n",
      "       Country  Happiness Score  year\n",
      "0      Denmark            7.526  2016\n",
      "1  Switzerland            7.509  2016\n",
      "2      Iceland            7.501  2016\n"
     ]
    }
   ],
   "source": [
    "head_2015 = happiness2015[['Country','Happiness Score', 'year']].head(3)\n",
    "head_2016 = happiness2016[['Country','Happiness Score', 'year']].head(3)\n",
    "print(head_2015)\n",
    "print(head_2016)"
   ]
  },
  {
   "cell_type": "code",
   "execution_count": 1041,
   "metadata": {},
   "outputs": [],
   "source": [
    "concat_axis_0 = pd.concat([head_2015, head_2016] , axis= 0)\n",
    "concat_axis_1 = pd.concat([head_2015, head_2016] , axis= 1)"
   ]
  },
  {
   "cell_type": "code",
   "execution_count": 1042,
   "metadata": {},
   "outputs": [
    {
     "name": "stdout",
     "output_type": "stream",
     "text": [
      "       Country  Happiness Score  year\n",
      "0  Switzerland            7.587  2015\n",
      "1      Iceland            7.561  2015\n",
      "2      Denmark            7.527  2015\n",
      "0      Denmark            7.526  2016\n",
      "1  Switzerland            7.509  2016\n",
      "2      Iceland            7.501  2016\n",
      "(6, 3)\n",
      "       Country  Happiness Score  year      Country  Happiness Score  year\n",
      "0  Switzerland            7.587  2015      Denmark            7.526  2016\n",
      "1      Iceland            7.561  2015  Switzerland            7.509  2016\n",
      "2      Denmark            7.527  2015      Iceland            7.501  2016\n",
      "(3, 6)\n"
     ]
    }
   ],
   "source": [
    "print(concat_axis_0)\n",
    "print(concat_axis_0.shape)\n",
    "print(concat_axis_1)\n",
    "print(concat_axis_1.shape)"
   ]
  },
  {
   "cell_type": "markdown",
   "metadata": {},
   "source": [
    "Axis = 0 concats over rows and axis = 1 concats over columns."
   ]
  },
  {
   "cell_type": "markdown",
   "metadata": {},
   "source": [
    "Different columns / variables in 2015 and 2016."
   ]
  },
  {
   "cell_type": "code",
   "execution_count": 1043,
   "metadata": {},
   "outputs": [],
   "source": [
    "head_2015_2 = happiness2015[['year','Country','Happiness Score', 'Standard Error']].head()\n",
    "head_2016_2 = happiness2016[['Country','Happiness Score', 'year']].head()"
   ]
  },
  {
   "cell_type": "code",
   "execution_count": 1044,
   "metadata": {},
   "outputs": [
    {
     "name": "stdout",
     "output_type": "stream",
     "text": [
      "       Country  Happiness Score  Standard Error  year\n",
      "0  Switzerland            7.587         0.03411  2015\n",
      "1      Iceland            7.561         0.04884  2015\n",
      "2      Denmark            7.527         0.03328  2015\n",
      "3       Norway            7.522         0.03880  2015\n",
      "4       Canada            7.427         0.03553  2015\n",
      "0      Denmark            7.526             NaN  2016\n",
      "1  Switzerland            7.509             NaN  2016\n",
      "2      Iceland            7.501             NaN  2016\n",
      "3       Norway            7.498             NaN  2016\n",
      "4      Finland            7.413             NaN  2016\n",
      "(10, 4)\n"
     ]
    }
   ],
   "source": [
    "concat_axis_0_2 = pd.concat([head_2015_2, head_2016_2], axis=0)\n",
    "print(concat_axis_0_2)\n",
    "print(concat_axis_0_2.shape)"
   ]
  },
  {
   "cell_type": "code",
   "execution_count": 1045,
   "metadata": {},
   "outputs": [
    {
     "name": "stdout",
     "output_type": "stream",
     "text": [
      "       Country  Dystopia Residual  Economy (GDP per Capita)   Family  Freedom  \\\n",
      "0  Switzerland            2.51738                   1.39651  1.34951  0.66557   \n",
      "1      Iceland            2.70201                   1.30232  1.40223  0.62877   \n",
      "2      Denmark            2.49204                   1.32548  1.36058  0.64938   \n",
      "3       Norway            2.46531                   1.45900  1.33095  0.66973   \n",
      "4       Canada            2.45176                   1.32629  1.32261  0.63297   \n",
      "\n",
      "   Generosity  Happiness Rank  Happiness Score  Health (Life Expectancy)  \\\n",
      "0     0.29678               1            7.587                   0.94143   \n",
      "1     0.43630               2            7.561                   0.94784   \n",
      "2     0.34139               3            7.527                   0.87464   \n",
      "3     0.34699               4            7.522                   0.88521   \n",
      "4     0.45811               5            7.427                   0.90563   \n",
      "\n",
      "   Lower Confidence Interval          Region  Standard Error  \\\n",
      "0                        NaN  Western Europe         0.03411   \n",
      "1                        NaN  Western Europe         0.04884   \n",
      "2                        NaN  Western Europe         0.03328   \n",
      "3                        NaN  Western Europe         0.03880   \n",
      "4                        NaN   North America         0.03553   \n",
      "\n",
      "   Trust (Government Corruption)  Upper Confidence Interval  year  \n",
      "0                        0.41978                        NaN  2015  \n",
      "1                        0.14145                        NaN  2015  \n",
      "2                        0.48357                        NaN  2015  \n",
      "3                        0.36503                        NaN  2015  \n",
      "4                        0.32957                        NaN  2015  \n",
      "(315, 15)\n",
      "Index(['Country', 'Dystopia Residual', 'Economy (GDP per Capita)', 'Family',\n",
      "       'Freedom', 'Generosity', 'Happiness Rank', 'Happiness Score',\n",
      "       'Health (Life Expectancy)', 'Lower Confidence Interval', 'Region',\n",
      "       'Standard Error', 'Trust (Government Corruption)',\n",
      "       'Upper Confidence Interval', 'year'],\n",
      "      dtype='object')\n",
      "         Country  Dystopia Residual  Economy (GDP per Capita)   Family  \\\n",
      "152        Benin            2.10812                   0.39499  0.10419   \n",
      "153  Afghanistan            2.14558                   0.38227  0.11037   \n",
      "154         Togo            2.13540                   0.28123  0.00000   \n",
      "155        Syria            0.81789                   0.74719  0.14866   \n",
      "156      Burundi            2.10404                   0.06831  0.23442   \n",
      "\n",
      "     Freedom  Generosity  Happiness Rank  Happiness Score  \\\n",
      "152  0.39747     0.20180             153            3.484   \n",
      "153  0.16430     0.31268             154            3.360   \n",
      "154  0.34678     0.17517             155            3.303   \n",
      "155  0.06912     0.48397             156            3.069   \n",
      "156  0.04320     0.20290             157            2.905   \n",
      "\n",
      "     Health (Life Expectancy)  Lower Confidence Interval  \\\n",
      "152                   0.21028                      3.404   \n",
      "153                   0.17344                      3.288   \n",
      "154                   0.24811                      3.192   \n",
      "155                   0.62994                      2.936   \n",
      "156                   0.15747                      2.732   \n",
      "\n",
      "                              Region  Standard Error  \\\n",
      "152               Sub-Saharan Africa             NaN   \n",
      "153                    Southern Asia             NaN   \n",
      "154               Sub-Saharan Africa             NaN   \n",
      "155  Middle East and Northern Africa             NaN   \n",
      "156               Sub-Saharan Africa             NaN   \n",
      "\n",
      "     Trust (Government Corruption)  Upper Confidence Interval  year  \n",
      "152                        0.06681                      3.564  2016  \n",
      "153                        0.07112                      3.432  2016  \n",
      "154                        0.11587                      3.414  2016  \n",
      "155                        0.17233                      3.202  2016  \n",
      "156                        0.09419                      3.078  2016  \n"
     ]
    }
   ],
   "source": [
    "concat_axis_2 = pd.concat([ happiness2015,  happiness2016])\n",
    "print(concat_axis_2.head())\n",
    "print(concat_axis_2.shape)\n",
    "print(concat_axis_2.columns)\n",
    "print(concat_axis_2.tail())"
   ]
  },
  {
   "cell_type": "markdown",
   "metadata": {},
   "source": [
    "Upper Confidence Interval is not in 2015. Standard Error is not in 2016. \n",
    "Therefore NaN is entered after concatentating. Concat retrieves all data from both tables as a kind\n",
    "of outer join."
   ]
  },
  {
   "cell_type": "markdown",
   "metadata": {},
   "source": [
    "Using merge join style as an alternative to concat."
   ]
  },
  {
   "cell_type": "code",
   "execution_count": 1046,
   "metadata": {},
   "outputs": [],
   "source": [
    "merged_15_16 = pd.merge(left=happiness2015, right=happiness2016, on='Country') # Country is the primary key"
   ]
  },
  {
   "cell_type": "code",
   "execution_count": 1047,
   "metadata": {},
   "outputs": [
    {
     "name": "stdout",
     "output_type": "stream",
     "text": [
      "       Country        Region_x  Happiness Rank_x  Happiness Score_x  \\\n",
      "0  Switzerland  Western Europe                 1              7.587   \n",
      "1      Iceland  Western Europe                 2              7.561   \n",
      "2      Denmark  Western Europe                 3              7.527   \n",
      "3       Norway  Western Europe                 4              7.522   \n",
      "4       Canada   North America                 5              7.427   \n",
      "\n",
      "   Standard Error  Economy (GDP per Capita)_x  Family_x  \\\n",
      "0         0.03411                     1.39651   1.34951   \n",
      "1         0.04884                     1.30232   1.40223   \n",
      "2         0.03328                     1.32548   1.36058   \n",
      "3         0.03880                     1.45900   1.33095   \n",
      "4         0.03553                     1.32629   1.32261   \n",
      "\n",
      "   Health (Life Expectancy)_x  Freedom_x  Trust (Government Corruption)_x  \\\n",
      "0                     0.94143    0.66557                          0.41978   \n",
      "1                     0.94784    0.62877                          0.14145   \n",
      "2                     0.87464    0.64938                          0.48357   \n",
      "3                     0.88521    0.66973                          0.36503   \n",
      "4                     0.90563    0.63297                          0.32957   \n",
      "\n",
      "    ...    Lower Confidence Interval  Upper Confidence Interval  \\\n",
      "0   ...                        7.428                      7.590   \n",
      "1   ...                        7.333                      7.669   \n",
      "2   ...                        7.460                      7.592   \n",
      "3   ...                        7.421                      7.575   \n",
      "4   ...                        7.335                      7.473   \n",
      "\n",
      "  Economy (GDP per Capita)_y Family_y  Health (Life Expectancy)_y  Freedom_y  \\\n",
      "0                    1.52733  1.14524                     0.86303    0.58557   \n",
      "1                    1.42666  1.18326                     0.86733    0.56624   \n",
      "2                    1.44178  1.16374                     0.79504    0.57941   \n",
      "3                    1.57744  1.12690                     0.79579    0.59609   \n",
      "4                    1.44015  1.09610                     0.82760    0.57370   \n",
      "\n",
      "   Trust (Government Corruption)_y  Generosity_y  Dystopia Residual_y  year_y  \n",
      "0                          0.41203       0.28083              2.69463    2016  \n",
      "1                          0.14975       0.47678              2.83137    2016  \n",
      "2                          0.44453       0.36171              2.73939    2016  \n",
      "3                          0.35776       0.37895              2.66465    2016  \n",
      "4                          0.31329       0.44834              2.70485    2016  \n",
      "\n",
      "[5 rows x 26 columns]\n",
      "(151, 26)\n",
      "Index(['Country', 'Region_x', 'Happiness Rank_x', 'Happiness Score_x',\n",
      "       'Standard Error', 'Economy (GDP per Capita)_x', 'Family_x',\n",
      "       'Health (Life Expectancy)_x', 'Freedom_x',\n",
      "       'Trust (Government Corruption)_x', 'Generosity_x',\n",
      "       'Dystopia Residual_x', 'year_x', 'Region_y', 'Happiness Rank_y',\n",
      "       'Happiness Score_y', 'Lower Confidence Interval',\n",
      "       'Upper Confidence Interval', 'Economy (GDP per Capita)_y', 'Family_y',\n",
      "       'Health (Life Expectancy)_y', 'Freedom_y',\n",
      "       'Trust (Government Corruption)_y', 'Generosity_y',\n",
      "       'Dystopia Residual_y', 'year_y'],\n",
      "      dtype='object')\n"
     ]
    }
   ],
   "source": [
    "print(merged_15_16.head())\n",
    "print(merged_15_16.shape)\n",
    "print(merged_15_16.columns)\n"
   ]
  },
  {
   "cell_type": "markdown",
   "metadata": {},
   "source": [
    "Merge matches 'Countries', which are in both df as an Inner Join.\n",
    "The shape went down from (315, 15) of concat or outer join to (151, 26). \n",
    "This implies:\n",
    "Not all countries are in both tables."
   ]
  },
  {
   "cell_type": "code",
   "execution_count": 1048,
   "metadata": {},
   "outputs": [
    {
     "name": "stdout",
     "output_type": "stream",
     "text": [
      "Country                            0\n",
      "Region_x                           0\n",
      "Happiness Rank_x                   0\n",
      "Happiness Score_x                  0\n",
      "Standard Error                     0\n",
      "Economy (GDP per Capita)_x         0\n",
      "Family_x                           0\n",
      "Health (Life Expectancy)_x         0\n",
      "Freedom_x                          0\n",
      "Trust (Government Corruption)_x    0\n",
      "Generosity_x                       0\n",
      "Dystopia Residual_x                0\n",
      "year_x                             0\n",
      "Region_y                           0\n",
      "Happiness Rank_y                   0\n",
      "Happiness Score_y                  0\n",
      "Lower Confidence Interval          0\n",
      "Upper Confidence Interval          0\n",
      "Economy (GDP per Capita)_y         0\n",
      "Family_y                           0\n",
      "Health (Life Expectancy)_y         0\n",
      "Freedom_y                          0\n",
      "Trust (Government Corruption)_y    0\n",
      "Generosity_y                       0\n",
      "Dystopia Residual_y                0\n",
      "year_y                             0\n",
      "dtype: int64\n"
     ]
    }
   ],
   "source": [
    "print(merged_15_16.isnull().sum())"
   ]
  },
  {
   "cell_type": "markdown",
   "metadata": {},
   "source": [
    "No null values are produced as every data point is preserved."
   ]
  },
  {
   "cell_type": "code",
   "execution_count": 1049,
   "metadata": {},
   "outputs": [
    {
     "data": {
      "text/html": [
       "<div>\n",
       "<style>\n",
       "    .dataframe thead tr:only-child th {\n",
       "        text-align: right;\n",
       "    }\n",
       "\n",
       "    .dataframe thead th {\n",
       "        text-align: left;\n",
       "    }\n",
       "\n",
       "    .dataframe tbody tr th {\n",
       "        vertical-align: top;\n",
       "    }\n",
       "</style>\n",
       "<table border=\"1\" class=\"dataframe\">\n",
       "  <thead>\n",
       "    <tr style=\"text-align: right;\">\n",
       "      <th></th>\n",
       "      <th>year_x</th>\n",
       "      <th>year_y</th>\n",
       "    </tr>\n",
       "  </thead>\n",
       "  <tbody>\n",
       "    <tr>\n",
       "      <th>0</th>\n",
       "      <td>2015</td>\n",
       "      <td>2016</td>\n",
       "    </tr>\n",
       "    <tr>\n",
       "      <th>1</th>\n",
       "      <td>2015</td>\n",
       "      <td>2016</td>\n",
       "    </tr>\n",
       "    <tr>\n",
       "      <th>2</th>\n",
       "      <td>2015</td>\n",
       "      <td>2016</td>\n",
       "    </tr>\n",
       "    <tr>\n",
       "      <th>3</th>\n",
       "      <td>2015</td>\n",
       "      <td>2016</td>\n",
       "    </tr>\n",
       "    <tr>\n",
       "      <th>4</th>\n",
       "      <td>2015</td>\n",
       "      <td>2016</td>\n",
       "    </tr>\n",
       "  </tbody>\n",
       "</table>\n",
       "</div>"
      ],
      "text/plain": [
       "  year_x year_y\n",
       "0   2015   2016\n",
       "1   2015   2016\n",
       "2   2015   2016\n",
       "3   2015   2016\n",
       "4   2015   2016"
      ]
     },
     "execution_count": 1049,
     "metadata": {},
     "output_type": "execute_result"
    }
   ],
   "source": [
    "merged_15_16[['year_x', 'year_y']].head()"
   ]
  },
  {
   "cell_type": "markdown",
   "metadata": {},
   "source": [
    "Merge enters a x for the left df and y for the right df to differentiate columns from these df."
   ]
  },
  {
   "cell_type": "code",
   "execution_count": 1050,
   "metadata": {},
   "outputs": [
    {
     "name": "stdout",
     "output_type": "stream",
     "text": [
      "(158, 26)\n",
      "Country                            0\n",
      "Region_x                           0\n",
      "Happiness Rank_x                   0\n",
      "Happiness Score_x                  0\n",
      "Standard Error                     0\n",
      "Economy (GDP per Capita)_x         0\n",
      "Family_x                           0\n",
      "Health (Life Expectancy)_x         0\n",
      "Freedom_x                          0\n",
      "Trust (Government Corruption)_x    0\n",
      "Generosity_x                       0\n",
      "Dystopia Residual_x                0\n",
      "year_x                             0\n",
      "Region_y                           7\n",
      "Happiness Rank_y                   7\n",
      "Happiness Score_y                  7\n",
      "Lower Confidence Interval          7\n",
      "Upper Confidence Interval          7\n",
      "Economy (GDP per Capita)_y         7\n",
      "Family_y                           7\n",
      "Health (Life Expectancy)_y         7\n",
      "Freedom_y                          7\n",
      "Trust (Government Corruption)_y    7\n",
      "Generosity_y                       7\n",
      "Dystopia Residual_y                7\n",
      "year_y                             7\n",
      "dtype: int64\n",
      "(157, 26)\n",
      "Country                            0\n",
      "Region_x                           0\n",
      "Happiness Rank_x                   0\n",
      "Happiness Score_x                  0\n",
      "Lower Confidence Interval          0\n",
      "Upper Confidence Interval          0\n",
      "Economy (GDP per Capita)_x         0\n",
      "Family_x                           0\n",
      "Health (Life Expectancy)_x         0\n",
      "Freedom_x                          0\n",
      "Trust (Government Corruption)_x    0\n",
      "Generosity_x                       0\n",
      "Dystopia Residual_x                0\n",
      "year_x                             0\n",
      "Region_y                           6\n",
      "Happiness Rank_y                   6\n",
      "Happiness Score_y                  6\n",
      "Standard Error                     6\n",
      "Economy (GDP per Capita)_y         6\n",
      "Family_y                           6\n",
      "Health (Life Expectancy)_y         6\n",
      "Freedom_y                          6\n",
      "Trust (Government Corruption)_y    6\n",
      "Generosity_y                       6\n",
      "Dystopia Residual_y                6\n",
      "year_y                             6\n",
      "dtype: int64\n"
     ]
    }
   ],
   "source": [
    "merged_15_16_left = pd.merge(left=happiness2015, right=happiness2016, on='Country', how='left')\n",
    "print(merged_15_16_left.shape)\n",
    "print(merged_15_16_left.isnull().sum())\n",
    "merged_16_15_left = pd.merge(left=happiness2016, right=happiness2015, on='Country', how='left')\n",
    "print(merged_16_15_left.shape)\n",
    "print(merged_16_15_left.isnull().sum())"
   ]
  },
  {
   "cell_type": "markdown",
   "metadata": {},
   "source": [
    "Depending on difference in the primary key country null values are produced as some countries are only in the left \n",
    "data frame."
   ]
  },
  {
   "cell_type": "markdown",
   "metadata": {},
   "source": [
    "Merge with index"
   ]
  },
  {
   "cell_type": "code",
   "execution_count": 1051,
   "metadata": {},
   "outputs": [],
   "source": [
    "happiness15_index = happiness2015[['Country', 'Happiness Score', 'year']]\n",
    "happiness16_index = happiness2016[['Country', 'Happiness Score', 'year']]"
   ]
  },
  {
   "cell_type": "code",
   "execution_count": 1052,
   "metadata": {},
   "outputs": [
    {
     "name": "stdout",
     "output_type": "stream",
     "text": [
      "  Country_2015  Happiness Score_2015 year_2015 Country_2016  \\\n",
      "0  Switzerland                 7.587      2015      Denmark   \n",
      "1      Iceland                 7.561      2015  Switzerland   \n",
      "2      Denmark                 7.527      2015      Iceland   \n",
      "3       Norway                 7.522      2015       Norway   \n",
      "4       Canada                 7.427      2015      Finland   \n",
      "\n",
      "   Happiness Score_2016 year_2016  \n",
      "0                 7.526      2016  \n",
      "1                 7.509      2016  \n",
      "2                 7.501      2016  \n",
      "3                 7.498      2016  \n",
      "4                 7.413      2016  \n",
      "(157, 6)\n"
     ]
    }
   ],
   "source": [
    "merge_index_1 = pd.merge(left=happiness15_index, right=happiness16_index, \n",
    "                         left_index=True, right_index=True, suffixes=('_2015', '_2016'))\n",
    "\n",
    "print(merge_index_1.head())\n",
    "print(merge_index_1.shape)"
   ]
  },
  {
   "cell_type": "code",
   "execution_count": 1053,
   "metadata": {},
   "outputs": [
    {
     "name": "stdout",
     "output_type": "stream",
     "text": [
      "  Country_2015  Happiness Score_2015 year_2015 Country_2016  \\\n",
      "0  Switzerland                 7.587      2015      Denmark   \n",
      "1      Iceland                 7.561      2015  Switzerland   \n",
      "2      Denmark                 7.527      2015      Iceland   \n",
      "3       Norway                 7.522      2015       Norway   \n",
      "4       Canada                 7.427      2015      Finland   \n",
      "\n",
      "   Happiness Score_2016 year_2016  \n",
      "0                 7.526      2016  \n",
      "1                 7.509      2016  \n",
      "2                 7.501      2016  \n",
      "3                 7.498      2016  \n",
      "4                 7.413      2016  \n",
      "(158, 6)\n"
     ]
    }
   ],
   "source": [
    "merge_index_2 = pd.merge(left=happiness15_index, right=happiness16_index, \n",
    "                         left_index=True, right_index=True, suffixes=('_2015', '_2016'), how='left')\n",
    "\n",
    "print(merge_index_2.head())\n",
    "print(merge_index_2.shape)"
   ]
  },
  {
   "cell_type": "markdown",
   "metadata": {},
   "source": [
    "It seems only one country is missing in the right dataframe of 2016."
   ]
  },
  {
   "cell_type": "code",
   "execution_count": 1054,
   "metadata": {},
   "outputs": [],
   "source": [
    "combined_df = pd.concat([happiness2015,happiness2016,happiness2017])"
   ]
  },
  {
   "cell_type": "code",
   "execution_count": 1055,
   "metadata": {},
   "outputs": [
    {
     "name": "stdout",
     "output_type": "stream",
     "text": [
      "<class 'pandas.core.frame.DataFrame'>\n",
      "Index: 470 entries, 0 to 154\n",
      "Data columns (total 17 columns):\n",
      "Country                          470 non-null object\n",
      "Dystopia Residual                470 non-null float64\n",
      "Economy (GDP per Capita)         470 non-null float64\n",
      "Family                           470 non-null float64\n",
      "Freedom                          470 non-null float64\n",
      "Generosity                       470 non-null float64\n",
      "Happiness Rank                   470 non-null int64\n",
      "Happiness Score                  470 non-null float64\n",
      "Health (Life Expectancy)         470 non-null float64\n",
      "Lower Confidence Interval        157 non-null float64\n",
      "Region                           315 non-null object\n",
      "Standard Error                   158 non-null float64\n",
      "Trust (Government Corruption)    470 non-null float64\n",
      "Upper Confidence Interval        157 non-null float64\n",
      "Whisker.high                     155 non-null float64\n",
      "Whisker.low                      155 non-null float64\n",
      "year                             470 non-null object\n",
      "dtypes: float64(13), int64(1), object(3)\n",
      "memory usage: 66.1+ KB\n"
     ]
    }
   ],
   "source": [
    "combined_df.info()"
   ]
  },
  {
   "cell_type": "code",
   "execution_count": 1056,
   "metadata": {},
   "outputs": [
    {
     "name": "stdout",
     "output_type": "stream",
     "text": [
      "      Happiness Score\n",
      "year                 \n",
      "2015         5.375734\n",
      "2016         5.382185\n",
      "2017         5.354019\n"
     ]
    }
   ],
   "source": [
    "mean_happy_year = combined_df.pivot_table(values='Happiness Score', index='year')\n",
    "print(mean_happy_year)"
   ]
  },
  {
   "cell_type": "code",
   "execution_count": 1057,
   "metadata": {},
   "outputs": [
    {
     "data": {
      "text/plain": [
       "<matplotlib.axes._subplots.AxesSubplot at 0x17d462beb00>"
      ]
     },
     "execution_count": 1057,
     "metadata": {},
     "output_type": "execute_result"
    },
    {
     "data": {
      "image/png": "[encoded data removed]",
      "text/plain": [
       "<Figure size 576x360 with 1 Axes>"
      ]
     },
     "metadata": {},
     "output_type": "display_data"
    }
   ],
   "source": [
    "mean_happy_year.plot(kind=\"barh\", title=\"Mean Happiness Score by year\", xlim=(0,6.5), figsize=(8,5)\\\n",
    "                     ,legend=False, color=[\"brown\", \"pink\"], fontsize=12)"
   ]
  },
  {
   "cell_type": "markdown",
   "metadata": {},
   "source": [
    "The world wide mean Happiness Score stayed nearly the same from 2015 to 2017."
   ]
  },
  {
   "cell_type": "markdown",
   "metadata": {},
   "source": [
    "### Factors contributing to happiness or the Happiness Score\n",
    "<p>\n",
    "Estimations about the contribution of factors to the Happiness Score. <br>\n",
    "These factors are: \n",
    "</p>\n",
    "<ul>\n",
    "<li>Economy (GDP per Capita)</li>\n",
    "<li>Family</li>\n",
    "<li>Health (Life Expectancy)</li>\n",
    "<li>Freedom</li>\n",
    "<li>Trust (Government Corruption)</li>\n",
    "<li>Generosity</li>\n",
    "</ul>\n"
   ]
  },
  {
   "cell_type": "code",
   "execution_count": 1058,
   "metadata": {},
   "outputs": [
    {
     "data": {
      "text/html": [
       "<div>\n",
       "<style>\n",
       "    .dataframe thead tr:only-child th {\n",
       "        text-align: right;\n",
       "    }\n",
       "\n",
       "    .dataframe thead th {\n",
       "        text-align: left;\n",
       "    }\n",
       "\n",
       "    .dataframe tbody tr th {\n",
       "        vertical-align: top;\n",
       "    }\n",
       "</style>\n",
       "<table border=\"1\" class=\"dataframe\">\n",
       "  <thead>\n",
       "    <tr style=\"text-align: right;\">\n",
       "      <th></th>\n",
       "      <th>Country</th>\n",
       "      <th>Region</th>\n",
       "      <th>Happiness Rank</th>\n",
       "      <th>Happiness Score</th>\n",
       "      <th>Standard Error</th>\n",
       "      <th>Economy (GDP per Capita)</th>\n",
       "      <th>Family</th>\n",
       "      <th>Health (Life Expectancy)</th>\n",
       "      <th>Freedom</th>\n",
       "      <th>Trust (Government Corruption)</th>\n",
       "      <th>Generosity</th>\n",
       "      <th>Dystopia Residual</th>\n",
       "      <th>year</th>\n",
       "    </tr>\n",
       "  </thead>\n",
       "  <tbody>\n",
       "    <tr>\n",
       "      <th>0</th>\n",
       "      <td>Switzerland</td>\n",
       "      <td>Western Europe</td>\n",
       "      <td>1</td>\n",
       "      <td>7.587</td>\n",
       "      <td>0.03411</td>\n",
       "      <td>1.39651</td>\n",
       "      <td>1.34951</td>\n",
       "      <td>0.94143</td>\n",
       "      <td>0.66557</td>\n",
       "      <td>0.41978</td>\n",
       "      <td>0.29678</td>\n",
       "      <td>2.51738</td>\n",
       "      <td>2015</td>\n",
       "    </tr>\n",
       "    <tr>\n",
       "      <th>1</th>\n",
       "      <td>Iceland</td>\n",
       "      <td>Western Europe</td>\n",
       "      <td>2</td>\n",
       "      <td>7.561</td>\n",
       "      <td>0.04884</td>\n",
       "      <td>1.30232</td>\n",
       "      <td>1.40223</td>\n",
       "      <td>0.94784</td>\n",
       "      <td>0.62877</td>\n",
       "      <td>0.14145</td>\n",
       "      <td>0.43630</td>\n",
       "      <td>2.70201</td>\n",
       "      <td>2015</td>\n",
       "    </tr>\n",
       "    <tr>\n",
       "      <th>2</th>\n",
       "      <td>Denmark</td>\n",
       "      <td>Western Europe</td>\n",
       "      <td>3</td>\n",
       "      <td>7.527</td>\n",
       "      <td>0.03328</td>\n",
       "      <td>1.32548</td>\n",
       "      <td>1.36058</td>\n",
       "      <td>0.87464</td>\n",
       "      <td>0.64938</td>\n",
       "      <td>0.48357</td>\n",
       "      <td>0.34139</td>\n",
       "      <td>2.49204</td>\n",
       "      <td>2015</td>\n",
       "    </tr>\n",
       "    <tr>\n",
       "      <th>3</th>\n",
       "      <td>Norway</td>\n",
       "      <td>Western Europe</td>\n",
       "      <td>4</td>\n",
       "      <td>7.522</td>\n",
       "      <td>0.03880</td>\n",
       "      <td>1.45900</td>\n",
       "      <td>1.33095</td>\n",
       "      <td>0.88521</td>\n",
       "      <td>0.66973</td>\n",
       "      <td>0.36503</td>\n",
       "      <td>0.34699</td>\n",
       "      <td>2.46531</td>\n",
       "      <td>2015</td>\n",
       "    </tr>\n",
       "    <tr>\n",
       "      <th>4</th>\n",
       "      <td>Canada</td>\n",
       "      <td>North America</td>\n",
       "      <td>5</td>\n",
       "      <td>7.427</td>\n",
       "      <td>0.03553</td>\n",
       "      <td>1.32629</td>\n",
       "      <td>1.32261</td>\n",
       "      <td>0.90563</td>\n",
       "      <td>0.63297</td>\n",
       "      <td>0.32957</td>\n",
       "      <td>0.45811</td>\n",
       "      <td>2.45176</td>\n",
       "      <td>2015</td>\n",
       "    </tr>\n",
       "  </tbody>\n",
       "</table>\n",
       "</div>"
      ],
      "text/plain": [
       "       Country          Region  Happiness Rank  Happiness Score  \\\n",
       "0  Switzerland  Western Europe               1            7.587   \n",
       "1      Iceland  Western Europe               2            7.561   \n",
       "2      Denmark  Western Europe               3            7.527   \n",
       "3       Norway  Western Europe               4            7.522   \n",
       "4       Canada   North America               5            7.427   \n",
       "\n",
       "   Standard Error  Economy (GDP per Capita)   Family  \\\n",
       "0         0.03411                   1.39651  1.34951   \n",
       "1         0.04884                   1.30232  1.40223   \n",
       "2         0.03328                   1.32548  1.36058   \n",
       "3         0.03880                   1.45900  1.33095   \n",
       "4         0.03553                   1.32629  1.32261   \n",
       "\n",
       "   Health (Life Expectancy)  Freedom  Trust (Government Corruption)  \\\n",
       "0                   0.94143  0.66557                        0.41978   \n",
       "1                   0.94784  0.62877                        0.14145   \n",
       "2                   0.87464  0.64938                        0.48357   \n",
       "3                   0.88521  0.66973                        0.36503   \n",
       "4                   0.90563  0.63297                        0.32957   \n",
       "\n",
       "   Generosity  Dystopia Residual  year  \n",
       "0     0.29678            2.51738  2015  \n",
       "1     0.43630            2.70201  2015  \n",
       "2     0.34139            2.49204  2015  \n",
       "3     0.34699            2.46531  2015  \n",
       "4     0.45811            2.45176  2015  "
      ]
     },
     "execution_count": 1058,
     "metadata": {},
     "output_type": "execute_result"
    }
   ],
   "source": [
    "happiness2015_555 = happiness2015\n",
    "happiness2015_555.head()"
   ]
  },
  {
   "cell_type": "code",
   "execution_count": 1059,
   "metadata": {},
   "outputs": [
    {
     "data": {
      "text/plain": [
       "Index(['Economy (GDP per Capita)', 'Family', 'Health (Life Expectancy)',\n",
       "       'Freedom', 'Trust (Government Corruption)', 'Generosity',\n",
       "       'Dystopia Residual'],\n",
       "      dtype='object')"
      ]
     },
     "execution_count": 1059,
     "metadata": {},
     "output_type": "execute_result"
    }
   ],
   "source": [
    "happiness2015_555.iloc[:,5:12].columns"
   ]
  },
  {
   "cell_type": "markdown",
   "metadata": {},
   "source": [
    "Happiness Score is the sum of the factor columns."
   ]
  },
  {
   "cell_type": "code",
   "execution_count": 1060,
   "metadata": {},
   "outputs": [
    {
     "data": {
      "text/plain": [
       "['Economy (GDP per Capita)',\n",
       " 'Family',\n",
       " 'Health (Life Expectancy)',\n",
       " 'Freedom',\n",
       " 'Trust (Government Corruption)',\n",
       " 'Generosity',\n",
       " 'Dystopia Residual']"
      ]
     },
     "execution_count": 1060,
     "metadata": {},
     "output_type": "execute_result"
    }
   ],
   "source": [
    "factor_columns = ['Economy (GDP per Capita)', 'Family', 'Health (Life Expectancy)',\n",
    "       'Freedom', 'Trust (Government Corruption)', 'Generosity',\n",
    "       'Dystopia Residual']\n",
    "\n",
    "factor_columns"
   ]
  },
  {
   "cell_type": "code",
   "execution_count": 1061,
   "metadata": {},
   "outputs": [],
   "source": [
    "factor_columns_sum = happiness2015_555[factor_columns].sum(axis=1)"
   ]
  },
  {
   "cell_type": "code",
   "execution_count": 1062,
   "metadata": {},
   "outputs": [
    {
     "name": "stdout",
     "output_type": "stream",
     "text": [
      "(158, 14)\n",
      "       Country          Region  Happiness Rank  Happiness Score  \\\n",
      "0  Switzerland  Western Europe               1            7.587   \n",
      "1      Iceland  Western Europe               2            7.561   \n",
      "2      Denmark  Western Europe               3            7.527   \n",
      "3       Norway  Western Europe               4            7.522   \n",
      "4       Canada   North America               5            7.427   \n",
      "\n",
      "   Standard Error  Economy (GDP per Capita)   Family  \\\n",
      "0         0.03411                   1.39651  1.34951   \n",
      "1         0.04884                   1.30232  1.40223   \n",
      "2         0.03328                   1.32548  1.36058   \n",
      "3         0.03880                   1.45900  1.33095   \n",
      "4         0.03553                   1.32629  1.32261   \n",
      "\n",
      "   Health (Life Expectancy)  Freedom  Trust (Government Corruption)  \\\n",
      "0                   0.94143  0.66557                        0.41978   \n",
      "1                   0.94784  0.62877                        0.14145   \n",
      "2                   0.87464  0.64938                        0.48357   \n",
      "3                   0.88521  0.66973                        0.36503   \n",
      "4                   0.90563  0.63297                        0.32957   \n",
      "\n",
      "   Generosity  Dystopia Residual  year  sum_factors  \n",
      "0     0.29678            2.51738  2015      7.58696  \n",
      "1     0.43630            2.70201  2015      7.56092  \n",
      "2     0.34139            2.49204  2015      7.52708  \n",
      "3     0.34699            2.46531  2015      7.52222  \n",
      "4     0.45811            2.45176  2015      7.42694  \n"
     ]
    }
   ],
   "source": [
    "happiness2015_555=happiness2015_555.assign(sum_factors=factor_columns_sum)\n",
    "print(happiness2015_555.shape)\n",
    "print(happiness2015_555.head())"
   ]
  },
  {
   "cell_type": "code",
   "execution_count": 1063,
   "metadata": {},
   "outputs": [
    {
     "name": "stdout",
     "output_type": "stream",
     "text": [
      "   Happiness Score  sum_factors\n",
      "0            7.587      7.58696\n",
      "1            7.561      7.56092\n",
      "2            7.527      7.52708\n",
      "3            7.522      7.52222\n",
      "4            7.427      7.42694\n"
     ]
    }
   ],
   "source": [
    "print(happiness2015_555.loc[:,['Happiness Score', 'sum_factors']].head())"
   ]
  },
  {
   "cell_type": "markdown",
   "metadata": {},
   "source": [
    "Confirming: the Happiness Score is equal to sum_factors."
   ]
  },
  {
   "cell_type": "markdown",
   "metadata": {},
   "source": [
    "Simplifying some column names by renaming those."
   ]
  },
  {
   "cell_type": "code",
   "execution_count": 1064,
   "metadata": {},
   "outputs": [],
   "source": [
    "mapping = {'Economy (GDP per Capita)': 'Economy', 'Health (Life Expectancy)': 'Health', \n",
    "           'Trust (Government Corruption)': 'Trust' }\n",
    "\n",
    "\n",
    "happy_df_3 = [happiness2015, happiness2016 , happiness2017]\n"
   ]
  },
  {
   "cell_type": "code",
   "execution_count": 1065,
   "metadata": {},
   "outputs": [],
   "source": [
    "\n",
    "for i in range(0, len(happy_df_3)):\n",
    "    happy_df_3[i].rename(columns=mapping, inplace=True)"
   ]
  },
  {
   "cell_type": "code",
   "execution_count": 1066,
   "metadata": {},
   "outputs": [
    {
     "name": "stdout",
     "output_type": "stream",
     "text": [
      "Index(['Country', 'Region', 'Happiness Rank', 'Happiness Score',\n",
      "       'Standard Error', 'Economy', 'Family', 'Health', 'Freedom', 'Trust',\n",
      "       'Generosity', 'Dystopia Residual', 'year'],\n",
      "      dtype='object')\n",
      "Index(['Country', 'Region', 'Happiness Rank', 'Happiness Score',\n",
      "       'Lower Confidence Interval', 'Upper Confidence Interval', 'Economy',\n",
      "       'Family', 'Health', 'Freedom', 'Trust', 'Generosity',\n",
      "       'Dystopia Residual', 'year'],\n",
      "      dtype='object')\n",
      "Index(['Country', 'Happiness Rank', 'Happiness Score', 'Whisker.high',\n",
      "       'Whisker.low', 'Economy', 'Family', 'Health', 'Freedom', 'Generosity',\n",
      "       'Trust', 'Dystopia Residual', 'year'],\n",
      "      dtype='object')\n"
     ]
    }
   ],
   "source": [
    "for i in range(0, len(happy_df_3)):\n",
    "    print(happy_df_3[i].columns)"
   ]
  },
  {
   "cell_type": "code",
   "execution_count": 1067,
   "metadata": {},
   "outputs": [
    {
     "data": {
      "text/html": [
       "<div>\n",
       "<style>\n",
       "    .dataframe thead tr:only-child th {\n",
       "        text-align: right;\n",
       "    }\n",
       "\n",
       "    .dataframe thead th {\n",
       "        text-align: left;\n",
       "    }\n",
       "\n",
       "    .dataframe tbody tr th {\n",
       "        vertical-align: top;\n",
       "    }\n",
       "</style>\n",
       "<table border=\"1\" class=\"dataframe\">\n",
       "  <thead>\n",
       "    <tr style=\"text-align: right;\">\n",
       "      <th></th>\n",
       "      <th>Country</th>\n",
       "      <th>Region</th>\n",
       "      <th>Happiness Rank</th>\n",
       "      <th>Happiness Score</th>\n",
       "      <th>Lower Confidence Interval</th>\n",
       "      <th>Upper Confidence Interval</th>\n",
       "      <th>Economy</th>\n",
       "      <th>Family</th>\n",
       "      <th>Health</th>\n",
       "      <th>Freedom</th>\n",
       "      <th>Trust</th>\n",
       "      <th>Generosity</th>\n",
       "      <th>Dystopia Residual</th>\n",
       "      <th>year</th>\n",
       "    </tr>\n",
       "  </thead>\n",
       "  <tbody>\n",
       "    <tr>\n",
       "      <th>0</th>\n",
       "      <td>Denmark</td>\n",
       "      <td>Western Europe</td>\n",
       "      <td>1</td>\n",
       "      <td>7.526</td>\n",
       "      <td>7.460</td>\n",
       "      <td>7.592</td>\n",
       "      <td>1.44178</td>\n",
       "      <td>1.16374</td>\n",
       "      <td>0.79504</td>\n",
       "      <td>0.57941</td>\n",
       "      <td>0.44453</td>\n",
       "      <td>0.36171</td>\n",
       "      <td>2.73939</td>\n",
       "      <td>2016</td>\n",
       "    </tr>\n",
       "    <tr>\n",
       "      <th>1</th>\n",
       "      <td>Switzerland</td>\n",
       "      <td>Western Europe</td>\n",
       "      <td>2</td>\n",
       "      <td>7.509</td>\n",
       "      <td>7.428</td>\n",
       "      <td>7.590</td>\n",
       "      <td>1.52733</td>\n",
       "      <td>1.14524</td>\n",
       "      <td>0.86303</td>\n",
       "      <td>0.58557</td>\n",
       "      <td>0.41203</td>\n",
       "      <td>0.28083</td>\n",
       "      <td>2.69463</td>\n",
       "      <td>2016</td>\n",
       "    </tr>\n",
       "    <tr>\n",
       "      <th>2</th>\n",
       "      <td>Iceland</td>\n",
       "      <td>Western Europe</td>\n",
       "      <td>3</td>\n",
       "      <td>7.501</td>\n",
       "      <td>7.333</td>\n",
       "      <td>7.669</td>\n",
       "      <td>1.42666</td>\n",
       "      <td>1.18326</td>\n",
       "      <td>0.86733</td>\n",
       "      <td>0.56624</td>\n",
       "      <td>0.14975</td>\n",
       "      <td>0.47678</td>\n",
       "      <td>2.83137</td>\n",
       "      <td>2016</td>\n",
       "    </tr>\n",
       "    <tr>\n",
       "      <th>3</th>\n",
       "      <td>Norway</td>\n",
       "      <td>Western Europe</td>\n",
       "      <td>4</td>\n",
       "      <td>7.498</td>\n",
       "      <td>7.421</td>\n",
       "      <td>7.575</td>\n",
       "      <td>1.57744</td>\n",
       "      <td>1.12690</td>\n",
       "      <td>0.79579</td>\n",
       "      <td>0.59609</td>\n",
       "      <td>0.35776</td>\n",
       "      <td>0.37895</td>\n",
       "      <td>2.66465</td>\n",
       "      <td>2016</td>\n",
       "    </tr>\n",
       "    <tr>\n",
       "      <th>4</th>\n",
       "      <td>Finland</td>\n",
       "      <td>Western Europe</td>\n",
       "      <td>5</td>\n",
       "      <td>7.413</td>\n",
       "      <td>7.351</td>\n",
       "      <td>7.475</td>\n",
       "      <td>1.40598</td>\n",
       "      <td>1.13464</td>\n",
       "      <td>0.81091</td>\n",
       "      <td>0.57104</td>\n",
       "      <td>0.41004</td>\n",
       "      <td>0.25492</td>\n",
       "      <td>2.82596</td>\n",
       "      <td>2016</td>\n",
       "    </tr>\n",
       "    <tr>\n",
       "      <th>5</th>\n",
       "      <td>Canada</td>\n",
       "      <td>North America</td>\n",
       "      <td>6</td>\n",
       "      <td>7.404</td>\n",
       "      <td>7.335</td>\n",
       "      <td>7.473</td>\n",
       "      <td>1.44015</td>\n",
       "      <td>1.09610</td>\n",
       "      <td>0.82760</td>\n",
       "      <td>0.57370</td>\n",
       "      <td>0.31329</td>\n",
       "      <td>0.44834</td>\n",
       "      <td>2.70485</td>\n",
       "      <td>2016</td>\n",
       "    </tr>\n",
       "  </tbody>\n",
       "</table>\n",
       "</div>"
      ],
      "text/plain": [
       "       Country          Region  Happiness Rank  Happiness Score  \\\n",
       "0      Denmark  Western Europe               1            7.526   \n",
       "1  Switzerland  Western Europe               2            7.509   \n",
       "2      Iceland  Western Europe               3            7.501   \n",
       "3       Norway  Western Europe               4            7.498   \n",
       "4      Finland  Western Europe               5            7.413   \n",
       "5       Canada   North America               6            7.404   \n",
       "\n",
       "   Lower Confidence Interval  Upper Confidence Interval  Economy   Family  \\\n",
       "0                      7.460                      7.592  1.44178  1.16374   \n",
       "1                      7.428                      7.590  1.52733  1.14524   \n",
       "2                      7.333                      7.669  1.42666  1.18326   \n",
       "3                      7.421                      7.575  1.57744  1.12690   \n",
       "4                      7.351                      7.475  1.40598  1.13464   \n",
       "5                      7.335                      7.473  1.44015  1.09610   \n",
       "\n",
       "    Health  Freedom    Trust  Generosity  Dystopia Residual  year  \n",
       "0  0.79504  0.57941  0.44453     0.36171            2.73939  2016  \n",
       "1  0.86303  0.58557  0.41203     0.28083            2.69463  2016  \n",
       "2  0.86733  0.56624  0.14975     0.47678            2.83137  2016  \n",
       "3  0.79579  0.59609  0.35776     0.37895            2.66465  2016  \n",
       "4  0.81091  0.57104  0.41004     0.25492            2.82596  2016  \n",
       "5  0.82760  0.57370  0.31329     0.44834            2.70485  2016  "
      ]
     },
     "execution_count": 1067,
     "metadata": {},
     "output_type": "execute_result"
    }
   ],
   "source": [
    "happy_df_3[1].iloc[0:6]"
   ]
  },
  {
   "cell_type": "markdown",
   "metadata": {},
   "source": [
    "Relevel the factor columns <br>\n",
    "The factor columns are float with decimal places. This is hard to read and understand. \n",
    "Instead the floats are replaced with levels."
   ]
  },
  {
   "cell_type": "code",
   "execution_count": 1068,
   "metadata": {},
   "outputs": [],
   "source": [
    "def relevel_factor_columns(data_point, z):\n",
    "    if data_point > z:\n",
    "        return 'high'\n",
    "    else:\n",
    "        return 'low'"
   ]
  },
  {
   "cell_type": "code",
   "execution_count": 1069,
   "metadata": {},
   "outputs": [
    {
     "name": "stdout",
     "output_type": "stream",
     "text": [
      "Index(['Country', 'Region', 'Happiness Rank', 'Happiness Score',\n",
      "       'Standard Error', 'Economy', 'Family', 'Health', 'Freedom', 'Trust',\n",
      "       'Generosity', 'Dystopia Residual', 'year'],\n",
      "      dtype='object')\n",
      "       Country          Region  Happiness Rank  Happiness Score  \\\n",
      "0  Switzerland  Western Europe               1            7.587   \n",
      "1      Iceland  Western Europe               2            7.561   \n",
      "2      Denmark  Western Europe               3            7.527   \n",
      "3       Norway  Western Europe               4            7.522   \n",
      "4       Canada   North America               5            7.427   \n",
      "\n",
      "   Standard Error  Economy   Family   Health  Freedom    Trust  Generosity  \\\n",
      "0         0.03411  1.39651  1.34951  0.94143  0.66557  0.41978     0.29678   \n",
      "1         0.04884  1.30232  1.40223  0.94784  0.62877  0.14145     0.43630   \n",
      "2         0.03328  1.32548  1.36058  0.87464  0.64938  0.48357     0.34139   \n",
      "3         0.03880  1.45900  1.33095  0.88521  0.66973  0.36503     0.34699   \n",
      "4         0.03553  1.32629  1.32261  0.90563  0.63297  0.32957     0.45811   \n",
      "\n",
      "   Dystopia Residual  year  \n",
      "0            2.51738  2015  \n",
      "1            2.70201  2015  \n",
      "2            2.49204  2015  \n",
      "3            2.46531  2015  \n",
      "4            2.45176  2015  \n"
     ]
    }
   ],
   "source": [
    "\n",
    "happiness2015_3 = happy_df_3[0]\n",
    "print(happiness2015_3.columns)\n",
    "print(happiness2015_3.head())"
   ]
  },
  {
   "cell_type": "code",
   "execution_count": 1070,
   "metadata": {},
   "outputs": [
    {
     "name": "stdout",
     "output_type": "stream",
     "text": [
      "count     158\n",
      "unique      2\n",
      "top       low\n",
      "freq       92\n",
      "Name: Economy, dtype: object\n",
      "['high' 'low']\n"
     ]
    }
   ],
   "source": [
    "eco_levels = happiness2015_3['Economy'].apply(relevel_factor_columns, z=1)\n",
    "print(eco_levels.describe())\n",
    "print(eco_levels.unique())"
   ]
  },
  {
   "cell_type": "markdown",
   "metadata": {},
   "source": [
    "Change the values of all factor columns."
   ]
  },
  {
   "cell_type": "code",
   "execution_count": 1071,
   "metadata": {},
   "outputs": [],
   "source": [
    "factors = ['Economy', 'Family', 'Health', 'Freedom', 'Trust', 'Generosity']\n",
    "factors_impact = happiness2015_3[factors].applymap(lambda x: 'high' if x > 1 else 'low')\n",
    "\n",
    "\n",
    "    "
   ]
  },
  {
   "cell_type": "code",
   "execution_count": 1072,
   "metadata": {},
   "outputs": [
    {
     "name": "stdout",
     "output_type": "stream",
     "text": [
      "       Economy Family Health Freedom Trust Generosity\n",
      "count      158    158    158     158   158        158\n",
      "unique       2      2      2       1     1          1\n",
      "top        low   high    low     low   low        low\n",
      "freq        92     89    156     158   158        158\n"
     ]
    }
   ],
   "source": [
    "print(factors_impact.describe())"
   ]
  },
  {
   "cell_type": "code",
   "execution_count": 1073,
   "metadata": {},
   "outputs": [
    {
     "name": "stdout",
     "output_type": "stream",
     "text": [
      "      Economy  Family  Health  Freedom  Trust  Generosity\n",
      "high       66      89       2      NaN    NaN         NaN\n",
      "low        92      69     156    158.0  158.0       158.0\n"
     ]
    }
   ],
   "source": [
    "print(factors_impact.apply(pd.value_counts))\n"
   ]
  },
  {
   "cell_type": "markdown",
   "metadata": {},
   "source": [
    "Check if change of levels were successful."
   ]
  },
  {
   "cell_type": "code",
   "execution_count": 1074,
   "metadata": {},
   "outputs": [
    {
     "name": "stdout",
     "output_type": "stream",
     "text": [
      "Economy levels: ['high' 'low']\n",
      "Family levels: ['high' 'low']\n",
      "Health levels: ['high' 'low']\n",
      "Freedom levels: ['high' 'low']\n",
      "Trust levels: ['high' 'low']\n",
      "Generosity levels: ['high' 'low']\n"
     ]
    }
   ],
   "source": [
    "for i in range(0, len(factors_impact.columns)):\n",
    "    unique_factor_values = factors_impact.loc[i].unique()\n",
    "    print(\"{} levels: {}\".format(factors[i], unique_factor_values))"
   ]
  },
  {
   "cell_type": "code",
   "execution_count": 1075,
   "metadata": {},
   "outputs": [],
   "source": [
    "happiness2015_3[factors]=happiness2015_3[factors].applymap(lambda x: 'high' if x > 1 else 'low')"
   ]
  },
  {
   "cell_type": "code",
   "execution_count": 1076,
   "metadata": {},
   "outputs": [
    {
     "data": {
      "text/html": [
       "<div>\n",
       "<style>\n",
       "    .dataframe thead tr:only-child th {\n",
       "        text-align: right;\n",
       "    }\n",
       "\n",
       "    .dataframe thead th {\n",
       "        text-align: left;\n",
       "    }\n",
       "\n",
       "    .dataframe tbody tr th {\n",
       "        vertical-align: top;\n",
       "    }\n",
       "</style>\n",
       "<table border=\"1\" class=\"dataframe\">\n",
       "  <thead>\n",
       "    <tr style=\"text-align: right;\">\n",
       "      <th></th>\n",
       "      <th>Country</th>\n",
       "      <th>Region</th>\n",
       "      <th>Happiness Rank</th>\n",
       "      <th>Happiness Score</th>\n",
       "      <th>Standard Error</th>\n",
       "      <th>Economy</th>\n",
       "      <th>Family</th>\n",
       "      <th>Health</th>\n",
       "      <th>Freedom</th>\n",
       "      <th>Trust</th>\n",
       "      <th>Generosity</th>\n",
       "      <th>Dystopia Residual</th>\n",
       "      <th>year</th>\n",
       "    </tr>\n",
       "  </thead>\n",
       "  <tbody>\n",
       "    <tr>\n",
       "      <th>0</th>\n",
       "      <td>Switzerland</td>\n",
       "      <td>Western Europe</td>\n",
       "      <td>1</td>\n",
       "      <td>7.587</td>\n",
       "      <td>0.03411</td>\n",
       "      <td>high</td>\n",
       "      <td>high</td>\n",
       "      <td>low</td>\n",
       "      <td>low</td>\n",
       "      <td>low</td>\n",
       "      <td>low</td>\n",
       "      <td>2.51738</td>\n",
       "      <td>2015</td>\n",
       "    </tr>\n",
       "    <tr>\n",
       "      <th>1</th>\n",
       "      <td>Iceland</td>\n",
       "      <td>Western Europe</td>\n",
       "      <td>2</td>\n",
       "      <td>7.561</td>\n",
       "      <td>0.04884</td>\n",
       "      <td>high</td>\n",
       "      <td>high</td>\n",
       "      <td>low</td>\n",
       "      <td>low</td>\n",
       "      <td>low</td>\n",
       "      <td>low</td>\n",
       "      <td>2.70201</td>\n",
       "      <td>2015</td>\n",
       "    </tr>\n",
       "    <tr>\n",
       "      <th>2</th>\n",
       "      <td>Denmark</td>\n",
       "      <td>Western Europe</td>\n",
       "      <td>3</td>\n",
       "      <td>7.527</td>\n",
       "      <td>0.03328</td>\n",
       "      <td>high</td>\n",
       "      <td>high</td>\n",
       "      <td>low</td>\n",
       "      <td>low</td>\n",
       "      <td>low</td>\n",
       "      <td>low</td>\n",
       "      <td>2.49204</td>\n",
       "      <td>2015</td>\n",
       "    </tr>\n",
       "    <tr>\n",
       "      <th>3</th>\n",
       "      <td>Norway</td>\n",
       "      <td>Western Europe</td>\n",
       "      <td>4</td>\n",
       "      <td>7.522</td>\n",
       "      <td>0.03880</td>\n",
       "      <td>high</td>\n",
       "      <td>high</td>\n",
       "      <td>low</td>\n",
       "      <td>low</td>\n",
       "      <td>low</td>\n",
       "      <td>low</td>\n",
       "      <td>2.46531</td>\n",
       "      <td>2015</td>\n",
       "    </tr>\n",
       "    <tr>\n",
       "      <th>4</th>\n",
       "      <td>Canada</td>\n",
       "      <td>North America</td>\n",
       "      <td>5</td>\n",
       "      <td>7.427</td>\n",
       "      <td>0.03553</td>\n",
       "      <td>high</td>\n",
       "      <td>high</td>\n",
       "      <td>low</td>\n",
       "      <td>low</td>\n",
       "      <td>low</td>\n",
       "      <td>low</td>\n",
       "      <td>2.45176</td>\n",
       "      <td>2015</td>\n",
       "    </tr>\n",
       "  </tbody>\n",
       "</table>\n",
       "</div>"
      ],
      "text/plain": [
       "       Country          Region  Happiness Rank  Happiness Score  \\\n",
       "0  Switzerland  Western Europe               1            7.587   \n",
       "1      Iceland  Western Europe               2            7.561   \n",
       "2      Denmark  Western Europe               3            7.527   \n",
       "3       Norway  Western Europe               4            7.522   \n",
       "4       Canada   North America               5            7.427   \n",
       "\n",
       "   Standard Error Economy Family Health Freedom Trust Generosity  \\\n",
       "0         0.03411    high   high    low     low   low        low   \n",
       "1         0.04884    high   high    low     low   low        low   \n",
       "2         0.03328    high   high    low     low   low        low   \n",
       "3         0.03880    high   high    low     low   low        low   \n",
       "4         0.03553    high   high    low     low   low        low   \n",
       "\n",
       "   Dystopia Residual  year  \n",
       "0            2.51738  2015  \n",
       "1            2.70201  2015  \n",
       "2            2.49204  2015  \n",
       "3            2.46531  2015  \n",
       "4            2.45176  2015  "
      ]
     },
     "execution_count": 1076,
     "metadata": {},
     "output_type": "execute_result"
    }
   ],
   "source": [
    "happiness2015_3.head()"
   ]
  },
  {
   "cell_type": "code",
   "execution_count": 1077,
   "metadata": {},
   "outputs": [
    {
     "data": {
      "text/html": [
       "<div>\n",
       "<style>\n",
       "    .dataframe thead tr:only-child th {\n",
       "        text-align: right;\n",
       "    }\n",
       "\n",
       "    .dataframe thead th {\n",
       "        text-align: left;\n",
       "    }\n",
       "\n",
       "    .dataframe tbody tr th {\n",
       "        vertical-align: top;\n",
       "    }\n",
       "</style>\n",
       "<table border=\"1\" class=\"dataframe\">\n",
       "  <thead>\n",
       "    <tr style=\"text-align: right;\">\n",
       "      <th></th>\n",
       "      <th>Economy</th>\n",
       "      <th>Family</th>\n",
       "      <th>Health</th>\n",
       "      <th>Freedom</th>\n",
       "      <th>Trust</th>\n",
       "      <th>Generosity</th>\n",
       "    </tr>\n",
       "  </thead>\n",
       "  <tbody>\n",
       "    <tr>\n",
       "      <th>high</th>\n",
       "      <td>66</td>\n",
       "      <td>89</td>\n",
       "      <td>2</td>\n",
       "      <td>NaN</td>\n",
       "      <td>NaN</td>\n",
       "      <td>NaN</td>\n",
       "    </tr>\n",
       "    <tr>\n",
       "      <th>low</th>\n",
       "      <td>92</td>\n",
       "      <td>69</td>\n",
       "      <td>156</td>\n",
       "      <td>158.0</td>\n",
       "      <td>158.0</td>\n",
       "      <td>158.0</td>\n",
       "    </tr>\n",
       "  </tbody>\n",
       "</table>\n",
       "</div>"
      ],
      "text/plain": [
       "      Economy  Family  Health  Freedom  Trust  Generosity\n",
       "high       66      89       2      NaN    NaN         NaN\n",
       "low        92      69     156    158.0  158.0       158.0"
      ]
     },
     "execution_count": 1077,
     "metadata": {},
     "output_type": "execute_result"
    }
   ],
   "source": [
    "happiness2015_3[factors].apply(pd.value_counts)"
   ]
  },
  {
   "cell_type": "markdown",
   "metadata": {},
   "source": [
    "NaN values are there because all values are below one and therefore low."
   ]
  },
  {
   "cell_type": "markdown",
   "metadata": {},
   "source": [
    "Determine the percentages of high and low values for every column."
   ]
  },
  {
   "cell_type": "code",
   "execution_count": 1078,
   "metadata": {},
   "outputs": [],
   "source": [
    "def percentage_calculation(variable):\n",
    "    valuecounts = variable.value_counts()\n",
    "    variable_sum = variable.size\n",
    "    return valuecounts / variable_sum"
   ]
  },
  {
   "cell_type": "code",
   "execution_count": 1079,
   "metadata": {},
   "outputs": [
    {
     "data": {
      "text/html": [
       "<div>\n",
       "<style>\n",
       "    .dataframe thead tr:only-child th {\n",
       "        text-align: right;\n",
       "    }\n",
       "\n",
       "    .dataframe thead th {\n",
       "        text-align: left;\n",
       "    }\n",
       "\n",
       "    .dataframe tbody tr th {\n",
       "        vertical-align: top;\n",
       "    }\n",
       "</style>\n",
       "<table border=\"1\" class=\"dataframe\">\n",
       "  <thead>\n",
       "    <tr style=\"text-align: right;\">\n",
       "      <th></th>\n",
       "      <th>Economy</th>\n",
       "      <th>Family</th>\n",
       "      <th>Health</th>\n",
       "      <th>Freedom</th>\n",
       "      <th>Trust</th>\n",
       "      <th>Generosity</th>\n",
       "    </tr>\n",
       "  </thead>\n",
       "  <tbody>\n",
       "    <tr>\n",
       "      <th>high</th>\n",
       "      <td>0.417722</td>\n",
       "      <td>0.563291</td>\n",
       "      <td>0.012658</td>\n",
       "      <td>NaN</td>\n",
       "      <td>NaN</td>\n",
       "      <td>NaN</td>\n",
       "    </tr>\n",
       "    <tr>\n",
       "      <th>low</th>\n",
       "      <td>0.582278</td>\n",
       "      <td>0.436709</td>\n",
       "      <td>0.987342</td>\n",
       "      <td>1.0</td>\n",
       "      <td>1.0</td>\n",
       "      <td>1.0</td>\n",
       "    </tr>\n",
       "  </tbody>\n",
       "</table>\n",
       "</div>"
      ],
      "text/plain": [
       "       Economy    Family    Health  Freedom  Trust  Generosity\n",
       "high  0.417722  0.563291  0.012658      NaN    NaN         NaN\n",
       "low   0.582278  0.436709  0.987342      1.0    1.0         1.0"
      ]
     },
     "execution_count": 1079,
     "metadata": {},
     "output_type": "execute_result"
    }
   ],
   "source": [
    "happiness2015_3[factors].apply(percentage_calculation, axis=0)"
   ]
  },
  {
   "cell_type": "code",
   "execution_count": 1080,
   "metadata": {},
   "outputs": [
    {
     "data": {
      "text/html": [
       "<div>\n",
       "<style>\n",
       "    .dataframe thead tr:only-child th {\n",
       "        text-align: right;\n",
       "    }\n",
       "\n",
       "    .dataframe thead th {\n",
       "        text-align: left;\n",
       "    }\n",
       "\n",
       "    .dataframe tbody tr th {\n",
       "        vertical-align: top;\n",
       "    }\n",
       "</style>\n",
       "<table border=\"1\" class=\"dataframe\">\n",
       "  <thead>\n",
       "    <tr style=\"text-align: right;\">\n",
       "      <th></th>\n",
       "      <th>Country</th>\n",
       "      <th>Region</th>\n",
       "      <th>Happiness Rank</th>\n",
       "      <th>Happiness Score</th>\n",
       "      <th>Standard Error</th>\n",
       "      <th>Economy</th>\n",
       "      <th>Family</th>\n",
       "      <th>Health</th>\n",
       "      <th>Freedom</th>\n",
       "      <th>Trust</th>\n",
       "      <th>Generosity</th>\n",
       "      <th>Dystopia Residual</th>\n",
       "      <th>year</th>\n",
       "    </tr>\n",
       "  </thead>\n",
       "  <tbody>\n",
       "    <tr>\n",
       "      <th>0</th>\n",
       "      <td>Switzerland</td>\n",
       "      <td>Western Europe</td>\n",
       "      <td>1</td>\n",
       "      <td>7.587</td>\n",
       "      <td>0.03411</td>\n",
       "      <td>high</td>\n",
       "      <td>high</td>\n",
       "      <td>low</td>\n",
       "      <td>low</td>\n",
       "      <td>low</td>\n",
       "      <td>low</td>\n",
       "      <td>2.51738</td>\n",
       "      <td>2015</td>\n",
       "    </tr>\n",
       "    <tr>\n",
       "      <th>1</th>\n",
       "      <td>Iceland</td>\n",
       "      <td>Western Europe</td>\n",
       "      <td>2</td>\n",
       "      <td>7.561</td>\n",
       "      <td>0.04884</td>\n",
       "      <td>high</td>\n",
       "      <td>high</td>\n",
       "      <td>low</td>\n",
       "      <td>low</td>\n",
       "      <td>low</td>\n",
       "      <td>low</td>\n",
       "      <td>2.70201</td>\n",
       "      <td>2015</td>\n",
       "    </tr>\n",
       "    <tr>\n",
       "      <th>2</th>\n",
       "      <td>Denmark</td>\n",
       "      <td>Western Europe</td>\n",
       "      <td>3</td>\n",
       "      <td>7.527</td>\n",
       "      <td>0.03328</td>\n",
       "      <td>high</td>\n",
       "      <td>high</td>\n",
       "      <td>low</td>\n",
       "      <td>low</td>\n",
       "      <td>low</td>\n",
       "      <td>low</td>\n",
       "      <td>2.49204</td>\n",
       "      <td>2015</td>\n",
       "    </tr>\n",
       "    <tr>\n",
       "      <th>3</th>\n",
       "      <td>Norway</td>\n",
       "      <td>Western Europe</td>\n",
       "      <td>4</td>\n",
       "      <td>7.522</td>\n",
       "      <td>0.03880</td>\n",
       "      <td>high</td>\n",
       "      <td>high</td>\n",
       "      <td>low</td>\n",
       "      <td>low</td>\n",
       "      <td>low</td>\n",
       "      <td>low</td>\n",
       "      <td>2.46531</td>\n",
       "      <td>2015</td>\n",
       "    </tr>\n",
       "    <tr>\n",
       "      <th>4</th>\n",
       "      <td>Canada</td>\n",
       "      <td>North America</td>\n",
       "      <td>5</td>\n",
       "      <td>7.427</td>\n",
       "      <td>0.03553</td>\n",
       "      <td>high</td>\n",
       "      <td>high</td>\n",
       "      <td>low</td>\n",
       "      <td>low</td>\n",
       "      <td>low</td>\n",
       "      <td>low</td>\n",
       "      <td>2.45176</td>\n",
       "      <td>2015</td>\n",
       "    </tr>\n",
       "  </tbody>\n",
       "</table>\n",
       "</div>"
      ],
      "text/plain": [
       "       Country          Region  Happiness Rank  Happiness Score  \\\n",
       "0  Switzerland  Western Europe               1            7.587   \n",
       "1      Iceland  Western Europe               2            7.561   \n",
       "2      Denmark  Western Europe               3            7.527   \n",
       "3       Norway  Western Europe               4            7.522   \n",
       "4       Canada   North America               5            7.427   \n",
       "\n",
       "   Standard Error Economy Family Health Freedom Trust Generosity  \\\n",
       "0         0.03411    high   high    low     low   low        low   \n",
       "1         0.04884    high   high    low     low   low        low   \n",
       "2         0.03328    high   high    low     low   low        low   \n",
       "3         0.03880    high   high    low     low   low        low   \n",
       "4         0.03553    high   high    low     low   low        low   \n",
       "\n",
       "   Dystopia Residual  year  \n",
       "0            2.51738  2015  \n",
       "1            2.70201  2015  \n",
       "2            2.49204  2015  \n",
       "3            2.46531  2015  \n",
       "4            2.45176  2015  "
      ]
     },
     "execution_count": 1080,
     "metadata": {},
     "output_type": "execute_result"
    }
   ],
   "source": [
    "happiness2015.head()\n",
    "# happiness2015_3['Economy'] / happiness2015_3['Happiness Score'] "
   ]
  },
  {
   "cell_type": "code",
   "execution_count": 1081,
   "metadata": {},
   "outputs": [
    {
     "name": "stdout",
     "output_type": "stream",
     "text": [
      "(158, 14)\n",
      "Index(['Country', 'Region', 'Happiness Rank', 'Happiness Score',\n",
      "       'Standard Error', 'Economy', 'Family', 'Health', 'Freedom', 'Trust',\n",
      "       'Generosity', 'Dystopia Residual', 'year', 'sum_factors'],\n",
      "      dtype='object')\n"
     ]
    }
   ],
   "source": [
    "print(happiness2015_555.shape)\n",
    "# happiness2015_555.head()\n",
    "happiness2015_67777 = happiness2015_555.copy()\n",
    "# print(happiness2015_67777.head())\n",
    "mapping = {'Economy (GDP per Capita)': 'Economy', 'Health (Life Expectancy)': 'Health', \n",
    "           'Trust (Government Corruption)': 'Trust' }\n",
    "happiness2015_67777 = happiness2015_67777.rename(columns=mapping)\n",
    "print(happiness2015_67777.columns)\n",
    "# The factor columns are floats in this data frame"
   ]
  },
  {
   "cell_type": "markdown",
   "metadata": {},
   "source": [
    "Calculate percentage of factor columns on the Happiness Score (, which is the sum of the Happiness Score)."
   ]
  },
  {
   "cell_type": "code",
   "execution_count": 1082,
   "metadata": {},
   "outputs": [
    {
     "name": "stdout",
     "output_type": "stream",
     "text": [
      "     Economy     Family     Health   Freedom     Trust  Generosity\n",
      "0  18.406617  17.787136  12.408462  8.772506  5.532885    3.911691\n",
      "1  17.224177  18.545563  12.535908  8.315963  1.870784    5.770401\n",
      "2  17.609672  18.075993  11.620035  8.627342  6.424472    4.535539\n",
      "3  19.396437  17.694097  11.768280  8.903616  4.852832    4.613002\n",
      "4  17.857681  17.808132  12.193753  8.522553  4.437458    6.168170\n"
     ]
    }
   ],
   "source": [
    "# factors = ['Economy', 'Family', 'Health', 'Freedom', 'Trust', 'Generosity', 'Dystopia Residual']\n",
    "\n",
    "def percentages(col):\n",
    "    div =  col/happiness2015_67777['Happiness Score'] \n",
    "    return div * 100\n",
    "factor_percentages=happiness2015_67777[factors].apply(percentages)\n",
    "print(factor_percentages.head())\n",
    "\n",
    "# python pandas: apply a function with (many) arguments to a series\n",
    "# The documentation explains this clearly. The apply method accepts a python function which should have a \n",
    "# single parameter. If you want to pass more parameters you should use functools.partial.\n",
    "# https://stackoverflow.com/questions/12182744/python-pandas-apply-a-function-with-arguments-to-a-series"
   ]
  },
  {
   "cell_type": "markdown",
   "metadata": {},
   "source": [
    "Reshape the data frame using [pd.melt](https://pandas.pydata.org/pandas-docs/stable/reference/api/pandas.melt.html) .<br>\n",
    "This transforms the wide data frame consisting of the factor columns into a long data frame with only one factor and one value column."
   ]
  },
  {
   "cell_type": "code",
   "execution_count": 1083,
   "metadata": {},
   "outputs": [
    {
     "name": "stdout",
     "output_type": "stream",
     "text": [
      "(158, 14)\n",
      "<class 'pandas.core.frame.DataFrame'>\n",
      "RangeIndex: 1106 entries, 0 to 1105\n",
      "Data columns (total 6 columns):\n",
      "Country            1106 non-null object\n",
      "Region             1106 non-null object\n",
      "Happiness Rank     1106 non-null int64\n",
      "Happiness Score    1106 non-null float64\n",
      "Factors            1106 non-null object\n",
      "Factor_Score       1106 non-null float64\n",
      "dtypes: float64(2), int64(1), object(3)\n",
      "memory usage: 51.9+ KB\n",
      "None\n",
      "The unique values in the Factor colum are: ['Economy' 'Family' 'Health' 'Freedom' 'Trust' 'Generosity'\n",
      " 'Dystopia Residual']\n",
      "       Country          Region  Happiness Rank  Happiness Score  Factors  \\\n",
      "0  Switzerland  Western Europe               1            7.587  Economy   \n",
      "1      Iceland  Western Europe               2            7.561  Economy   \n",
      "2      Denmark  Western Europe               3            7.527  Economy   \n",
      "3       Norway  Western Europe               4            7.522  Economy   \n",
      "4       Canada   North America               5            7.427  Economy   \n",
      "\n",
      "   Factor_Score  \n",
      "0       1.39651  \n",
      "1       1.30232  \n",
      "2       1.32548  \n",
      "3       1.45900  \n",
      "4       1.32629  \n"
     ]
    }
   ],
   "source": [
    "happiness2015_899999 = happiness2015_67777.copy()\n",
    "print(happiness2015_899999.shape)\n",
    "main_cols = ['Country', 'Region', 'Happiness Rank', 'Happiness Score']\n",
    "factors = ['Economy', 'Family', 'Health', 'Freedom', 'Trust', 'Generosity', 'Dystopia Residual']\n",
    "melt_23=pd.melt(happiness2015_899999, id_vars=main_cols, value_vars=factors, var_name=\"Factors\", value_name=\"Factor_Score\")\n",
    "print(melt_23.info())\n",
    "print(\"The unique values in the Factor colum are: {}\".format(melt_23['Factors'].unique()))\n",
    "print(melt_23.head())"
   ]
  },
  {
   "cell_type": "code",
   "execution_count": 1084,
   "metadata": {},
   "outputs": [],
   "source": [
    "melt_23['Percentage'] = round(melt_23['Factor_Score'] / melt_23['Happiness Score']*100,2)"
   ]
  },
  {
   "cell_type": "code",
   "execution_count": 1085,
   "metadata": {},
   "outputs": [
    {
     "data": {
      "text/html": [
       "<div>\n",
       "<style>\n",
       "    .dataframe thead tr:only-child th {\n",
       "        text-align: right;\n",
       "    }\n",
       "\n",
       "    .dataframe thead th {\n",
       "        text-align: left;\n",
       "    }\n",
       "\n",
       "    .dataframe tbody tr th {\n",
       "        vertical-align: top;\n",
       "    }\n",
       "</style>\n",
       "<table border=\"1\" class=\"dataframe\">\n",
       "  <thead>\n",
       "    <tr style=\"text-align: right;\">\n",
       "      <th></th>\n",
       "      <th>Country</th>\n",
       "      <th>Region</th>\n",
       "      <th>Happiness Rank</th>\n",
       "      <th>Happiness Score</th>\n",
       "      <th>Factors</th>\n",
       "      <th>Factor_Score</th>\n",
       "      <th>Percentage</th>\n",
       "    </tr>\n",
       "  </thead>\n",
       "  <tbody>\n",
       "    <tr>\n",
       "      <th>0</th>\n",
       "      <td>Switzerland</td>\n",
       "      <td>Western Europe</td>\n",
       "      <td>1</td>\n",
       "      <td>7.587</td>\n",
       "      <td>Economy</td>\n",
       "      <td>1.39651</td>\n",
       "      <td>18.41</td>\n",
       "    </tr>\n",
       "    <tr>\n",
       "      <th>1</th>\n",
       "      <td>Iceland</td>\n",
       "      <td>Western Europe</td>\n",
       "      <td>2</td>\n",
       "      <td>7.561</td>\n",
       "      <td>Economy</td>\n",
       "      <td>1.30232</td>\n",
       "      <td>17.22</td>\n",
       "    </tr>\n",
       "    <tr>\n",
       "      <th>2</th>\n",
       "      <td>Denmark</td>\n",
       "      <td>Western Europe</td>\n",
       "      <td>3</td>\n",
       "      <td>7.527</td>\n",
       "      <td>Economy</td>\n",
       "      <td>1.32548</td>\n",
       "      <td>17.61</td>\n",
       "    </tr>\n",
       "    <tr>\n",
       "      <th>3</th>\n",
       "      <td>Norway</td>\n",
       "      <td>Western Europe</td>\n",
       "      <td>4</td>\n",
       "      <td>7.522</td>\n",
       "      <td>Economy</td>\n",
       "      <td>1.45900</td>\n",
       "      <td>19.40</td>\n",
       "    </tr>\n",
       "    <tr>\n",
       "      <th>4</th>\n",
       "      <td>Canada</td>\n",
       "      <td>North America</td>\n",
       "      <td>5</td>\n",
       "      <td>7.427</td>\n",
       "      <td>Economy</td>\n",
       "      <td>1.32629</td>\n",
       "      <td>17.86</td>\n",
       "    </tr>\n",
       "  </tbody>\n",
       "</table>\n",
       "</div>"
      ],
      "text/plain": [
       "       Country          Region  Happiness Rank  Happiness Score  Factors  \\\n",
       "0  Switzerland  Western Europe               1            7.587  Economy   \n",
       "1      Iceland  Western Europe               2            7.561  Economy   \n",
       "2      Denmark  Western Europe               3            7.527  Economy   \n",
       "3       Norway  Western Europe               4            7.522  Economy   \n",
       "4       Canada   North America               5            7.427  Economy   \n",
       "\n",
       "   Factor_Score  Percentage  \n",
       "0       1.39651       18.41  \n",
       "1       1.30232       17.22  \n",
       "2       1.32548       17.61  \n",
       "3       1.45900       19.40  \n",
       "4       1.32629       17.86  "
      ]
     },
     "execution_count": 1085,
     "metadata": {},
     "output_type": "execute_result"
    }
   ],
   "source": [
    "melt_23.head()"
   ]
  },
  {
   "cell_type": "markdown",
   "metadata": {},
   "source": [
    "In Switzerland a country of Western Europe the economy contributes with a percentage of 18.41 to the Happiness Score."
   ]
  },
  {
   "cell_type": "markdown",
   "metadata": {},
   "source": [
    "Which factors are contributing the most to happiness?"
   ]
  },
  {
   "cell_type": "markdown",
   "metadata": {},
   "source": [
    "Drop observations, where 'Dystopia Residual' in Factors."
   ]
  },
  {
   "cell_type": "code",
   "execution_count": 1086,
   "metadata": {},
   "outputs": [],
   "source": [
    "melt_455 = melt_23.copy()\n",
    "melt_455 = melt_455[melt_455['Factors'] != 'Dystopia Residual']"
   ]
  },
  {
   "cell_type": "markdown",
   "metadata": {},
   "source": [
    "Create a pivot table or group by Factors and aggregrate the data with the mean function."
   ]
  },
  {
   "cell_type": "code",
   "execution_count": 1087,
   "metadata": {},
   "outputs": [
    {
     "name": "stdout",
     "output_type": "stream",
     "text": [
      "            Factor_Score\n",
      "Factors                 \n",
      "Family          0.991046\n",
      "Economy         0.846137\n",
      "Health          0.630259\n",
      "Freedom         0.428615\n",
      "Generosity      0.237296\n",
      "Trust           0.143422\n"
     ]
    },
    {
     "data": {
      "text/plain": [
       "<matplotlib.axes._subplots.AxesSubplot at 0x17d47f237f0>"
      ]
     },
     "execution_count": 1087,
     "metadata": {},
     "output_type": "execute_result"
    },
    {
     "data": {
      "image/png": "[encoded data removed]",
      "text/plain": [
       "<Figure size 432x504 with 1 Axes>"
      ]
     },
     "metadata": {},
     "output_type": "display_data"
    }
   ],
   "source": [
    "\n",
    "pv_melt = pd.pivot_table(melt_455, values='Factor_Score', index='Factors')\n",
    "print(pv_melt.sort_values('Factor_Score', ascending=False))\n",
    "pv_melt.plot(kind='pie', y='Factor_Score', legend=False,\\\n",
    "             title=\"Percentage of factors contributing to Happiness Score\",\n",
    "             figsize=(6,7), fontsize=12)"
   ]
  },
  {
   "cell_type": "code",
   "execution_count": 1088,
   "metadata": {},
   "outputs": [
    {
     "data": {
      "text/plain": [
       "<matplotlib.axes._subplots.AxesSubplot at 0x17d47a91cc0>"
      ]
     },
     "execution_count": 1088,
     "metadata": {},
     "output_type": "execute_result"
    },
    {
     "data": {
      "image/png": "[encoded data removed]",
      "text/plain": [
       "<Figure size 864x360 with 1 Axes>"
      ]
     },
     "metadata": {},
     "output_type": "display_data"
    }
   ],
   "source": [
    "\n",
    "\n",
    "pv_melt.plot(kind='bar', y='Factor_Score', legend=False, color=(\"red\", \"green\"), \n",
    "             title=\"Percentage of factors contributing to Happiness Score\", fontsize=12,\\\n",
    "             figsize=(12,5))"
   ]
  },
  {
   "cell_type": "markdown",
   "metadata": {},
   "source": [
    "Economy creates the most to the Happiness Score then followed by family and with a distance by health. Trust contributes\n",
    "the least to Happiness."
   ]
  },
  {
   "cell_type": "markdown",
   "metadata": {},
   "source": [
    "### New data set: economic data of countries\n",
    "Amending the happiness2015 data set with economic data on countries from the world bank ( [source: Kaggle](https://www.kaggle.com/worldbank/world-development-indicators/version/2#Country.csv) ) . \n",
    "The variables in the data set are economic indicators, coding and identifiers of the countries."
   ]
  },
  {
   "cell_type": "code",
   "execution_count": 1089,
   "metadata": {},
   "outputs": [
    {
     "name": "stdout",
     "output_type": "stream",
     "text": [
      "<class 'pandas.core.frame.DataFrame'>\n",
      "RangeIndex: 247 entries, 0 to 246\n",
      "Data columns (total 31 columns):\n",
      "CountryCode                                   247 non-null object\n",
      "ShortName                                     247 non-null object\n",
      "TableName                                     247 non-null object\n",
      "LongName                                      247 non-null object\n",
      "Alpha2Code                                    244 non-null object\n",
      "CurrencyUnit                                  214 non-null object\n",
      "SpecialNotes                                  164 non-null object\n",
      "Region                                        214 non-null object\n",
      "IncomeGroup                                   214 non-null object\n",
      "Wb2Code                                       246 non-null object\n",
      "NationalAccountsBaseYear                      205 non-null object\n",
      "NationalAccountsReferenceYear                 54 non-null object\n",
      "SnaPriceValuation                             198 non-null object\n",
      "LendingCategory                               144 non-null object\n",
      "OtherGroups                                   59 non-null object\n",
      "SystemOfNationalAccounts                      214 non-null object\n",
      "AlternativeConversionFactor                   47 non-null object\n",
      "PppSurveyYear                                 191 non-null object\n",
      "BalanceOfPaymentsManualInUse                  181 non-null object\n",
      "ExternalDebtReportingStatus                   124 non-null object\n",
      "SystemOfTrade                                 200 non-null object\n",
      "GovernmentAccountingConcept                   161 non-null object\n",
      "ImfDataDisseminationStandard                  183 non-null object\n",
      "LatestPopulationCensus                        213 non-null object\n",
      "LatestHouseholdSurvey                         147 non-null object\n",
      "SourceOfMostRecentIncomeAndExpenditureData    158 non-null object\n",
      "VitalRegistrationComplete                     112 non-null object\n",
      "LatestAgriculturalCensus                      142 non-null object\n",
      "LatestIndustrialData                          113 non-null float64\n",
      "LatestTradeData                               186 non-null float64\n",
      "LatestWaterWithdrawalData                     180 non-null float64\n",
      "dtypes: float64(3), object(28)\n",
      "memory usage: 59.9+ KB\n",
      "None\n"
     ]
    }
   ],
   "source": [
    "countries_indicators = pd.read_csv(\"Country.csv\", sep=\",\", header=0)\n",
    "print(countries_indicators.info())"
   ]
  },
  {
   "cell_type": "markdown",
   "metadata": {},
   "source": [
    "Cleaning provisionally: The variable \"SourceOfMostRecentIncomeAndExpenditureData\" is too long as name."
   ]
  },
  {
   "cell_type": "code",
   "execution_count": 1090,
   "metadata": {},
   "outputs": [],
   "source": [
    "countries_indicators.rename(columns={'SourceOfMostRecentIncomeAndExpenditureData': 'IESurvey'}, inplace=True)"
   ]
  },
  {
   "cell_type": "markdown",
   "metadata": {},
   "source": [
    "Creating an identifier column for the variables coming from the World Bank data set."
   ]
  },
  {
   "cell_type": "code",
   "execution_count": 1091,
   "metadata": {},
   "outputs": [],
   "source": [
    "countries_indicators[\"Source\"] = \"World Bank\""
   ]
  },
  {
   "cell_type": "code",
   "execution_count": 1092,
   "metadata": {},
   "outputs": [
    {
     "data": {
      "text/plain": [
       "Index(['CountryCode', 'ShortName', 'TableName', 'LongName', 'Alpha2Code',\n",
       "       'CurrencyUnit', 'SpecialNotes', 'Region', 'IncomeGroup', 'Wb2Code',\n",
       "       'NationalAccountsBaseYear', 'NationalAccountsReferenceYear',\n",
       "       'SnaPriceValuation', 'LendingCategory', 'OtherGroups',\n",
       "       'SystemOfNationalAccounts', 'AlternativeConversionFactor',\n",
       "       'PppSurveyYear', 'BalanceOfPaymentsManualInUse',\n",
       "       'ExternalDebtReportingStatus', 'SystemOfTrade',\n",
       "       'GovernmentAccountingConcept', 'ImfDataDisseminationStandard',\n",
       "       'LatestPopulationCensus', 'LatestHouseholdSurvey', 'IESurvey',\n",
       "       'VitalRegistrationComplete', 'LatestAgriculturalCensus',\n",
       "       'LatestIndustrialData', 'LatestTradeData', 'LatestWaterWithdrawalData',\n",
       "       'Source'],\n",
       "      dtype='object')"
      ]
     },
     "execution_count": 1092,
     "metadata": {},
     "output_type": "execute_result"
    }
   ],
   "source": [
    "countries_indicators.columns"
   ]
  },
  {
   "cell_type": "markdown",
   "metadata": {},
   "source": [
    "Merging happiness 2015 with countries indicators.<br>\n",
    "This is done with a left join, which will return only countries contained in happiness 2015.<br>"
   ]
  },
  {
   "cell_type": "code",
   "execution_count": 1093,
   "metadata": {},
   "outputs": [
    {
     "name": "stdout",
     "output_type": "stream",
     "text": [
      "(158, 14)\n",
      "<class 'pandas.core.frame.DataFrame'>\n",
      "Int64Index: 158 entries, 0 to 157\n",
      "Data columns (total 46 columns):\n",
      "Country                          158 non-null object\n",
      "Region_x                         158 non-null object\n",
      "Happiness Rank                   158 non-null int64\n",
      "Happiness Score                  158 non-null float64\n",
      "Standard Error                   158 non-null float64\n",
      "Economy                          158 non-null float64\n",
      "Family                           158 non-null float64\n",
      "Health                           158 non-null float64\n",
      "Freedom                          158 non-null float64\n",
      "Trust                            158 non-null float64\n",
      "Generosity                       158 non-null float64\n",
      "Dystopia Residual                158 non-null float64\n",
      "year                             158 non-null object\n",
      "sum_factors                      158 non-null float64\n",
      "CountryCode                      145 non-null object\n",
      "ShortName                        145 non-null object\n",
      "TableName                        145 non-null object\n",
      "LongName                         145 non-null object\n",
      "Alpha2Code                       144 non-null object\n",
      "CurrencyUnit                     145 non-null object\n",
      "SpecialNotes                     93 non-null object\n",
      "Region_y                         145 non-null object\n",
      "IncomeGroup                      145 non-null object\n",
      "Wb2Code                          145 non-null object\n",
      "NationalAccountsBaseYear         145 non-null object\n",
      "NationalAccountsReferenceYear    48 non-null object\n",
      "SnaPriceValuation                145 non-null object\n",
      "LendingCategory                  106 non-null object\n",
      "OtherGroups                      48 non-null object\n",
      "SystemOfNationalAccounts         145 non-null object\n",
      "AlternativeConversionFactor      40 non-null object\n",
      "PppSurveyYear                    139 non-null object\n",
      "BalanceOfPaymentsManualInUse     141 non-null object\n",
      "ExternalDebtReportingStatus      98 non-null object\n",
      "SystemOfTrade                    143 non-null object\n",
      "GovernmentAccountingConcept      128 non-null object\n",
      "ImfDataDisseminationStandard     142 non-null object\n",
      "LatestPopulationCensus           145 non-null object\n",
      "LatestHouseholdSurvey            115 non-null object\n",
      "IESurvey                         130 non-null object\n",
      "VitalRegistrationComplete        73 non-null object\n",
      "LatestAgriculturalCensus         116 non-null object\n",
      "LatestIndustrialData             99 non-null float64\n",
      "LatestTradeData                  139 non-null float64\n",
      "LatestWaterWithdrawalData        144 non-null float64\n",
      "Source                           145 non-null object\n",
      "dtypes: float64(13), int64(1), object(32)\n",
      "memory usage: 58.0+ KB\n",
      "None\n",
      "(158, 46)\n"
     ]
    }
   ],
   "source": [
    "happiness2015_1999 = happiness2015_67777.copy()\n",
    "print(happiness2015_1999.shape)\n",
    "# happiness2015_1999.head()\n",
    "merge_happy_indic = pd.merge(left=happiness2015_1999, left_on=\"Country\", right=countries_indicators, \n",
    "                             right_on='ShortName', how='left')\n",
    "\n",
    "print(merge_happy_indic.info())\n",
    "print(merge_happy_indic.shape)"
   ]
  },
  {
   "cell_type": "markdown",
   "metadata": {},
   "source": [
    "<p>\n",
    "These variables are used in this project:\n",
    "</p>    \n",
    "\n",
    "<ul>\n",
    "<li>ShortName - Name of the country</li>\n",
    "<li>Region - The region the country belongs to</li>\n",
    "<li>IncomeGroup - The income group the country belongs to, based on Gross National Income (GNI) per capita</li>\n",
    "<li>CurrencyUnit - Name of country's currency</li>\n",
    "<li>IESurvey - The name of the survey used to collect the income and expenditure data</li>\n",
    "<li>SpecialNotes - Contains any miscellaneous notes about the data</li>\n",
    "</ul>"
   ]
  },
  {
   "cell_type": "code",
   "execution_count": 1094,
   "metadata": {},
   "outputs": [
    {
     "name": "stdout",
     "output_type": "stream",
     "text": [
      "(158, 9)\n"
     ]
    }
   ],
   "source": [
    "merge_happy_indic_45 = merge_happy_indic.copy() \n",
    "variables_used_345 = [\"Country\", \"Happiness Rank\", \"Happiness Score\", \"ShortName\", \"Region_x\", \n",
    "                      \"IncomeGroup\"   , \"CurrencyUnit\"  , \"IESurvey\"   , \"SpecialNotes\"]\n",
    "merge_happy_indic_45 = merge_happy_indic_45[variables_used_345]\n",
    "print(merge_happy_indic_45.shape)"
   ]
  },
  {
   "cell_type": "code",
   "execution_count": 1095,
   "metadata": {},
   "outputs": [
    {
     "data": {
      "text/html": [
       "<div>\n",
       "<style>\n",
       "    .dataframe thead tr:only-child th {\n",
       "        text-align: right;\n",
       "    }\n",
       "\n",
       "    .dataframe thead th {\n",
       "        text-align: left;\n",
       "    }\n",
       "\n",
       "    .dataframe tbody tr th {\n",
       "        vertical-align: top;\n",
       "    }\n",
       "</style>\n",
       "<table border=\"1\" class=\"dataframe\">\n",
       "  <thead>\n",
       "    <tr style=\"text-align: right;\">\n",
       "      <th></th>\n",
       "      <th>Country</th>\n",
       "      <th>Happiness Rank</th>\n",
       "      <th>Happiness Score</th>\n",
       "      <th>ShortName</th>\n",
       "      <th>Region</th>\n",
       "      <th>IncomeGroup</th>\n",
       "      <th>CurrencyUnit</th>\n",
       "      <th>IESurvey</th>\n",
       "      <th>SpecialNotes</th>\n",
       "    </tr>\n",
       "  </thead>\n",
       "  <tbody>\n",
       "    <tr>\n",
       "      <th>0</th>\n",
       "      <td>Switzerland</td>\n",
       "      <td>1</td>\n",
       "      <td>7.587</td>\n",
       "      <td>Switzerland</td>\n",
       "      <td>Western Europe</td>\n",
       "      <td>High income: OECD</td>\n",
       "      <td>Swiss franc</td>\n",
       "      <td>Expenditure survey/budget survey (ES/BS), 2004</td>\n",
       "      <td>NaN</td>\n",
       "    </tr>\n",
       "    <tr>\n",
       "      <th>1</th>\n",
       "      <td>Iceland</td>\n",
       "      <td>2</td>\n",
       "      <td>7.561</td>\n",
       "      <td>Iceland</td>\n",
       "      <td>Western Europe</td>\n",
       "      <td>High income: OECD</td>\n",
       "      <td>Iceland krona</td>\n",
       "      <td>Integrated household survey (IHS), 2010</td>\n",
       "      <td>NaN</td>\n",
       "    </tr>\n",
       "  </tbody>\n",
       "</table>\n",
       "</div>"
      ],
      "text/plain": [
       "       Country  Happiness Rank  Happiness Score    ShortName          Region  \\\n",
       "0  Switzerland               1            7.587  Switzerland  Western Europe   \n",
       "1      Iceland               2            7.561      Iceland  Western Europe   \n",
       "\n",
       "         IncomeGroup   CurrencyUnit  \\\n",
       "0  High income: OECD    Swiss franc   \n",
       "1  High income: OECD  Iceland krona   \n",
       "\n",
       "                                         IESurvey SpecialNotes  \n",
       "0  Expenditure survey/budget survey (ES/BS), 2004          NaN  \n",
       "1         Integrated household survey (IHS), 2010          NaN  "
      ]
     },
     "execution_count": 1095,
     "metadata": {},
     "output_type": "execute_result"
    }
   ],
   "source": [
    "merge_happy_indic_45.rename(columns={'Region_x':'Region'}, inplace=True)\n",
    "merge_happy_indic_45.head(2)"
   ]
  },
  {
   "cell_type": "markdown",
   "metadata": {},
   "source": [
    "The Happiness Rank of the first five countries are correlating with the high income group."
   ]
  },
  {
   "cell_type": "markdown",
   "metadata": {},
   "source": [
    "Extracting the unit of the CurrencyUnit-Variable without nationality."
   ]
  },
  {
   "cell_type": "code",
   "execution_count": 1096,
   "metadata": {},
   "outputs": [
    {
     "data": {
      "text/plain": [
       "0     franc\n",
       "1     krona\n",
       "2     krone\n",
       "3     krone\n",
       "4    dollar\n",
       "Name: Currency_Type, dtype: object"
      ]
     },
     "execution_count": 1096,
     "metadata": {},
     "output_type": "execute_result"
    }
   ],
   "source": [
    "def extract_last_word(element):\n",
    "    element = str(element)\n",
    "    listwords = element.split()\n",
    "    lastword = listwords[-1]\n",
    "    return lastword\n",
    "\n",
    "merge_happy_indic_45['Currency_Type'] = merge_happy_indic_45['CurrencyUnit'].apply(extract_last_word)\n",
    "merge_happy_indic_45['Currency_Type'].head()"
   ]
  },
  {
   "cell_type": "markdown",
   "metadata": {},
   "source": [
    "Extract continent from region."
   ]
  },
  {
   "cell_type": "code",
   "execution_count": 1097,
   "metadata": {},
   "outputs": [],
   "source": [
    "merge_happy_indic_45['Continent']=merge_happy_indic_45['Region'].str.split().str.get(-1)"
   ]
  },
  {
   "cell_type": "code",
   "execution_count": 1098,
   "metadata": {},
   "outputs": [
    {
     "name": "stdout",
     "output_type": "stream",
     "text": [
      "        Country                           Region Continent  Happiness Score\n",
      "0   Switzerland                   Western Europe    Europe            7.587\n",
      "1       Iceland                   Western Europe    Europe            7.561\n",
      "2       Denmark                   Western Europe    Europe            7.527\n",
      "3        Norway                   Western Europe    Europe            7.522\n",
      "4        Canada                    North America   America            7.427\n",
      "5       Finland                   Western Europe    Europe            7.406\n",
      "6   Netherlands                   Western Europe    Europe            7.378\n",
      "7        Sweden                   Western Europe    Europe            7.364\n",
      "8   New Zealand        Australia and New Zealand   Zealand            7.286\n",
      "9     Australia        Australia and New Zealand   Zealand            7.284\n",
      "10       Israel  Middle East and Northern Africa    Africa            7.278\n",
      "(158, 11)\n"
     ]
    }
   ],
   "source": [
    "print(merge_happy_indic_45.loc[0:10,['Country', 'Region', 'Continent', 'Happiness Score']])\n",
    "print(merge_happy_indic_45.shape)"
   ]
  },
  {
   "cell_type": "markdown",
   "metadata": {},
   "source": [
    "Extracting years from IE Survey and enter these in a new column."
   ]
  },
  {
   "cell_type": "code",
   "execution_count": 1099,
   "metadata": {},
   "outputs": [],
   "source": [
    "merge_happy_indic_45[\"Year_published\"] = merge_happy_indic_45['IESurvey'].str.split(pat=',').str.get(-1)"
   ]
  },
  {
   "cell_type": "code",
   "execution_count": 1100,
   "metadata": {},
   "outputs": [
    {
     "data": {
      "text/html": [
       "<div>\n",
       "<style>\n",
       "    .dataframe thead tr:only-child th {\n",
       "        text-align: right;\n",
       "    }\n",
       "\n",
       "    .dataframe thead th {\n",
       "        text-align: left;\n",
       "    }\n",
       "\n",
       "    .dataframe tbody tr th {\n",
       "        vertical-align: top;\n",
       "    }\n",
       "</style>\n",
       "<table border=\"1\" class=\"dataframe\">\n",
       "  <thead>\n",
       "    <tr style=\"text-align: right;\">\n",
       "      <th></th>\n",
       "      <th>Country</th>\n",
       "      <th>Happiness Rank</th>\n",
       "      <th>Happiness Score</th>\n",
       "      <th>ShortName</th>\n",
       "      <th>Region</th>\n",
       "      <th>IncomeGroup</th>\n",
       "      <th>CurrencyUnit</th>\n",
       "      <th>IESurvey</th>\n",
       "      <th>SpecialNotes</th>\n",
       "      <th>Currency_Type</th>\n",
       "      <th>Continent</th>\n",
       "      <th>Year_published</th>\n",
       "    </tr>\n",
       "  </thead>\n",
       "  <tbody>\n",
       "    <tr>\n",
       "      <th>0</th>\n",
       "      <td>Switzerland</td>\n",
       "      <td>1</td>\n",
       "      <td>7.587</td>\n",
       "      <td>Switzerland</td>\n",
       "      <td>Western Europe</td>\n",
       "      <td>High income: OECD</td>\n",
       "      <td>Swiss franc</td>\n",
       "      <td>Expenditure survey/budget survey (ES/BS), 2004</td>\n",
       "      <td>NaN</td>\n",
       "      <td>franc</td>\n",
       "      <td>Europe</td>\n",
       "      <td>2004</td>\n",
       "    </tr>\n",
       "    <tr>\n",
       "      <th>1</th>\n",
       "      <td>Iceland</td>\n",
       "      <td>2</td>\n",
       "      <td>7.561</td>\n",
       "      <td>Iceland</td>\n",
       "      <td>Western Europe</td>\n",
       "      <td>High income: OECD</td>\n",
       "      <td>Iceland krona</td>\n",
       "      <td>Integrated household survey (IHS), 2010</td>\n",
       "      <td>NaN</td>\n",
       "      <td>krona</td>\n",
       "      <td>Europe</td>\n",
       "      <td>2010</td>\n",
       "    </tr>\n",
       "  </tbody>\n",
       "</table>\n",
       "</div>"
      ],
      "text/plain": [
       "       Country  Happiness Rank  Happiness Score    ShortName          Region  \\\n",
       "0  Switzerland               1            7.587  Switzerland  Western Europe   \n",
       "1      Iceland               2            7.561      Iceland  Western Europe   \n",
       "\n",
       "         IncomeGroup   CurrencyUnit  \\\n",
       "0  High income: OECD    Swiss franc   \n",
       "1  High income: OECD  Iceland krona   \n",
       "\n",
       "                                         IESurvey SpecialNotes Currency_Type  \\\n",
       "0  Expenditure survey/budget survey (ES/BS), 2004          NaN         franc   \n",
       "1         Integrated household survey (IHS), 2010          NaN         krona   \n",
       "\n",
       "  Continent Year_published  \n",
       "0    Europe           2004  \n",
       "1    Europe           2010  "
      ]
     },
     "execution_count": 1100,
     "metadata": {},
     "output_type": "execute_result"
    }
   ],
   "source": [
    "merge_happy_indic_45.head(2)\n"
   ]
  },
  {
   "cell_type": "markdown",
   "metadata": {},
   "source": [
    "Look for null values <br>\n",
    "Printing out the null values for every column running or [iterating in parallel](https://stackoverflow.com/questions/1663807/how-to-iterate-through-two-lists-in-parallel)  over two lists."
   ]
  },
  {
   "cell_type": "code",
   "execution_count": 1101,
   "metadata": {},
   "outputs": [
    {
     "name": "stdout",
     "output_type": "stream",
     "text": [
      "<class 'list'>\n",
      "[0, 1, 2, 3, 4, 5, 6, 7, 8, 9, 10, 11]\n",
      "<class 'list'>\n",
      "['Country', 'Happiness Rank', 'Happiness Score', 'ShortName', 'Region', 'IncomeGroup', 'CurrencyUnit', 'IESurvey', 'SpecialNotes', 'Currency_Type', 'Continent', 'Year_published']\n"
     ]
    }
   ],
   "source": [
    "number_columns = list(range(0,len(merge_happy_indic_45.columns)))\n",
    "print(type(number_columns ))\n",
    "print(number_columns)\n",
    "cols_12 = merge_happy_indic_45.columns.tolist()\n",
    "print(type(cols_12)) \n",
    "print(cols_12)\n",
    "null_values = {}"
   ]
  },
  {
   "cell_type": "code",
   "execution_count": 1102,
   "metadata": {},
   "outputs": [
    {
     "name": "stdout",
     "output_type": "stream",
     "text": [
      "{'Country': 0, 'Happiness Rank': 0, 'Happiness Score': 0, 'ShortName': 13, 'Region': 0, 'IncomeGroup': 13, 'CurrencyUnit': 13, 'IESurvey': 28, 'SpecialNotes': 65, 'Currency_Type': 0, 'Continent': 0, 'Year_published': 28}\n"
     ]
    }
   ],
   "source": [
    "for i, f in zip(number_columns, cols_12):\n",
    "        null_value = merge_happy_indic_45.iloc[:,i].isnull().sum()\n",
    "        null_values[f] = null_value\n",
    "        \n",
    "print(null_values)"
   ]
  },
  {
   "cell_type": "markdown",
   "metadata": {},
   "source": [
    "Calculate the length of the values of some variables excluding null values."
   ]
  },
  {
   "cell_type": "code",
   "execution_count": 1103,
   "metadata": {},
   "outputs": [],
   "source": [
    "def calculate_length(value):\n",
    "    if pd.isnull(value):\n",
    "        pass\n",
    "    else:\n",
    "        return len(str(value))"
   ]
  },
  {
   "cell_type": "code",
   "execution_count": 1104,
   "metadata": {},
   "outputs": [
    {
     "data": {
      "text/plain": [
       " 20.0     1\n",
       " 26.0     1\n",
       " 39.0     1\n",
       " 10.0     1\n",
       " 23.0     1\n",
       " 9.0      2\n",
       " 19.0     3\n",
       " 25.0     5\n",
       " 22.0     7\n",
       " 11.0     8\n",
       " 18.0     9\n",
       " 17.0     9\n",
       " 16.0    12\n",
       " 15.0    13\n",
       "NaN      13\n",
       " 13.0    14\n",
       " 12.0    17\n",
       " 4.0     20\n",
       " 14.0    21\n",
       "Name: CurrencyUnit, dtype: int64"
      ]
     },
     "execution_count": 1104,
     "metadata": {},
     "output_type": "execute_result"
    }
   ],
   "source": [
    "lengths_currencyunit= merge_happy_indic_45['CurrencyUnit'].apply(func=calculate_length)\n",
    "lengths_currencyunit.value_counts(dropna=False).sort_values()"
   ]
  },
  {
   "cell_type": "markdown",
   "metadata": {},
   "source": [
    "Of all strings 21 strings have a length of 14 and 12 a length of 16. There are 13 NaN values. The length\n",
    "of these were not counted."
   ]
  },
  {
   "cell_type": "code",
   "execution_count": 1105,
   "metadata": {},
   "outputs": [
    {
     "data": {
      "text/plain": [
       "25     2\n",
       "12     6\n",
       "17     9\n",
       "13     9\n",
       "31    20\n",
       "14    21\n",
       "27    22\n",
       "26    29\n",
       "18    40\n",
       "Name: Region, dtype: int64"
      ]
     },
     "execution_count": 1105,
     "metadata": {},
     "output_type": "execute_result"
    }
   ],
   "source": [
    "lengths_region= merge_happy_indic_45['Region'].apply(func=calculate_length)\n",
    "lengths_region.value_counts(dropna=False).sort_values()"
   ]
  },
  {
   "cell_type": "markdown",
   "metadata": {},
   "source": [
    "Create a data frame of the calculated length of the string values in selected columns."
   ]
  },
  {
   "cell_type": "code",
   "execution_count": 1106,
   "metadata": {},
   "outputs": [
    {
     "name": "stdout",
     "output_type": "stream",
     "text": [
      "   Country  Region  IncomeGroup  CurrencyUnit  IESurvey  SpecialNotes  \\\n",
      "0       11      14         17.0          11.0      46.0           NaN   \n",
      "1        7      14         17.0          13.0      39.0           NaN   \n",
      "\n",
      "   Currency_Type  \n",
      "0              5  \n",
      "1              5  \n"
     ]
    }
   ],
   "source": [
    "merge_str_cols = merge_happy_indic_45.iloc[:, [0,4,5,6,7,8,9]]\n",
    "number_columns_2 = list(range(0,len(merge_str_cols.columns)))\n",
    "cols_2342 = merge_str_cols.columns.tolist()\n",
    "cols_2342\n",
    "# merge_str_cols.tail(2)\n",
    "\n",
    "string_length_selected_variables = pd.DataFrame()\n",
    "\n",
    "for i,f in zip(number_columns_2, cols_2342):\n",
    "    lengths_all= merge_str_cols.iloc[:,i].apply(func=calculate_length)\n",
    "    string_length_selected_variables[f] = lengths_all\n",
    "\n",
    "print(string_length_selected_variables.head(2))\n",
    "\n"
   ]
  },
  {
   "cell_type": "code",
   "execution_count": 1107,
   "metadata": {},
   "outputs": [
    {
     "data": {
      "text/plain": [
       "25     2\n",
       "12     6\n",
       "17     9\n",
       "13     9\n",
       "31    20\n",
       "14    21\n",
       "27    22\n",
       "26    29\n",
       "18    40\n",
       "Name: Region, dtype: int64"
      ]
     },
     "execution_count": 1107,
     "metadata": {},
     "output_type": "execute_result"
    }
   ],
   "source": [
    "string_length_selected_variables['Region'].value_counts(dropna=False).sort_values()"
   ]
  },
  {
   "cell_type": "markdown",
   "metadata": {},
   "source": [
    "Searching for patterns."
   ]
  },
  {
   "cell_type": "code",
   "execution_count": 1108,
   "metadata": {},
   "outputs": [
    {
     "data": {
      "text/html": [
       "<div>\n",
       "<style>\n",
       "    .dataframe thead tr:only-child th {\n",
       "        text-align: right;\n",
       "    }\n",
       "\n",
       "    .dataframe thead th {\n",
       "        text-align: left;\n",
       "    }\n",
       "\n",
       "    .dataframe tbody tr th {\n",
       "        vertical-align: top;\n",
       "    }\n",
       "</style>\n",
       "<table border=\"1\" class=\"dataframe\">\n",
       "  <thead>\n",
       "    <tr style=\"text-align: right;\">\n",
       "      <th></th>\n",
       "      <th>Country</th>\n",
       "      <th>SpecialNotes</th>\n",
       "    </tr>\n",
       "  </thead>\n",
       "  <tbody>\n",
       "    <tr>\n",
       "      <th>4</th>\n",
       "      <td>Canada</td>\n",
       "      <td>Fiscal year end: March 31; reporting period fo...</td>\n",
       "    </tr>\n",
       "    <tr>\n",
       "      <th>7</th>\n",
       "      <td>Sweden</td>\n",
       "      <td>Fiscal year end: June 30; reporting period for...</td>\n",
       "    </tr>\n",
       "  </tbody>\n",
       "</table>\n",
       "</div>"
      ],
      "text/plain": [
       "  Country                                       SpecialNotes\n",
       "4  Canada  Fiscal year end: March 31; reporting period fo...\n",
       "7  Sweden  Fiscal year end: June 30; reporting period for..."
      ]
     },
     "execution_count": 1108,
     "metadata": {},
     "output_type": "execute_result"
    }
   ],
   "source": [
    "pattern_1 = r\"[Nn]ational accounts\"\n",
    "national_accounts = merge_happy_indic_45['SpecialNotes'].str.contains(pattern_1, na=False)\n",
    "# print(national_accounts.tail(3))\n",
    "# print(national_accounts.value_counts(dropna=False))\n",
    "# Subset the df merge with national_accounts as row index\n",
    "merge_national = merge_happy_indic_45[national_accounts]\n",
    "merge_national.loc[:, ['Country', 'SpecialNotes']].head(2)"
   ]
  },
  {
   "cell_type": "code",
   "execution_count": 1109,
   "metadata": {},
   "outputs": [
    {
     "name": "stdout",
     "output_type": "stream",
     "text": [
      "0    True\n",
      "1    True\n",
      "Name: Country, dtype: bool\n",
      "False    150\n",
      "True       8\n",
      "Name: Country, dtype: int64\n"
     ]
    }
   ],
   "source": [
    "pattern_2 = r\"land$\"\n",
    "land = merge_happy_indic_45['Country'].str.contains(pattern_2, na=False)\n",
    "print(land.head(2))\n",
    "print(land.value_counts(dropna=False))"
   ]
  },
  {
   "cell_type": "code",
   "execution_count": 1110,
   "metadata": {},
   "outputs": [
    {
     "data": {
      "text/html": [
       "<div>\n",
       "<style>\n",
       "    .dataframe thead tr:only-child th {\n",
       "        text-align: right;\n",
       "    }\n",
       "\n",
       "    .dataframe thead th {\n",
       "        text-align: left;\n",
       "    }\n",
       "\n",
       "    .dataframe tbody tr th {\n",
       "        vertical-align: top;\n",
       "    }\n",
       "</style>\n",
       "<table border=\"1\" class=\"dataframe\">\n",
       "  <thead>\n",
       "    <tr style=\"text-align: right;\">\n",
       "      <th></th>\n",
       "      <th>Country</th>\n",
       "    </tr>\n",
       "  </thead>\n",
       "  <tbody>\n",
       "    <tr>\n",
       "      <th>0</th>\n",
       "      <td>Switzerland</td>\n",
       "    </tr>\n",
       "    <tr>\n",
       "      <th>1</th>\n",
       "      <td>Iceland</td>\n",
       "    </tr>\n",
       "    <tr>\n",
       "      <th>5</th>\n",
       "      <td>Finland</td>\n",
       "    </tr>\n",
       "    <tr>\n",
       "      <th>8</th>\n",
       "      <td>New Zealand</td>\n",
       "    </tr>\n",
       "    <tr>\n",
       "      <th>17</th>\n",
       "      <td>Ireland</td>\n",
       "    </tr>\n",
       "  </tbody>\n",
       "</table>\n",
       "</div>"
      ],
      "text/plain": [
       "        Country\n",
       "0   Switzerland\n",
       "1       Iceland\n",
       "5       Finland\n",
       "8   New Zealand\n",
       "17      Ireland"
      ]
     },
     "execution_count": 1110,
     "metadata": {},
     "output_type": "execute_result"
    }
   ],
   "source": [
    "merge_land = merge_happy_indic_45[land]\n",
    "merge_land.loc[:, ['Country']].head(5)"
   ]
  },
  {
   "cell_type": "code",
   "execution_count": 1111,
   "metadata": {},
   "outputs": [
    {
     "name": "stdout",
     "output_type": "stream",
     "text": [
      "0    True\n",
      "1    True\n",
      "2    True\n",
      "Name: Region, dtype: bool\n",
      "False    108\n",
      "True      50\n",
      "Name: Region, dtype: int64\n"
     ]
    }
   ],
   "source": [
    "pattern_3 = r\"Europe$\"\n",
    "europe = merge_happy_indic_45['Region'].str.contains(pattern_3)\n",
    "print(europe.head(3))\n",
    "print(europe.value_counts(dropna=False))\n"
   ]
  },
  {
   "cell_type": "code",
   "execution_count": 1112,
   "metadata": {},
   "outputs": [
    {
     "data": {
      "text/html": [
       "<div>\n",
       "<style>\n",
       "    .dataframe thead tr:only-child th {\n",
       "        text-align: right;\n",
       "    }\n",
       "\n",
       "    .dataframe thead th {\n",
       "        text-align: left;\n",
       "    }\n",
       "\n",
       "    .dataframe tbody tr th {\n",
       "        vertical-align: top;\n",
       "    }\n",
       "</style>\n",
       "<table border=\"1\" class=\"dataframe\">\n",
       "  <thead>\n",
       "    <tr style=\"text-align: right;\">\n",
       "      <th></th>\n",
       "      <th>Country</th>\n",
       "      <th>Region</th>\n",
       "    </tr>\n",
       "  </thead>\n",
       "  <tbody>\n",
       "    <tr>\n",
       "      <th>0</th>\n",
       "      <td>Switzerland</td>\n",
       "      <td>Western Europe</td>\n",
       "    </tr>\n",
       "    <tr>\n",
       "      <th>1</th>\n",
       "      <td>Iceland</td>\n",
       "      <td>Western Europe</td>\n",
       "    </tr>\n",
       "    <tr>\n",
       "      <th>2</th>\n",
       "      <td>Denmark</td>\n",
       "      <td>Western Europe</td>\n",
       "    </tr>\n",
       "    <tr>\n",
       "      <th>3</th>\n",
       "      <td>Norway</td>\n",
       "      <td>Western Europe</td>\n",
       "    </tr>\n",
       "    <tr>\n",
       "      <th>5</th>\n",
       "      <td>Finland</td>\n",
       "      <td>Western Europe</td>\n",
       "    </tr>\n",
       "  </tbody>\n",
       "</table>\n",
       "</div>"
      ],
      "text/plain": [
       "       Country          Region\n",
       "0  Switzerland  Western Europe\n",
       "1      Iceland  Western Europe\n",
       "2      Denmark  Western Europe\n",
       "3       Norway  Western Europe\n",
       "5      Finland  Western Europe"
      ]
     },
     "execution_count": 1112,
     "metadata": {},
     "output_type": "execute_result"
    }
   ],
   "source": [
    "merge_europe = merge_happy_indic_45[europe]\n",
    "merge_europe.loc[:, ['Country','Region']].head(5)"
   ]
  },
  {
   "cell_type": "code",
   "execution_count": 1113,
   "metadata": {},
   "outputs": [
    {
     "data": {
      "text/html": [
       "<div>\n",
       "<style>\n",
       "    .dataframe thead tr:only-child th {\n",
       "        text-align: right;\n",
       "    }\n",
       "\n",
       "    .dataframe thead th {\n",
       "        text-align: left;\n",
       "    }\n",
       "\n",
       "    .dataframe tbody tr th {\n",
       "        vertical-align: top;\n",
       "    }\n",
       "</style>\n",
       "<table border=\"1\" class=\"dataframe\">\n",
       "  <thead>\n",
       "    <tr style=\"text-align: right;\">\n",
       "      <th></th>\n",
       "      <th>Years</th>\n",
       "    </tr>\n",
       "  </thead>\n",
       "  <tbody>\n",
       "    <tr>\n",
       "      <th>5</th>\n",
       "      <td>1999</td>\n",
       "    </tr>\n",
       "    <tr>\n",
       "      <th>6</th>\n",
       "      <td>1999</td>\n",
       "    </tr>\n",
       "    <tr>\n",
       "      <th>9</th>\n",
       "      <td>1990</td>\n",
       "    </tr>\n",
       "    <tr>\n",
       "      <th>10</th>\n",
       "      <td>2010</td>\n",
       "    </tr>\n",
       "    <tr>\n",
       "      <th>12</th>\n",
       "      <td>1999</td>\n",
       "    </tr>\n",
       "  </tbody>\n",
       "</table>\n",
       "</div>"
      ],
      "text/plain": [
       "   Years\n",
       "5   1999\n",
       "6   1999\n",
       "9   1990\n",
       "10  2010\n",
       "12  1999"
      ]
     },
     "execution_count": 1113,
     "metadata": {},
     "output_type": "execute_result"
    }
   ],
   "source": [
    "# Extract years from special notes\n",
    "#  named capturing group: ?P<Years> creates a column name year\n",
    "pattern_4 =r\"(?P<Years>[1-9][0-9][0-9][0-9])\"\n",
    "years = merge_happy_indic_45['SpecialNotes'].str.extract(pattern_4, expand=True)\n",
    "years.dropna().head()"
   ]
  },
  {
   "cell_type": "code",
   "execution_count": 1114,
   "metadata": {},
   "outputs": [
    {
     "data": {
      "text/plain": [
       "1992     1\n",
       "1995     1\n",
       "1998     1\n",
       "1999     1\n",
       "2000     1\n",
       "2002     1\n",
       "2003     1\n",
       "2004     3\n",
       "2005     6\n",
       "2006     1\n",
       "2007     4\n",
       "2008     6\n",
       "2009     8\n",
       "2010    28\n",
       "2011    22\n",
       "2012    33\n",
       "2013    12\n",
       "Name: Years, dtype: int64"
      ]
     },
     "execution_count": 1114,
     "metadata": {},
     "output_type": "execute_result"
    }
   ],
   "source": [
    "pattern_5 = r\"(?P<Years>[1-2][0-9]{3})\"\n",
    "years=merge_happy_indic_45['IESurvey'].str.extractall(pattern_5)\n",
    "value_counts=years['Years'].value_counts().sort_index()\n",
    "value_counts"
   ]
  },
  {
   "cell_type": "markdown",
   "metadata": {},
   "source": [
    "Searching for the pattern yyyy/yy (1995/97 or 2002/03 or Integrated household survey (IHS), 2012/13) in 'IESurvey'."
   ]
  },
  {
   "cell_type": "code",
   "execution_count": 1115,
   "metadata": {},
   "outputs": [
    {
     "data": {
      "text/plain": [
       "'Integrated household survey (IHS), 2010/11'"
      ]
     },
     "execution_count": 1115,
     "metadata": {},
     "output_type": "execute_result"
    }
   ],
   "source": [
    "merge_happy_indic_45.loc[130, 'IESurvey']"
   ]
  },
  {
   "cell_type": "code",
   "execution_count": 1116,
   "metadata": {},
   "outputs": [],
   "source": [
    "# This makes an optional group ?P<First_Year>\n",
    "# The parantheses () makes sure the group is recognized and extracted.\n",
    "pattern_6=r\"(?P<First_Year>[1-2][0-9]{3})/?(?P<Second_Year>[0-9]{2})?\""
   ]
  },
  {
   "cell_type": "code",
   "execution_count": 1117,
   "metadata": {
    "scrolled": true
   },
   "outputs": [
    {
     "data": {
      "text/html": [
       "<div>\n",
       "<style>\n",
       "    .dataframe thead tr:only-child th {\n",
       "        text-align: right;\n",
       "    }\n",
       "\n",
       "    .dataframe thead th {\n",
       "        text-align: left;\n",
       "    }\n",
       "\n",
       "    .dataframe tbody tr th {\n",
       "        vertical-align: top;\n",
       "    }\n",
       "</style>\n",
       "<table border=\"1\" class=\"dataframe\">\n",
       "  <thead>\n",
       "    <tr style=\"text-align: right;\">\n",
       "      <th></th>\n",
       "      <th></th>\n",
       "      <th>First_Year</th>\n",
       "      <th>Second_Year</th>\n",
       "    </tr>\n",
       "    <tr>\n",
       "      <th></th>\n",
       "      <th>match</th>\n",
       "      <th></th>\n",
       "      <th></th>\n",
       "    </tr>\n",
       "  </thead>\n",
       "  <tbody>\n",
       "    <tr>\n",
       "      <th>77</th>\n",
       "      <th>0</th>\n",
       "      <td>2009</td>\n",
       "      <td>10</td>\n",
       "    </tr>\n",
       "    <tr>\n",
       "      <th>79</th>\n",
       "      <th>0</th>\n",
       "      <td>2011</td>\n",
       "      <td>12</td>\n",
       "    </tr>\n",
       "    <tr>\n",
       "      <th>80</th>\n",
       "      <th>0</th>\n",
       "      <td>2010</td>\n",
       "      <td>11</td>\n",
       "    </tr>\n",
       "    <tr>\n",
       "      <th>93</th>\n",
       "      <th>0</th>\n",
       "      <td>2008</td>\n",
       "      <td>09</td>\n",
       "    </tr>\n",
       "    <tr>\n",
       "      <th>94</th>\n",
       "      <th>0</th>\n",
       "      <td>2011</td>\n",
       "      <td>12</td>\n",
       "    </tr>\n",
       "  </tbody>\n",
       "</table>\n",
       "</div>"
      ],
      "text/plain": [
       "         First_Year Second_Year\n",
       "   match                       \n",
       "77 0           2009          10\n",
       "79 0           2011          12\n",
       "80 0           2010          11\n",
       "93 0           2008          09\n",
       "94 0           2011          12"
      ]
     },
     "execution_count": 1117,
     "metadata": {},
     "output_type": "execute_result"
    }
   ],
   "source": [
    "years_34534 = merge_happy_indic_45['IESurvey'].str.extractall(pattern_6)\n",
    "\n",
    "years_34534[years_34534['Second_Year'].notnull()].head()"
   ]
  },
  {
   "cell_type": "markdown",
   "metadata": {},
   "source": [
    "The second year is missing the 1000 years and centuries decimals. This is complemented now <br>\n",
    "by taking the first two digits from first year and place these as the first two digits in <br>\n",
    "second year."
   ]
  },
  {
   "cell_type": "code",
   "execution_count": 1118,
   "metadata": {},
   "outputs": [
    {
     "data": {
      "text/plain": [
       "   match\n",
       "0  0        20\n",
       "1  0        20\n",
       "2  0        20\n",
       "3  0        20\n",
       "4  0        20\n",
       "Name: First_Year, dtype: object"
      ]
     },
     "execution_count": 1118,
     "metadata": {},
     "output_type": "execute_result"
    }
   ],
   "source": [
    "first_two_years = years_34534['First_Year'].str[0:2]\n",
    "first_two_years.head() "
   ]
  },
  {
   "cell_type": "code",
   "execution_count": 1119,
   "metadata": {},
   "outputs": [
    {
     "data": {
      "text/html": [
       "<div>\n",
       "<style>\n",
       "    .dataframe thead tr:only-child th {\n",
       "        text-align: right;\n",
       "    }\n",
       "\n",
       "    .dataframe thead th {\n",
       "        text-align: left;\n",
       "    }\n",
       "\n",
       "    .dataframe tbody tr th {\n",
       "        vertical-align: top;\n",
       "    }\n",
       "</style>\n",
       "<table border=\"1\" class=\"dataframe\">\n",
       "  <thead>\n",
       "    <tr style=\"text-align: right;\">\n",
       "      <th></th>\n",
       "      <th></th>\n",
       "      <th>First_Year</th>\n",
       "      <th>Second_Year</th>\n",
       "    </tr>\n",
       "    <tr>\n",
       "      <th></th>\n",
       "      <th>match</th>\n",
       "      <th></th>\n",
       "      <th></th>\n",
       "    </tr>\n",
       "  </thead>\n",
       "  <tbody>\n",
       "    <tr>\n",
       "      <th>77</th>\n",
       "      <th>0</th>\n",
       "      <td>2009</td>\n",
       "      <td>2010</td>\n",
       "    </tr>\n",
       "    <tr>\n",
       "      <th>79</th>\n",
       "      <th>0</th>\n",
       "      <td>2011</td>\n",
       "      <td>2012</td>\n",
       "    </tr>\n",
       "    <tr>\n",
       "      <th>80</th>\n",
       "      <th>0</th>\n",
       "      <td>2010</td>\n",
       "      <td>2011</td>\n",
       "    </tr>\n",
       "    <tr>\n",
       "      <th>93</th>\n",
       "      <th>0</th>\n",
       "      <td>2008</td>\n",
       "      <td>2009</td>\n",
       "    </tr>\n",
       "    <tr>\n",
       "      <th>94</th>\n",
       "      <th>0</th>\n",
       "      <td>2011</td>\n",
       "      <td>2012</td>\n",
       "    </tr>\n",
       "  </tbody>\n",
       "</table>\n",
       "</div>"
      ],
      "text/plain": [
       "         First_Year Second_Year\n",
       "   match                       \n",
       "77 0           2009        2010\n",
       "79 0           2011        2012\n",
       "80 0           2010        2011\n",
       "93 0           2008        2009\n",
       "94 0           2011        2012"
      ]
     },
     "execution_count": 1119,
     "metadata": {},
     "output_type": "execute_result"
    }
   ],
   "source": [
    "years_34534['Second_Year'] = first_two_years.str.cat(years_34534['Second_Year'])\n",
    "years_34534[years_34534['Second_Year'].notnull()].head()"
   ]
  },
  {
   "cell_type": "markdown",
   "metadata": {},
   "source": [
    "Cleaning IncomeGroup."
   ]
  },
  {
   "cell_type": "code",
   "execution_count": 1120,
   "metadata": {},
   "outputs": [
    {
     "data": {
      "text/plain": [
       "0    High income: OECD\n",
       "1    High income: OECD\n",
       "2    High income: OECD\n",
       "3    High income: OECD\n",
       "4    High income: OECD\n",
       "Name: IncomeGroup, dtype: object"
      ]
     },
     "execution_count": 1120,
     "metadata": {},
     "output_type": "execute_result"
    }
   ],
   "source": [
    "merge_happy_indic_45['IncomeGroup'].head()"
   ]
  },
  {
   "cell_type": "code",
   "execution_count": 1121,
   "metadata": {},
   "outputs": [
    {
     "data": {
      "text/plain": [
       "array(['High income: OECD', 'Upper middle income', 'High income: nonOECD',\n",
       "       nan, 'Lower middle income', 'Low income'], dtype=object)"
      ]
     },
     "execution_count": 1121,
     "metadata": {},
     "output_type": "execute_result"
    }
   ],
   "source": [
    "merge_happy_indic_6777 = merge_happy_indic_45.copy()\n",
    "merge_happy_indic_6777['IncomeGroup'].unique()"
   ]
  },
  {
   "cell_type": "code",
   "execution_count": 1122,
   "metadata": {},
   "outputs": [],
   "source": [
    "merge_happy_indic_6777['IncomeGroup'] = merge_happy_indic_6777['IncomeGroup'].str.replace(':', '').str.replace('income', '').str.strip()"
   ]
  },
  {
   "cell_type": "code",
   "execution_count": 1123,
   "metadata": {},
   "outputs": [],
   "source": [
    "merge_happy_indic_6777['IncomeGroup'] = merge_happy_indic_6777['IncomeGroup'].str.upper()"
   ]
  },
  {
   "cell_type": "code",
   "execution_count": 1124,
   "metadata": {},
   "outputs": [
    {
     "name": "stdout",
     "output_type": "stream",
     "text": [
      "['HIGH  OECD' 'UPPER MIDDLE' 'HIGH  NONOECD' nan 'LOWER MIDDLE' 'LOW']\n",
      "Index(['Country', 'Happiness Rank', 'Happiness Score', 'ShortName', 'Region',\n",
      "       'IncomeGroup', 'CurrencyUnit', 'IESurvey', 'SpecialNotes',\n",
      "       'Currency_Type', 'Continent', 'Year_published'],\n",
      "      dtype='object')\n"
     ]
    }
   ],
   "source": [
    "print(merge_happy_indic_6777['IncomeGroup'].unique())\n",
    "print(merge_happy_indic_6777.columns)"
   ]
  },
  {
   "cell_type": "code",
   "execution_count": 1125,
   "metadata": {},
   "outputs": [
    {
     "data": {
      "text/html": [
       "<div>\n",
       "<style>\n",
       "    .dataframe thead tr:only-child th {\n",
       "        text-align: right;\n",
       "    }\n",
       "\n",
       "    .dataframe thead th {\n",
       "        text-align: left;\n",
       "    }\n",
       "\n",
       "    .dataframe tbody tr th {\n",
       "        vertical-align: top;\n",
       "    }\n",
       "</style>\n",
       "<table border=\"1\" class=\"dataframe\">\n",
       "  <thead>\n",
       "    <tr style=\"text-align: right;\">\n",
       "      <th></th>\n",
       "      <th>Happiness Score</th>\n",
       "    </tr>\n",
       "    <tr>\n",
       "      <th>IncomeGroup</th>\n",
       "      <th></th>\n",
       "    </tr>\n",
       "  </thead>\n",
       "  <tbody>\n",
       "    <tr>\n",
       "      <th>HIGH  OECD</th>\n",
       "      <td>6.57</td>\n",
       "    </tr>\n",
       "    <tr>\n",
       "      <th>HIGH  NONOECD</th>\n",
       "      <td>5.95</td>\n",
       "    </tr>\n",
       "    <tr>\n",
       "      <th>UPPER MIDDLE</th>\n",
       "      <td>5.30</td>\n",
       "    </tr>\n",
       "    <tr>\n",
       "      <th>LOWER MIDDLE</th>\n",
       "      <td>4.92</td>\n",
       "    </tr>\n",
       "    <tr>\n",
       "      <th>LOW</th>\n",
       "      <td>4.11</td>\n",
       "    </tr>\n",
       "  </tbody>\n",
       "</table>\n",
       "</div>"
      ],
      "text/plain": [
       "               Happiness Score\n",
       "IncomeGroup                   \n",
       "HIGH  OECD                6.57\n",
       "HIGH  NONOECD             5.95\n",
       "UPPER MIDDLE              5.30\n",
       "LOWER MIDDLE              4.92\n",
       "LOW                       4.11"
      ]
     },
     "execution_count": 1125,
     "metadata": {},
     "output_type": "execute_result"
    }
   ],
   "source": [
    "pv_incomes = merge_happy_indic_6777.dropna().pivot_table(values='Happiness Score', \n",
    "                                                         index='IncomeGroup').round(2).sort_values('Happiness Score'\n",
    "                                                                                                   , ascending=False)\n",
    "pv_incomes"
   ]
  },
  {
   "cell_type": "code",
   "execution_count": 1126,
   "metadata": {},
   "outputs": [
    {
     "data": {
      "image/png": "[encoded data removed]",
      "text/plain": [
       "<Figure size 720x216 with 1 Axes>"
      ]
     },
     "metadata": {},
     "output_type": "display_data"
    }
   ],
   "source": [
    "pv_incomes.plot(kind='bar', title=\"Average Happiness Score by income group\", color=['black', \"red\"], rot=30,\\\n",
    "                figsize=(10,3), legend=False)\n",
    "plt.show()"
   ]
  },
  {
   "cell_type": "markdown",
   "metadata": {},
   "source": [
    "High OECD income countries have on average the highest Happiness Scores. \n",
    "In accordance with intuition low income countries have the lowest Happiness Scores on average."
   ]
  },
  {
   "cell_type": "markdown",
   "metadata": {},
   "source": [
    "Median of Happiness Score by Region."
   ]
  },
  {
   "cell_type": "code",
   "execution_count": 1127,
   "metadata": {},
   "outputs": [
    {
     "name": "stdout",
     "output_type": "stream",
     "text": [
      "['western_europe' 'north_america' 'australia_and_new_zealand'\n",
      " 'middle_east_and_northern_africa' 'latin_america_and_caribbean'\n",
      " 'southeastern_asia' 'central_and_eastern_europe' 'eastern_asia'\n",
      " 'sub-saharan_africa' 'southern_asia']\n"
     ]
    }
   ],
   "source": [
    "merge_happy_indic_6777['Region'] = merge_happy_indic_6777['Region']\\\n",
    "                                   .str.replace(':', '').str.replace(' ', '_').str.strip().str.lower()\n",
    "print(merge_happy_indic_6777['Region'].unique())"
   ]
  },
  {
   "cell_type": "code",
   "execution_count": 1128,
   "metadata": {},
   "outputs": [
    {
     "data": {
      "text/html": [
       "<div>\n",
       "<style>\n",
       "    .dataframe thead tr:only-child th {\n",
       "        text-align: right;\n",
       "    }\n",
       "\n",
       "    .dataframe thead th {\n",
       "        text-align: left;\n",
       "    }\n",
       "\n",
       "    .dataframe tbody tr th {\n",
       "        vertical-align: top;\n",
       "    }\n",
       "</style>\n",
       "<table border=\"1\" class=\"dataframe\">\n",
       "  <thead>\n",
       "    <tr style=\"text-align: right;\">\n",
       "      <th></th>\n",
       "      <th>Happiness Score</th>\n",
       "    </tr>\n",
       "    <tr>\n",
       "      <th>Region</th>\n",
       "      <th></th>\n",
       "    </tr>\n",
       "  </thead>\n",
       "  <tbody>\n",
       "    <tr>\n",
       "      <th>middle_east_and_northern_africa</th>\n",
       "      <td>4.44</td>\n",
       "    </tr>\n",
       "    <tr>\n",
       "      <th>sub-saharan_africa</th>\n",
       "      <td>4.47</td>\n",
       "    </tr>\n",
       "    <tr>\n",
       "      <th>southern_asia</th>\n",
       "      <td>4.63</td>\n",
       "    </tr>\n",
       "    <tr>\n",
       "      <th>eastern_asia</th>\n",
       "      <td>5.14</td>\n",
       "    </tr>\n",
       "    <tr>\n",
       "      <th>central_and_eastern_europe</th>\n",
       "      <td>5.21</td>\n",
       "    </tr>\n",
       "    <tr>\n",
       "      <th>southeastern_asia</th>\n",
       "      <td>5.38</td>\n",
       "    </tr>\n",
       "    <tr>\n",
       "      <th>latin_america_and_caribbean</th>\n",
       "      <td>5.93</td>\n",
       "    </tr>\n",
       "    <tr>\n",
       "      <th>western_europe</th>\n",
       "      <td>6.94</td>\n",
       "    </tr>\n",
       "    <tr>\n",
       "      <th>north_america</th>\n",
       "      <td>7.27</td>\n",
       "    </tr>\n",
       "    <tr>\n",
       "      <th>australia_and_new_zealand</th>\n",
       "      <td>7.28</td>\n",
       "    </tr>\n",
       "  </tbody>\n",
       "</table>\n",
       "</div>"
      ],
      "text/plain": [
       "                                 Happiness Score\n",
       "Region                                          \n",
       "middle_east_and_northern_africa             4.44\n",
       "sub-saharan_africa                          4.47\n",
       "southern_asia                               4.63\n",
       "eastern_asia                                5.14\n",
       "central_and_eastern_europe                  5.21\n",
       "southeastern_asia                           5.38\n",
       "latin_america_and_caribbean                 5.93\n",
       "western_europe                              6.94\n",
       "north_america                               7.27\n",
       "australia_and_new_zealand                   7.28"
      ]
     },
     "execution_count": 1128,
     "metadata": {},
     "output_type": "execute_result"
    }
   ],
   "source": [
    "pv_country_23 = merge_happy_indic_6777.dropna()\\\n",
    "                .pivot_table(values=\"Happiness Score\", index =\"Region\", aggfunc=np.median)\\\n",
    "                .round(2).sort_values('Happiness Score')\n",
    "pv_country_23"
   ]
  },
  {
   "cell_type": "code",
   "execution_count": 1129,
   "metadata": {},
   "outputs": [
    {
     "data": {
      "image/png": "[encoded data removed]",
      "text/plain": [
       "<Figure size 936x432 with 1 Axes>"
      ]
     },
     "metadata": {},
     "output_type": "display_data"
    }
   ],
   "source": [
    "\n",
    "pv_country_23.plot(kind=\"bar\", title=\"Median of Happiness Score by Region\", \\\n",
    "                   rot=60, ylim=(0,9), figsize=(13,6), color=['green', \"lightblue\"], legend=False)\n",
    "plt.show()"
   ]
  },
  {
   "cell_type": "markdown",
   "metadata": {},
   "source": [
    "Australia is the Region with the highest median Happiness Score. The middle east has the lowest median Happiness Score."
   ]
  },
  {
   "cell_type": "markdown",
   "metadata": {},
   "source": [
    "### Data cleaning"
   ]
  },
  {
   "cell_type": "code",
   "execution_count": 1130,
   "metadata": {},
   "outputs": [
    {
     "name": "stdout",
     "output_type": "stream",
     "text": [
      "Index(['Country', 'Region', 'Happiness Rank', 'Happiness Score',\n",
      "       'Standard Error', 'Economy', 'Family', 'Health', 'Freedom', 'Trust',\n",
      "       'Generosity', 'Dystopia Residual', 'year'],\n",
      "      dtype='object')\n",
      "Index(['Country', 'Region', 'Happiness Rank', 'Happiness Score',\n",
      "       'Lower Confidence Interval', 'Upper Confidence Interval', 'Economy',\n",
      "       'Family', 'Health', 'Freedom', 'Trust', 'Generosity',\n",
      "       'Dystopia Residual', 'year'],\n",
      "      dtype='object')\n",
      "Index(['Country', 'Happiness Rank', 'Happiness Score', 'Whisker.high',\n",
      "       'Whisker.low', 'Economy', 'Family', 'Health', 'Freedom', 'Generosity',\n",
      "       'Trust', 'Dystopia Residual', 'year'],\n",
      "      dtype='object')\n"
     ]
    }
   ],
   "source": [
    "happiness2015_234 = pd.read_csv('world-happiness-report\\\\2015.csv')\n",
    "happiness2016_234 = pd.read_csv('world-happiness-report\\\\2016.csv')\n",
    "happiness2017_234 = pd.read_csv('world-happiness-report\\\\2017.csv')\n",
    "\n",
    "happiness2015_234['year']=int(2015)\n",
    "happiness2016_234['year']=int(2016)\n",
    "happiness2017_234['year']=int(2017)\n",
    "\n",
    "mapping = {'Economy (GDP per Capita)': 'Economy', 'Health (Life Expectancy)': 'Health', \n",
    "           'Trust (Government Corruption)': 'Trust', 'Health..Life.Expectancy.':'Health',\n",
    "          'Trust..Government.Corruption.': 'Trust', 'Dystopia.Residual':'Dystopia Residual',\n",
    "          'Economy..GDP.per.Capita.':'Economy', 'Happiness.Score':'Happiness Score',\n",
    "          'Happiness.Rank':'Happiness Rank'}\n",
    "\n",
    "happiness2015_234 = happiness2015_234.rename(columns=mapping)\n",
    "happiness2016_234 = happiness2016_234.rename(columns=mapping)\n",
    "happiness2017_234 = happiness2017_234.rename(columns=mapping)\n",
    "\n",
    "\n",
    "print(happiness2015_234.columns)\n",
    "print(happiness2016_234.columns)\n",
    "print(happiness2017_234.columns)"
   ]
  },
  {
   "cell_type": "markdown",
   "metadata": {},
   "source": [
    "Region is missing 2017 as a variable."
   ]
  },
  {
   "cell_type": "code",
   "execution_count": 1131,
   "metadata": {},
   "outputs": [
    {
     "data": {
      "text/html": [
       "<div>\n",
       "<style>\n",
       "    .dataframe thead tr:only-child th {\n",
       "        text-align: right;\n",
       "    }\n",
       "\n",
       "    .dataframe thead th {\n",
       "        text-align: left;\n",
       "    }\n",
       "\n",
       "    .dataframe tbody tr th {\n",
       "        vertical-align: top;\n",
       "    }\n",
       "</style>\n",
       "<table border=\"1\" class=\"dataframe\">\n",
       "  <thead>\n",
       "    <tr style=\"text-align: right;\">\n",
       "      <th></th>\n",
       "      <th>year</th>\n",
       "      <th>year</th>\n",
       "      <th>year</th>\n",
       "    </tr>\n",
       "  </thead>\n",
       "  <tbody>\n",
       "    <tr>\n",
       "      <th>0</th>\n",
       "      <td>2015</td>\n",
       "      <td>2016.0</td>\n",
       "      <td>2017.0</td>\n",
       "    </tr>\n",
       "    <tr>\n",
       "      <th>1</th>\n",
       "      <td>2015</td>\n",
       "      <td>2016.0</td>\n",
       "      <td>2017.0</td>\n",
       "    </tr>\n",
       "    <tr>\n",
       "      <th>2</th>\n",
       "      <td>2015</td>\n",
       "      <td>2016.0</td>\n",
       "      <td>2017.0</td>\n",
       "    </tr>\n",
       "    <tr>\n",
       "      <th>3</th>\n",
       "      <td>2015</td>\n",
       "      <td>2016.0</td>\n",
       "      <td>2017.0</td>\n",
       "    </tr>\n",
       "    <tr>\n",
       "      <th>4</th>\n",
       "      <td>2015</td>\n",
       "      <td>2016.0</td>\n",
       "      <td>2017.0</td>\n",
       "    </tr>\n",
       "  </tbody>\n",
       "</table>\n",
       "</div>"
      ],
      "text/plain": [
       "   year    year    year\n",
       "0  2015  2016.0  2017.0\n",
       "1  2015  2016.0  2017.0\n",
       "2  2015  2016.0  2017.0\n",
       "3  2015  2016.0  2017.0\n",
       "4  2015  2016.0  2017.0"
      ]
     },
     "execution_count": 1131,
     "metadata": {},
     "output_type": "execute_result"
    }
   ],
   "source": [
    "pd.concat([happiness2015_234['year'], happiness2016_234['year'], happiness2017_234['year']], axis=1).head()"
   ]
  },
  {
   "cell_type": "code",
   "execution_count": 1132,
   "metadata": {},
   "outputs": [
    {
     "name": "stdout",
     "output_type": "stream",
     "text": [
      "int64\n",
      "int64\n",
      "int64\n"
     ]
    }
   ],
   "source": [
    "print(happiness2015_234['year'].dtype)\n",
    "print(happiness2016_234['year'].dtype)\n",
    "print(happiness2017_234['year'].dtype)"
   ]
  },
  {
   "cell_type": "code",
   "execution_count": 1133,
   "metadata": {},
   "outputs": [
    {
     "name": "stdout",
     "output_type": "stream",
     "text": [
      "(158, 13)\n",
      "(157, 14)\n",
      "(155, 13)\n"
     ]
    }
   ],
   "source": [
    "shape_2015 = happiness2015_234.shape\n",
    "shape_2016 = happiness2016.shape\n",
    "shape_2017 = happiness2017.shape\n",
    "print(shape_2015)\n",
    "print(shape_2016)\n",
    "print(shape_2017)"
   ]
  },
  {
   "cell_type": "code",
   "execution_count": 1134,
   "metadata": {},
   "outputs": [
    {
     "data": {
      "text/html": [
       "<div>\n",
       "<style>\n",
       "    .dataframe thead tr:only-child th {\n",
       "        text-align: right;\n",
       "    }\n",
       "\n",
       "    .dataframe thead th {\n",
       "        text-align: left;\n",
       "    }\n",
       "\n",
       "    .dataframe tbody tr th {\n",
       "        vertical-align: top;\n",
       "    }\n",
       "</style>\n",
       "<table border=\"1\" class=\"dataframe\">\n",
       "  <thead>\n",
       "    <tr style=\"text-align: right;\">\n",
       "      <th></th>\n",
       "      <th>Country_15</th>\n",
       "      <th>Country_16</th>\n",
       "      <th>Country_17</th>\n",
       "    </tr>\n",
       "  </thead>\n",
       "  <tbody>\n",
       "    <tr>\n",
       "      <th>8</th>\n",
       "      <td>Azerbaijan</td>\n",
       "      <td>Azerbaijan</td>\n",
       "      <td>Azerbaijan</td>\n",
       "    </tr>\n",
       "    <tr>\n",
       "      <th>9</th>\n",
       "      <td>Bahrain</td>\n",
       "      <td>Bahrain</td>\n",
       "      <td>Bahrain</td>\n",
       "    </tr>\n",
       "    <tr>\n",
       "      <th>10</th>\n",
       "      <td>Bangladesh</td>\n",
       "      <td>Bangladesh</td>\n",
       "      <td>Bangladesh</td>\n",
       "    </tr>\n",
       "    <tr>\n",
       "      <th>11</th>\n",
       "      <td>Belarus</td>\n",
       "      <td>Belarus</td>\n",
       "      <td>Belarus</td>\n",
       "    </tr>\n",
       "    <tr>\n",
       "      <th>12</th>\n",
       "      <td>Belgium</td>\n",
       "      <td>Belgium</td>\n",
       "      <td>Belgium</td>\n",
       "    </tr>\n",
       "    <tr>\n",
       "      <th>13</th>\n",
       "      <td>Benin</td>\n",
       "      <td>Belize</td>\n",
       "      <td>Belize</td>\n",
       "    </tr>\n",
       "  </tbody>\n",
       "</table>\n",
       "</div>"
      ],
      "text/plain": [
       "    Country_15  Country_16  Country_17\n",
       "8   Azerbaijan  Azerbaijan  Azerbaijan\n",
       "9      Bahrain     Bahrain     Bahrain\n",
       "10  Bangladesh  Bangladesh  Bangladesh\n",
       "11     Belarus     Belarus     Belarus\n",
       "12     Belgium     Belgium     Belgium\n",
       "13       Benin      Belize      Belize"
      ]
     },
     "execution_count": 1134,
     "metadata": {},
     "output_type": "execute_result"
    }
   ],
   "source": [
    "country_15_23 = happiness2015_234['Country'].copy().sort_values()\n",
    "country_16_23 = happiness2016_234['Country'].copy().sort_values()\n",
    "country_17_23 = happiness2016_234['Country'].copy().sort_values()\n",
    "\n",
    "country_15_23 = country_15_23.reset_index(drop=True)\n",
    "country_16_23 = country_16_23.reset_index(drop=True)\n",
    "country_17_23 = country_17_23.reset_index(drop=True)\n",
    "\n",
    "country_23 = pd.concat([country_15_23, country_16_23, country_17_23\n",
    "                       ], axis=1, keys=[\"Country_15\", \"Country_16\", \"Country_17\"])\n",
    "\n",
    "country_23.iloc[8:14,:]\n"
   ]
  },
  {
   "cell_type": "markdown",
   "metadata": {},
   "source": [
    "Benin is in 16 and 15, but Belize is only in 16. Use concat or merge?"
   ]
  },
  {
   "cell_type": "code",
   "execution_count": 1135,
   "metadata": {},
   "outputs": [],
   "source": [
    "unified_df_12 = pd.concat([happiness2015_234, happiness2016_234, happiness2017_234], axis=0, ignore_index=True)"
   ]
  },
  {
   "cell_type": "code",
   "execution_count": 1136,
   "metadata": {},
   "outputs": [
    {
     "data": {
      "text/html": [
       "<div>\n",
       "<style>\n",
       "    .dataframe thead tr:only-child th {\n",
       "        text-align: right;\n",
       "    }\n",
       "\n",
       "    .dataframe thead th {\n",
       "        text-align: left;\n",
       "    }\n",
       "\n",
       "    .dataframe tbody tr th {\n",
       "        vertical-align: top;\n",
       "    }\n",
       "</style>\n",
       "<table border=\"1\" class=\"dataframe\">\n",
       "  <thead>\n",
       "    <tr style=\"text-align: right;\">\n",
       "      <th></th>\n",
       "      <th>Country</th>\n",
       "      <th>Dystopia Residual</th>\n",
       "      <th>Economy</th>\n",
       "      <th>Family</th>\n",
       "      <th>Freedom</th>\n",
       "      <th>Generosity</th>\n",
       "      <th>Happiness Rank</th>\n",
       "      <th>Happiness Score</th>\n",
       "      <th>Health</th>\n",
       "      <th>Lower Confidence Interval</th>\n",
       "      <th>Region</th>\n",
       "      <th>Standard Error</th>\n",
       "      <th>Trust</th>\n",
       "      <th>Upper Confidence Interval</th>\n",
       "      <th>Whisker.high</th>\n",
       "      <th>Whisker.low</th>\n",
       "      <th>year</th>\n",
       "    </tr>\n",
       "  </thead>\n",
       "  <tbody>\n",
       "    <tr>\n",
       "      <th>0</th>\n",
       "      <td>Switzerland</td>\n",
       "      <td>2.51738</td>\n",
       "      <td>1.39651</td>\n",
       "      <td>1.34951</td>\n",
       "      <td>0.66557</td>\n",
       "      <td>0.29678</td>\n",
       "      <td>1</td>\n",
       "      <td>7.587</td>\n",
       "      <td>0.94143</td>\n",
       "      <td>NaN</td>\n",
       "      <td>Western Europe</td>\n",
       "      <td>0.03411</td>\n",
       "      <td>0.41978</td>\n",
       "      <td>NaN</td>\n",
       "      <td>NaN</td>\n",
       "      <td>NaN</td>\n",
       "      <td>2015</td>\n",
       "    </tr>\n",
       "    <tr>\n",
       "      <th>1</th>\n",
       "      <td>Iceland</td>\n",
       "      <td>2.70201</td>\n",
       "      <td>1.30232</td>\n",
       "      <td>1.40223</td>\n",
       "      <td>0.62877</td>\n",
       "      <td>0.43630</td>\n",
       "      <td>2</td>\n",
       "      <td>7.561</td>\n",
       "      <td>0.94784</td>\n",
       "      <td>NaN</td>\n",
       "      <td>Western Europe</td>\n",
       "      <td>0.04884</td>\n",
       "      <td>0.14145</td>\n",
       "      <td>NaN</td>\n",
       "      <td>NaN</td>\n",
       "      <td>NaN</td>\n",
       "      <td>2015</td>\n",
       "    </tr>\n",
       "  </tbody>\n",
       "</table>\n",
       "</div>"
      ],
      "text/plain": [
       "       Country  Dystopia Residual  Economy   Family  Freedom  Generosity  \\\n",
       "0  Switzerland            2.51738  1.39651  1.34951  0.66557     0.29678   \n",
       "1      Iceland            2.70201  1.30232  1.40223  0.62877     0.43630   \n",
       "\n",
       "   Happiness Rank  Happiness Score   Health  Lower Confidence Interval  \\\n",
       "0               1            7.587  0.94143                        NaN   \n",
       "1               2            7.561  0.94784                        NaN   \n",
       "\n",
       "           Region  Standard Error    Trust  Upper Confidence Interval  \\\n",
       "0  Western Europe         0.03411  0.41978                        NaN   \n",
       "1  Western Europe         0.04884  0.14145                        NaN   \n",
       "\n",
       "   Whisker.high  Whisker.low  year  \n",
       "0           NaN          NaN  2015  \n",
       "1           NaN          NaN  2015  "
      ]
     },
     "execution_count": 1136,
     "metadata": {},
     "output_type": "execute_result"
    }
   ],
   "source": [
    "unified_df_12.head(2)"
   ]
  },
  {
   "cell_type": "code",
   "execution_count": 1137,
   "metadata": {},
   "outputs": [
    {
     "data": {
      "text/html": [
       "<div>\n",
       "<style>\n",
       "    .dataframe thead tr:only-child th {\n",
       "        text-align: right;\n",
       "    }\n",
       "\n",
       "    .dataframe thead th {\n",
       "        text-align: left;\n",
       "    }\n",
       "\n",
       "    .dataframe tbody tr th {\n",
       "        vertical-align: top;\n",
       "    }\n",
       "</style>\n",
       "<table border=\"1\" class=\"dataframe\">\n",
       "  <thead>\n",
       "    <tr style=\"text-align: right;\">\n",
       "      <th></th>\n",
       "      <th>Country</th>\n",
       "      <th>Dystopia Residual</th>\n",
       "      <th>Economy</th>\n",
       "      <th>Family</th>\n",
       "      <th>Freedom</th>\n",
       "      <th>Generosity</th>\n",
       "      <th>Happiness Rank</th>\n",
       "      <th>Happiness Score</th>\n",
       "      <th>Health</th>\n",
       "      <th>Lower Confidence Interval</th>\n",
       "      <th>Region</th>\n",
       "      <th>Standard Error</th>\n",
       "      <th>Trust</th>\n",
       "      <th>Upper Confidence Interval</th>\n",
       "      <th>Whisker.high</th>\n",
       "      <th>Whisker.low</th>\n",
       "      <th>year</th>\n",
       "    </tr>\n",
       "  </thead>\n",
       "  <tbody>\n",
       "    <tr>\n",
       "      <th>468</th>\n",
       "      <td>Burundi</td>\n",
       "      <td>1.683024</td>\n",
       "      <td>0.091623</td>\n",
       "      <td>0.629794</td>\n",
       "      <td>0.059901</td>\n",
       "      <td>0.204435</td>\n",
       "      <td>154</td>\n",
       "      <td>2.905</td>\n",
       "      <td>0.151611</td>\n",
       "      <td>NaN</td>\n",
       "      <td>NaN</td>\n",
       "      <td>NaN</td>\n",
       "      <td>0.084148</td>\n",
       "      <td>NaN</td>\n",
       "      <td>3.074690</td>\n",
       "      <td>2.735310</td>\n",
       "      <td>2017</td>\n",
       "    </tr>\n",
       "    <tr>\n",
       "      <th>469</th>\n",
       "      <td>Central African Republic</td>\n",
       "      <td>2.066005</td>\n",
       "      <td>0.000000</td>\n",
       "      <td>0.000000</td>\n",
       "      <td>0.270842</td>\n",
       "      <td>0.280876</td>\n",
       "      <td>155</td>\n",
       "      <td>2.693</td>\n",
       "      <td>0.018773</td>\n",
       "      <td>NaN</td>\n",
       "      <td>NaN</td>\n",
       "      <td>NaN</td>\n",
       "      <td>0.056565</td>\n",
       "      <td>NaN</td>\n",
       "      <td>2.864884</td>\n",
       "      <td>2.521116</td>\n",
       "      <td>2017</td>\n",
       "    </tr>\n",
       "  </tbody>\n",
       "</table>\n",
       "</div>"
      ],
      "text/plain": [
       "                      Country  Dystopia Residual   Economy    Family  \\\n",
       "468                   Burundi           1.683024  0.091623  0.629794   \n",
       "469  Central African Republic           2.066005  0.000000  0.000000   \n",
       "\n",
       "      Freedom  Generosity  Happiness Rank  Happiness Score    Health  \\\n",
       "468  0.059901    0.204435             154            2.905  0.151611   \n",
       "469  0.270842    0.280876             155            2.693  0.018773   \n",
       "\n",
       "     Lower Confidence Interval Region  Standard Error     Trust  \\\n",
       "468                        NaN    NaN             NaN  0.084148   \n",
       "469                        NaN    NaN             NaN  0.056565   \n",
       "\n",
       "     Upper Confidence Interval  Whisker.high  Whisker.low  year  \n",
       "468                        NaN      3.074690     2.735310  2017  \n",
       "469                        NaN      2.864884     2.521116  2017  "
      ]
     },
     "execution_count": 1137,
     "metadata": {},
     "output_type": "execute_result"
    }
   ],
   "source": [
    "unified_df_12.tail(2)"
   ]
  },
  {
   "cell_type": "code",
   "execution_count": 1138,
   "metadata": {},
   "outputs": [
    {
     "name": "stdout",
     "output_type": "stream",
     "text": [
      "[2015 2016 2017]\n",
      "(470, 17)\n",
      "<class 'pandas.core.frame.DataFrame'>\n",
      "RangeIndex: 470 entries, 0 to 469\n",
      "Data columns (total 17 columns):\n",
      "Country                      470 non-null object\n",
      "Dystopia Residual            470 non-null float64\n",
      "Economy                      470 non-null float64\n",
      "Family                       470 non-null float64\n",
      "Freedom                      470 non-null float64\n",
      "Generosity                   470 non-null float64\n",
      "Happiness Rank               470 non-null int64\n",
      "Happiness Score              470 non-null float64\n",
      "Health                       470 non-null float64\n",
      "Lower Confidence Interval    157 non-null float64\n",
      "Region                       315 non-null object\n",
      "Standard Error               158 non-null float64\n",
      "Trust                        470 non-null float64\n",
      "Upper Confidence Interval    157 non-null float64\n",
      "Whisker.high                 155 non-null float64\n",
      "Whisker.low                  155 non-null float64\n",
      "year                         470 non-null int64\n",
      "dtypes: float64(13), int64(2), object(2)\n",
      "memory usage: 62.5+ KB\n",
      "None\n"
     ]
    }
   ],
   "source": [
    "print(unified_df_12['year'].unique())\n",
    "print(unified_df_12.shape)\n",
    "print(unified_df_12.info())"
   ]
  },
  {
   "cell_type": "markdown",
   "metadata": {},
   "source": [
    "### Dealing with missing values."
   ]
  },
  {
   "cell_type": "code",
   "execution_count": 1139,
   "metadata": {},
   "outputs": [
    {
     "data": {
      "text/plain": [
       "Country                        0\n",
       "Dystopia Residual              0\n",
       "Economy                        0\n",
       "Family                         0\n",
       "Freedom                        0\n",
       "Generosity                     0\n",
       "Happiness Rank                 0\n",
       "Happiness Score                0\n",
       "Health                         0\n",
       "Lower Confidence Interval    313\n",
       "Region                       155\n",
       "Standard Error               312\n",
       "Trust                          0\n",
       "Upper Confidence Interval    313\n",
       "Whisker.high                 315\n",
       "Whisker.low                  315\n",
       "year                           0\n",
       "dtype: int64"
      ]
     },
     "execution_count": 1139,
     "metadata": {},
     "output_type": "execute_result"
    }
   ],
   "source": [
    "# Are there missing values?\n",
    "unified_df_12.isnull().sum()"
   ]
  },
  {
   "cell_type": "markdown",
   "metadata": {},
   "source": [
    "There are missing values. These can be visualized for further clarification."
   ]
  },
  {
   "cell_type": "code",
   "execution_count": 1140,
   "metadata": {},
   "outputs": [
    {
     "data": {
      "image/png": "[encoded data removed]",
      "text/plain": [
       "<Figure size 576x360 with 1 Axes>"
      ]
     },
     "metadata": {},
     "output_type": "display_data"
    }
   ],
   "source": [
    "# sns.set(rc={'figure.figsize':(12,6)})\n",
    "sns.set(rc={'figure.figsize':(8,5)})\n",
    "unified_df_12_indexed = unified_df_12.set_index('year')\n",
    "sns.heatmap(unified_df_12_indexed.isnull(), cbar=False, yticklabels=15, cmap=\"Paired\")\n",
    "plt.show()"
   ]
  },
  {
   "cell_type": "markdown",
   "metadata": {},
   "source": [
    "<p>\n",
    "The blue area represents the non missing values, the orange area represents the missing values.<br>\n",
    "Confidence, Region, Error are missing in 2017. Confidence is also missing in 2015. <br>\n",
    "Whiskers are missing 2015 and 2016.\n",
    "</p>\n",
    "<p>\n",
    "The goal here is to analyse the Happiness Score related to countries. <br>\n",
    "Immediately some columns with missing values are not necessary for this goal.<br>\n",
    "These columns can be dropped.\n",
    "</p>"
   ]
  },
  {
   "cell_type": "code",
   "execution_count": 1141,
   "metadata": {},
   "outputs": [],
   "source": [
    "# unified_df_12 = unified_df_12.copy()\n",
    "unified_df_12 = unified_df_12.drop(['Lower Confidence Interval', 'Upper Confidence Interval', \n",
    "                                       'Whisker.high', 'Whisker.low', 'Standard Error'], axis=1)"
   ]
  },
  {
   "cell_type": "code",
   "execution_count": 1142,
   "metadata": {},
   "outputs": [
    {
     "data": {
      "text/plain": [
       "Index(['Country', 'Dystopia Residual', 'Economy', 'Family', 'Freedom',\n",
       "       'Generosity', 'Happiness Rank', 'Happiness Score', 'Health', 'Region',\n",
       "       'Trust', 'year'],\n",
       "      dtype='object')"
      ]
     },
     "execution_count": 1142,
     "metadata": {},
     "output_type": "execute_result"
    }
   ],
   "source": [
    "unified_df_12.columns"
   ]
  },
  {
   "cell_type": "code",
   "execution_count": 1143,
   "metadata": {},
   "outputs": [
    {
     "data": {
      "text/plain": [
       "Country                0\n",
       "Dystopia Residual      0\n",
       "Economy                0\n",
       "Family                 0\n",
       "Freedom                0\n",
       "Generosity             0\n",
       "Happiness Rank         0\n",
       "Happiness Score        0\n",
       "Health                 0\n",
       "Region               155\n",
       "Trust                  0\n",
       "year                   0\n",
       "dtype: int64"
      ]
     },
     "execution_count": 1143,
     "metadata": {},
     "output_type": "execute_result"
    }
   ],
   "source": [
    "unified_df_12.isnull().sum()"
   ]
  },
  {
   "cell_type": "markdown",
   "metadata": {},
   "source": [
    "The region column still contains missing values.<br>\n",
    "The region column is essential for the goal of this analysis."
   ]
  },
  {
   "cell_type": "code",
   "execution_count": 1144,
   "metadata": {},
   "outputs": [
    {
     "name": "stdout",
     "output_type": "stream",
     "text": [
      "Index(['COUNTRY', 'DYSTOPIA_RESIDUAL', 'ECONOMY', 'FAMILY', 'FREEDOM',\n",
      "       'GENEROSITY', 'HAPPINESS_RANK', 'HAPPINESS_SCORE', 'HEALTH', 'REGION',\n",
      "       'TRUST', 'YEAR'],\n",
      "      dtype='object')\n",
      "Int64Index([  0,   1,   2,   3,   4,   5,   6,   7,   8,   9,\n",
      "            ...\n",
      "            460, 461, 462, 463, 464, 465, 466, 467, 468, 469],\n",
      "           dtype='int64', length=470)\n",
      "(470, 12)\n"
     ]
    }
   ],
   "source": [
    "unified_df_12.columns = unified_df_12.columns.str.upper().str.strip().str.replace(\" \", \"_\")\n",
    "print(unified_df_12.columns)\n",
    "print(unified_df_12.index.unique())\n",
    "print(unified_df_12.shape)"
   ]
  },
  {
   "cell_type": "code",
   "execution_count": 1145,
   "metadata": {},
   "outputs": [
    {
     "name": "stdout",
     "output_type": "stream",
     "text": [
      "REGION    0\n",
      "dtype: int64\n"
     ]
    }
   ],
   "source": [
    "region_15 = unified_df_12.loc[unified_df_12['YEAR']==2015, [\"REGION\"]]\n",
    "missing_15 = region_15.isnull().sum()\n",
    "print(missing_15)"
   ]
  },
  {
   "cell_type": "code",
   "execution_count": 1146,
   "metadata": {},
   "outputs": [
    {
     "name": "stdout",
     "output_type": "stream",
     "text": [
      "REGION    0\n",
      "dtype: int64\n"
     ]
    }
   ],
   "source": [
    "region_16 = unified_df_12.loc[unified_df_12['YEAR']==2016, [\"REGION\"]]\n",
    "missing_16 = region_16.isnull().sum()\n",
    "print(missing_16)"
   ]
  },
  {
   "cell_type": "code",
   "execution_count": 1147,
   "metadata": {},
   "outputs": [
    {
     "name": "stdout",
     "output_type": "stream",
     "text": [
      "REGION    155\n",
      "dtype: int64\n"
     ]
    }
   ],
   "source": [
    "region_17 = unified_df_12.loc[unified_df_12['YEAR']==2017, [\"REGION\"]]\n",
    "missing_17 = region_17.isnull().sum()\n",
    "print(missing_17)"
   ]
  },
  {
   "cell_type": "markdown",
   "metadata": {},
   "source": [
    "The missing values of REGION are all of 2017. How to fill in the name of the \n",
    "regions into the region column of 2017?"
   ]
  },
  {
   "cell_type": "code",
   "execution_count": 1148,
   "metadata": {},
   "outputs": [
    {
     "name": "stdout",
     "output_type": "stream",
     "text": [
      "       COUNTRY                           REGION\n",
      "0  Afghanistan                    Southern Asia\n",
      "1      Albania       Central and Eastern Europe\n",
      "2      Algeria  Middle East and Northern Africa\n",
      "3       Angola               Sub-Saharan Africa\n",
      "4    Argentina      Latin America and Caribbean\n",
      "(164, 2)\n"
     ]
    }
   ],
   "source": [
    "# happiness2015_234['year'], happiness2016_234['year']\n",
    "regions_known = pd.concat([happiness2015_234, happiness2016_234], join='outer', axis=0)\n",
    "regions_known.sort_values(\"Country\", inplace = True) \n",
    "regions_known = regions_known.drop_duplicates(subset='Country', keep='first').reset_index()\n",
    "regions_known = regions_known[['Country', 'Region']]\n",
    "regions_known.rename(columns={'Country':'COUNTRY', 'Region':'REGION'}, inplace=True)\n",
    "print(regions_known.head())\n",
    "print(regions_known.shape)\n",
    "\n"
   ]
  },
  {
   "cell_type": "markdown",
   "metadata": {},
   "source": [
    "Imputing nan of REGIONS with regions of 2015 and 2016 associated with COUNTRIES."
   ]
  },
  {
   "cell_type": "code",
   "execution_count": 1149,
   "metadata": {},
   "outputs": [
    {
     "data": {
      "text/html": [
       "<div>\n",
       "<style>\n",
       "    .dataframe thead tr:only-child th {\n",
       "        text-align: right;\n",
       "    }\n",
       "\n",
       "    .dataframe thead th {\n",
       "        text-align: left;\n",
       "    }\n",
       "\n",
       "    .dataframe tbody tr th {\n",
       "        vertical-align: top;\n",
       "    }\n",
       "</style>\n",
       "<table border=\"1\" class=\"dataframe\">\n",
       "  <thead>\n",
       "    <tr style=\"text-align: right;\">\n",
       "      <th></th>\n",
       "      <th>COUNTRY</th>\n",
       "      <th>DYSTOPIA_RESIDUAL</th>\n",
       "      <th>ECONOMY</th>\n",
       "      <th>FAMILY</th>\n",
       "      <th>FREEDOM</th>\n",
       "      <th>GENEROSITY</th>\n",
       "      <th>HAPPINESS_RANK</th>\n",
       "      <th>HAPPINESS_SCORE</th>\n",
       "      <th>HEALTH</th>\n",
       "      <th>REGION_x</th>\n",
       "      <th>TRUST</th>\n",
       "      <th>YEAR</th>\n",
       "      <th>REGION_y</th>\n",
       "    </tr>\n",
       "  </thead>\n",
       "  <tbody>\n",
       "    <tr>\n",
       "      <th>141</th>\n",
       "      <td>Switzerland</td>\n",
       "      <td>2.51738</td>\n",
       "      <td>1.39651</td>\n",
       "      <td>1.34951</td>\n",
       "      <td>0.66557</td>\n",
       "      <td>0.29678</td>\n",
       "      <td>1</td>\n",
       "      <td>7.587</td>\n",
       "      <td>0.94143</td>\n",
       "      <td>Western Europe</td>\n",
       "      <td>0.41978</td>\n",
       "      <td>2015</td>\n",
       "      <td>Western Europe</td>\n",
       "    </tr>\n",
       "  </tbody>\n",
       "</table>\n",
       "</div>"
      ],
      "text/plain": [
       "         COUNTRY  DYSTOPIA_RESIDUAL  ECONOMY   FAMILY  FREEDOM  GENEROSITY  \\\n",
       "141  Switzerland            2.51738  1.39651  1.34951  0.66557     0.29678   \n",
       "\n",
       "     HAPPINESS_RANK  HAPPINESS_SCORE   HEALTH        REGION_x    TRUST  YEAR  \\\n",
       "141               1            7.587  0.94143  Western Europe  0.41978  2015   \n",
       "\n",
       "           REGION_y  \n",
       "141  Western Europe  "
      ]
     },
     "execution_count": 1149,
     "metadata": {},
     "output_type": "execute_result"
    }
   ],
   "source": [
    "unified_all_regions = pd.merge(left=unified_df_12, right=regions_known, on = 'COUNTRY', \n",
    "                               how='left', left_index=True)\n",
    "\n",
    "\n",
    "unified_all_regions.head(1)"
   ]
  },
  {
   "cell_type": "code",
   "execution_count": 1150,
   "metadata": {},
   "outputs": [
    {
     "data": {
      "text/html": [
       "<div>\n",
       "<style>\n",
       "    .dataframe thead tr:only-child th {\n",
       "        text-align: right;\n",
       "    }\n",
       "\n",
       "    .dataframe thead th {\n",
       "        text-align: left;\n",
       "    }\n",
       "\n",
       "    .dataframe tbody tr th {\n",
       "        vertical-align: top;\n",
       "    }\n",
       "</style>\n",
       "<table border=\"1\" class=\"dataframe\">\n",
       "  <thead>\n",
       "    <tr style=\"text-align: right;\">\n",
       "      <th></th>\n",
       "      <th>COUNTRY</th>\n",
       "      <th>DYSTOPIA_RESIDUAL</th>\n",
       "      <th>ECONOMY</th>\n",
       "      <th>FAMILY</th>\n",
       "      <th>FREEDOM</th>\n",
       "      <th>GENEROSITY</th>\n",
       "      <th>HAPPINESS_RANK</th>\n",
       "      <th>HAPPINESS_SCORE</th>\n",
       "      <th>HEALTH</th>\n",
       "      <th>REGION_x</th>\n",
       "      <th>TRUST</th>\n",
       "      <th>YEAR</th>\n",
       "      <th>REGION_y</th>\n",
       "    </tr>\n",
       "  </thead>\n",
       "  <tbody>\n",
       "    <tr>\n",
       "      <th>0</th>\n",
       "      <td>Switzerland</td>\n",
       "      <td>2.51738</td>\n",
       "      <td>1.39651</td>\n",
       "      <td>1.34951</td>\n",
       "      <td>0.66557</td>\n",
       "      <td>0.29678</td>\n",
       "      <td>1</td>\n",
       "      <td>7.587</td>\n",
       "      <td>0.94143</td>\n",
       "      <td>Western Europe</td>\n",
       "      <td>0.41978</td>\n",
       "      <td>2015</td>\n",
       "      <td>Western Europe</td>\n",
       "    </tr>\n",
       "    <tr>\n",
       "      <th>1</th>\n",
       "      <td>Iceland</td>\n",
       "      <td>2.70201</td>\n",
       "      <td>1.30232</td>\n",
       "      <td>1.40223</td>\n",
       "      <td>0.62877</td>\n",
       "      <td>0.43630</td>\n",
       "      <td>2</td>\n",
       "      <td>7.561</td>\n",
       "      <td>0.94784</td>\n",
       "      <td>Western Europe</td>\n",
       "      <td>0.14145</td>\n",
       "      <td>2015</td>\n",
       "      <td>Western Europe</td>\n",
       "    </tr>\n",
       "  </tbody>\n",
       "</table>\n",
       "</div>"
      ],
      "text/plain": [
       "       COUNTRY  DYSTOPIA_RESIDUAL  ECONOMY   FAMILY  FREEDOM  GENEROSITY  \\\n",
       "0  Switzerland            2.51738  1.39651  1.34951  0.66557     0.29678   \n",
       "1      Iceland            2.70201  1.30232  1.40223  0.62877     0.43630   \n",
       "\n",
       "   HAPPINESS_RANK  HAPPINESS_SCORE   HEALTH        REGION_x    TRUST  YEAR  \\\n",
       "0               1            7.587  0.94143  Western Europe  0.41978  2015   \n",
       "1               2            7.561  0.94784  Western Europe  0.14145  2015   \n",
       "\n",
       "         REGION_y  \n",
       "0  Western Europe  \n",
       "1  Western Europe  "
      ]
     },
     "execution_count": 1150,
     "metadata": {},
     "output_type": "execute_result"
    }
   ],
   "source": [
    "unified_all_regions.reset_index(inplace=True, drop=True)\n",
    "unified_all_regions.head(2)"
   ]
  },
  {
   "cell_type": "code",
   "execution_count": 1151,
   "metadata": {},
   "outputs": [
    {
     "name": "stdout",
     "output_type": "stream",
     "text": [
      "Index(['COUNTRY', 'DYSTOPIA_RESIDUAL', 'ECONOMY', 'FAMILY', 'FREEDOM',\n",
      "       'GENEROSITY', 'HAPPINESS_RANK', 'HAPPINESS_SCORE', 'HEALTH', 'REGION_x',\n",
      "       'TRUST', 'YEAR', 'REGION_y'],\n",
      "      dtype='object')\n",
      "COUNTRY                0\n",
      "DYSTOPIA_RESIDUAL      0\n",
      "ECONOMY                0\n",
      "FAMILY                 0\n",
      "FREEDOM                0\n",
      "GENEROSITY             0\n",
      "HAPPINESS_RANK         0\n",
      "HAPPINESS_SCORE        0\n",
      "HEALTH                 0\n",
      "REGION_x             155\n",
      "TRUST                  0\n",
      "YEAR                   0\n",
      "REGION_y               2\n",
      "dtype: int64\n",
      "(470, 13)\n",
      "[2015 2016 2017]\n"
     ]
    }
   ],
   "source": [
    "print(unified_all_regions.columns)\n",
    "print(unified_all_regions.isnull().sum())\n",
    "print(unified_all_regions.shape)\n",
    "print(unified_all_regions['YEAR'].unique())"
   ]
  },
  {
   "cell_type": "code",
   "execution_count": 1152,
   "metadata": {},
   "outputs": [],
   "source": [
    "unified_all_regions =unified_all_regions.drop('REGION_x', axis=1)\n",
    "unified_all_regions.rename(columns={'REGION_y':'REGION'}, inplace=True)\n"
   ]
  },
  {
   "cell_type": "markdown",
   "metadata": {},
   "source": [
    "Still 2 null values in REGION_y. There maybe two countries in 2017, which are not in 2015 and 2016."
   ]
  },
  {
   "cell_type": "code",
   "execution_count": 1153,
   "metadata": {},
   "outputs": [
    {
     "data": {
      "text/html": [
       "<div>\n",
       "<style>\n",
       "    .dataframe thead tr:only-child th {\n",
       "        text-align: right;\n",
       "    }\n",
       "\n",
       "    .dataframe thead th {\n",
       "        text-align: left;\n",
       "    }\n",
       "\n",
       "    .dataframe tbody tr th {\n",
       "        vertical-align: top;\n",
       "    }\n",
       "</style>\n",
       "<table border=\"1\" class=\"dataframe\">\n",
       "  <thead>\n",
       "    <tr style=\"text-align: right;\">\n",
       "      <th></th>\n",
       "      <th>COUNTRY</th>\n",
       "      <th>DYSTOPIA_RESIDUAL</th>\n",
       "      <th>ECONOMY</th>\n",
       "      <th>FAMILY</th>\n",
       "      <th>FREEDOM</th>\n",
       "      <th>GENEROSITY</th>\n",
       "      <th>HAPPINESS_RANK</th>\n",
       "      <th>HAPPINESS_SCORE</th>\n",
       "      <th>HEALTH</th>\n",
       "      <th>TRUST</th>\n",
       "      <th>YEAR</th>\n",
       "      <th>REGION</th>\n",
       "    </tr>\n",
       "  </thead>\n",
       "  <tbody>\n",
       "    <tr>\n",
       "      <th>0</th>\n",
       "      <td>Switzerland</td>\n",
       "      <td>2.51738</td>\n",
       "      <td>1.39651</td>\n",
       "      <td>1.34951</td>\n",
       "      <td>0.66557</td>\n",
       "      <td>0.29678</td>\n",
       "      <td>1</td>\n",
       "      <td>7.587</td>\n",
       "      <td>0.94143</td>\n",
       "      <td>0.41978</td>\n",
       "      <td>2015</td>\n",
       "      <td>Western Europe</td>\n",
       "    </tr>\n",
       "  </tbody>\n",
       "</table>\n",
       "</div>"
      ],
      "text/plain": [
       "       COUNTRY  DYSTOPIA_RESIDUAL  ECONOMY   FAMILY  FREEDOM  GENEROSITY  \\\n",
       "0  Switzerland            2.51738  1.39651  1.34951  0.66557     0.29678   \n",
       "\n",
       "   HAPPINESS_RANK  HAPPINESS_SCORE   HEALTH    TRUST  YEAR          REGION  \n",
       "0               1            7.587  0.94143  0.41978  2015  Western Europe  "
      ]
     },
     "execution_count": 1153,
     "metadata": {},
     "output_type": "execute_result"
    }
   ],
   "source": [
    "unified_all_regions.head(1)"
   ]
  },
  {
   "cell_type": "code",
   "execution_count": 1154,
   "metadata": {},
   "outputs": [
    {
     "name": "stdout",
     "output_type": "stream",
     "text": [
      "(470, 12)\n",
      "Int64Index([  0,   1,   2,   3,   4,   5,   6,   7,   8,   9,\n",
      "            ...\n",
      "            460, 461, 462, 463, 464, 465, 466, 467, 468, 469],\n",
      "           dtype='int64', length=470)\n",
      "[2015 2016 2017]\n"
     ]
    }
   ],
   "source": [
    "print(unified_all_regions.shape)\n",
    "print(unified_all_regions.index.unique())\n",
    "print(unified_all_regions['YEAR'].unique())"
   ]
  },
  {
   "cell_type": "code",
   "execution_count": 1155,
   "metadata": {},
   "outputs": [
    {
     "data": {
      "text/html": [
       "<div>\n",
       "<style>\n",
       "    .dataframe thead tr:only-child th {\n",
       "        text-align: right;\n",
       "    }\n",
       "\n",
       "    .dataframe thead th {\n",
       "        text-align: left;\n",
       "    }\n",
       "\n",
       "    .dataframe tbody tr th {\n",
       "        vertical-align: top;\n",
       "    }\n",
       "</style>\n",
       "<table border=\"1\" class=\"dataframe\">\n",
       "  <thead>\n",
       "    <tr style=\"text-align: right;\">\n",
       "      <th></th>\n",
       "      <th>COUNTRY</th>\n",
       "      <th>REGION</th>\n",
       "    </tr>\n",
       "  </thead>\n",
       "  <tbody>\n",
       "    <tr>\n",
       "      <th>347</th>\n",
       "      <td>Taiwan Province of China</td>\n",
       "      <td>NaN</td>\n",
       "    </tr>\n",
       "    <tr>\n",
       "      <th>385</th>\n",
       "      <td>Hong Kong S.A.R., China</td>\n",
       "      <td>NaN</td>\n",
       "    </tr>\n",
       "  </tbody>\n",
       "</table>\n",
       "</div>"
      ],
      "text/plain": [
       "                      COUNTRY REGION\n",
       "347  Taiwan Province of China    NaN\n",
       "385   Hong Kong S.A.R., China    NaN"
      ]
     },
     "execution_count": 1155,
     "metadata": {},
     "output_type": "execute_result"
    }
   ],
   "source": [
    "additional_countries_2017 = unified_all_regions.loc[unified_all_regions['REGION'].isnull(), ['COUNTRY', 'REGION']]\n",
    "additional_countries_2017"
   ]
  },
  {
   "cell_type": "code",
   "execution_count": 1156,
   "metadata": {},
   "outputs": [
    {
     "data": {
      "text/html": [
       "<div>\n",
       "<style>\n",
       "    .dataframe thead tr:only-child th {\n",
       "        text-align: right;\n",
       "    }\n",
       "\n",
       "    .dataframe thead th {\n",
       "        text-align: left;\n",
       "    }\n",
       "\n",
       "    .dataframe tbody tr th {\n",
       "        vertical-align: top;\n",
       "    }\n",
       "</style>\n",
       "<table border=\"1\" class=\"dataframe\">\n",
       "  <thead>\n",
       "    <tr style=\"text-align: right;\">\n",
       "      <th></th>\n",
       "      <th>COUNTRY</th>\n",
       "      <th>DYSTOPIA_RESIDUAL</th>\n",
       "      <th>ECONOMY</th>\n",
       "      <th>FAMILY</th>\n",
       "      <th>FREEDOM</th>\n",
       "      <th>GENEROSITY</th>\n",
       "      <th>HAPPINESS_RANK</th>\n",
       "      <th>HAPPINESS_SCORE</th>\n",
       "      <th>HEALTH</th>\n",
       "      <th>TRUST</th>\n",
       "      <th>YEAR</th>\n",
       "      <th>REGION</th>\n",
       "    </tr>\n",
       "  </thead>\n",
       "  <tbody>\n",
       "    <tr>\n",
       "      <th>37</th>\n",
       "      <td>Taiwan</td>\n",
       "      <td>2.323230</td>\n",
       "      <td>1.290980</td>\n",
       "      <td>1.076170</td>\n",
       "      <td>0.397400</td>\n",
       "      <td>0.25376</td>\n",
       "      <td>38</td>\n",
       "      <td>6.298</td>\n",
       "      <td>0.875300</td>\n",
       "      <td>0.081290</td>\n",
       "      <td>2015</td>\n",
       "      <td>Eastern Asia</td>\n",
       "    </tr>\n",
       "    <tr>\n",
       "      <th>192</th>\n",
       "      <td>Taiwan</td>\n",
       "      <td>2.615230</td>\n",
       "      <td>1.397290</td>\n",
       "      <td>0.926240</td>\n",
       "      <td>0.323770</td>\n",
       "      <td>0.25495</td>\n",
       "      <td>34</td>\n",
       "      <td>6.379</td>\n",
       "      <td>0.795650</td>\n",
       "      <td>0.066300</td>\n",
       "      <td>2016</td>\n",
       "      <td>Eastern Asia</td>\n",
       "    </tr>\n",
       "    <tr>\n",
       "      <th>347</th>\n",
       "      <td>Taiwan Province of China</td>\n",
       "      <td>2.126607</td>\n",
       "      <td>1.433627</td>\n",
       "      <td>1.384565</td>\n",
       "      <td>0.361467</td>\n",
       "      <td>0.25836</td>\n",
       "      <td>33</td>\n",
       "      <td>6.422</td>\n",
       "      <td>0.793984</td>\n",
       "      <td>0.063829</td>\n",
       "      <td>2017</td>\n",
       "      <td>NaN</td>\n",
       "    </tr>\n",
       "  </tbody>\n",
       "</table>\n",
       "</div>"
      ],
      "text/plain": [
       "                      COUNTRY  DYSTOPIA_RESIDUAL   ECONOMY    FAMILY  \\\n",
       "37                     Taiwan           2.323230  1.290980  1.076170   \n",
       "192                    Taiwan           2.615230  1.397290  0.926240   \n",
       "347  Taiwan Province of China           2.126607  1.433627  1.384565   \n",
       "\n",
       "      FREEDOM  GENEROSITY  HAPPINESS_RANK  HAPPINESS_SCORE    HEALTH  \\\n",
       "37   0.397400     0.25376              38            6.298  0.875300   \n",
       "192  0.323770     0.25495              34            6.379  0.795650   \n",
       "347  0.361467     0.25836              33            6.422  0.793984   \n",
       "\n",
       "        TRUST  YEAR        REGION  \n",
       "37   0.081290  2015  Eastern Asia  \n",
       "192  0.066300  2016  Eastern Asia  \n",
       "347  0.063829  2017           NaN  "
      ]
     },
     "execution_count": 1156,
     "metadata": {},
     "output_type": "execute_result"
    }
   ],
   "source": [
    "taiwan_1 = unified_all_regions[unified_all_regions['COUNTRY'].str.contains('^Taiwan')]\n",
    "taiwan_1"
   ]
  },
  {
   "cell_type": "markdown",
   "metadata": {},
   "source": [
    "In 2017 Taiwan is called Taiwan Province of China. Not being political \n",
    "Taiwan Province of China 2017 is renamed to Taiwan."
   ]
  },
  {
   "cell_type": "code",
   "execution_count": 1157,
   "metadata": {},
   "outputs": [],
   "source": [
    "unified_all_regions.loc[347,'COUNTRY'] = 'Taiwan'\n",
    "unified_all_regions.loc[347,'REGION'] = 'Eastern Asia'\n",
    "# print(unified_all_regions[unified_all_regions['COUNTRY'].str.contains('^Taiwan')])"
   ]
  },
  {
   "cell_type": "code",
   "execution_count": 1158,
   "metadata": {},
   "outputs": [
    {
     "data": {
      "text/plain": [
       "71                   Hong Kong\n",
       "232                  Hong Kong\n",
       "385    Hong Kong S.A.R., China\n",
       "Name: COUNTRY, dtype: object"
      ]
     },
     "execution_count": 1158,
     "metadata": {},
     "output_type": "execute_result"
    }
   ],
   "source": [
    "hongkong_1 = unified_all_regions[unified_all_regions['COUNTRY'].str.contains('^Hong Kong')]\n",
    "hongkong_1['COUNTRY']"
   ]
  },
  {
   "cell_type": "markdown",
   "metadata": {},
   "source": [
    "Similar to Taiwan."
   ]
  },
  {
   "cell_type": "code",
   "execution_count": 1159,
   "metadata": {},
   "outputs": [],
   "source": [
    "unified_all_regions.loc[385,'COUNTRY'] = 'Hong Kong'\n",
    "unified_all_regions.loc[385,'REGION'] = 'Eastern Asia'"
   ]
  },
  {
   "cell_type": "code",
   "execution_count": 1160,
   "metadata": {},
   "outputs": [
    {
     "name": "stdout",
     "output_type": "stream",
     "text": [
      "COUNTRY              0\n",
      "DYSTOPIA_RESIDUAL    0\n",
      "ECONOMY              0\n",
      "FAMILY               0\n",
      "FREEDOM              0\n",
      "GENEROSITY           0\n",
      "HAPPINESS_RANK       0\n",
      "HAPPINESS_SCORE      0\n",
      "HEALTH               0\n",
      "TRUST                0\n",
      "YEAR                 0\n",
      "REGION               0\n",
      "dtype: int64\n"
     ]
    }
   ],
   "source": [
    "print(unified_all_regions.isnull().sum())"
   ]
  },
  {
   "cell_type": "code",
   "execution_count": 1161,
   "metadata": {},
   "outputs": [
    {
     "data": {
      "text/html": [
       "<div>\n",
       "<style>\n",
       "    .dataframe thead tr:only-child th {\n",
       "        text-align: right;\n",
       "    }\n",
       "\n",
       "    .dataframe thead th {\n",
       "        text-align: left;\n",
       "    }\n",
       "\n",
       "    .dataframe tbody tr th {\n",
       "        vertical-align: top;\n",
       "    }\n",
       "</style>\n",
       "<table border=\"1\" class=\"dataframe\">\n",
       "  <thead>\n",
       "    <tr style=\"text-align: right;\">\n",
       "      <th></th>\n",
       "      <th>COUNTRY</th>\n",
       "      <th>DYSTOPIA_RESIDUAL</th>\n",
       "      <th>ECONOMY</th>\n",
       "      <th>FAMILY</th>\n",
       "      <th>FREEDOM</th>\n",
       "      <th>GENEROSITY</th>\n",
       "      <th>HAPPINESS_RANK</th>\n",
       "      <th>HAPPINESS_SCORE</th>\n",
       "      <th>HEALTH</th>\n",
       "      <th>TRUST</th>\n",
       "      <th>YEAR</th>\n",
       "      <th>REGION</th>\n",
       "    </tr>\n",
       "  </thead>\n",
       "  <tbody>\n",
       "    <tr>\n",
       "      <th>0</th>\n",
       "      <td>Switzerland</td>\n",
       "      <td>2.51738</td>\n",
       "      <td>1.39651</td>\n",
       "      <td>1.34951</td>\n",
       "      <td>0.66557</td>\n",
       "      <td>0.29678</td>\n",
       "      <td>1</td>\n",
       "      <td>7.587</td>\n",
       "      <td>0.94143</td>\n",
       "      <td>0.41978</td>\n",
       "      <td>2015</td>\n",
       "      <td>Western Europe</td>\n",
       "    </tr>\n",
       "    <tr>\n",
       "      <th>1</th>\n",
       "      <td>Iceland</td>\n",
       "      <td>2.70201</td>\n",
       "      <td>1.30232</td>\n",
       "      <td>1.40223</td>\n",
       "      <td>0.62877</td>\n",
       "      <td>0.43630</td>\n",
       "      <td>2</td>\n",
       "      <td>7.561</td>\n",
       "      <td>0.94784</td>\n",
       "      <td>0.14145</td>\n",
       "      <td>2015</td>\n",
       "      <td>Western Europe</td>\n",
       "    </tr>\n",
       "  </tbody>\n",
       "</table>\n",
       "</div>"
      ],
      "text/plain": [
       "       COUNTRY  DYSTOPIA_RESIDUAL  ECONOMY   FAMILY  FREEDOM  GENEROSITY  \\\n",
       "0  Switzerland            2.51738  1.39651  1.34951  0.66557     0.29678   \n",
       "1      Iceland            2.70201  1.30232  1.40223  0.62877     0.43630   \n",
       "\n",
       "   HAPPINESS_RANK  HAPPINESS_SCORE   HEALTH    TRUST  YEAR          REGION  \n",
       "0               1            7.587  0.94143  0.41978  2015  Western Europe  \n",
       "1               2            7.561  0.94784  0.14145  2015  Western Europe  "
      ]
     },
     "execution_count": 1161,
     "metadata": {},
     "output_type": "execute_result"
    }
   ],
   "source": [
    "unified_all_regions.head(2)"
   ]
  },
  {
   "cell_type": "markdown",
   "metadata": {},
   "source": [
    "The null values in REGION are gone."
   ]
  },
  {
   "cell_type": "code",
   "execution_count": 1162,
   "metadata": {},
   "outputs": [
    {
     "data": {
      "text/html": [
       "<div>\n",
       "<style>\n",
       "    .dataframe thead tr:only-child th {\n",
       "        text-align: right;\n",
       "    }\n",
       "\n",
       "    .dataframe thead th {\n",
       "        text-align: left;\n",
       "    }\n",
       "\n",
       "    .dataframe tbody tr th {\n",
       "        vertical-align: top;\n",
       "    }\n",
       "</style>\n",
       "<table border=\"1\" class=\"dataframe\">\n",
       "  <thead>\n",
       "    <tr style=\"text-align: right;\">\n",
       "      <th></th>\n",
       "      <th>COUNTRY</th>\n",
       "      <th>YEAR</th>\n",
       "    </tr>\n",
       "  </thead>\n",
       "  <tbody>\n",
       "  </tbody>\n",
       "</table>\n",
       "</div>"
      ],
      "text/plain": [
       "Empty DataFrame\n",
       "Columns: [COUNTRY, YEAR]\n",
       "Index: []"
      ]
     },
     "execution_count": 1162,
     "metadata": {},
     "output_type": "execute_result"
    }
   ],
   "source": [
    "# Check for dupliates\n",
    "\n",
    "duplicates_1 = unified_all_regions.duplicated(['COUNTRY', 'YEAR'])\n",
    "unified_all_regions.loc[duplicates_1, ['COUNTRY', 'YEAR']]"
   ]
  },
  {
   "cell_type": "markdown",
   "metadata": {},
   "source": [
    "There are none duplicates of countries in any year."
   ]
  }
 ],
 "metadata": {
  "kernelspec": {
   "display_name": "Python 3",
   "language": "python",
   "name": "python3"
  },
  "language_info": {
   "codemirror_mode": {
    "name": "ipython",
    "version": 3
   },
   "file_extension": ".py",
   "mimetype": "text/x-python",
   "name": "python",
   "nbconvert_exporter": "python",
   "pygments_lexer": "ipython3",
   "version": "3.6.8"
  }
 },
 "nbformat": 4,
 "nbformat_minor": 2
}
